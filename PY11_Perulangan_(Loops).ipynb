{
 "cells": [
  {
   "cell_type": "markdown",
   "metadata": {},
   "source": [
    "<img src=\"../images/ilmudatapy-logo.png\" width=\"350\" align=\"center\">\n",
    "<br>"
   ]
  },
  {
   "cell_type": "markdown",
   "metadata": {},
   "source": [
    "<center><h1>Perulangan / Loop</h1></center>\n",
    "<hr>"
   ]
  },
  {
   "cell_type": "markdown",
   "metadata": {},
   "source": [
    "__Halo, Learners!__ Di notebook ini, kita akan belajar tentang perulangan di bahasa pemrograman Python, yakni perulangan dengan menggunakan __for__ dan __while__, serta juga akan dibahas tentang nested loop."
   ]
  },
  {
   "cell_type": "markdown",
   "metadata": {},
   "source": [
    "<h2>Table of Contents</h2>\n",
    "<div class=\"alert alert-block alert-info\" style=\"margin-top: 25px\">\n",
    "    <ul>\n",
    "        <li>\n",
    "            Apa itu Perulangan / loops ?\n",
    "        </li>\n",
    "        <li>\n",
    "            Perulangan <b>for</b>\n",
    "            <ul>\n",
    "                <li>Iterasi dengan <code>range()</code></li>\n",
    "                <li>Iterasi pada list</li>\n",
    "                <li>Mengambil index dan value dari list dengan <code>enumerate()</code></li>\n",
    "            </ul>\n",
    "        </li>\n",
    "        <li>\n",
    "            Perulangan <b>while</b>\n",
    "        </li>\n",
    "        <li>\n",
    "            Menghentikan proses looping dengan <code>break</code>\n",
    "        </li>\n",
    "        <li>\n",
    "            Nested loop\n",
    "        </li>\n",
    "        <li>\n",
    "            Latihan: Perulangan / Loop\n",
    "        </li>\n",
    "    </ul>\n",
    "</div>"
   ]
  },
  {
   "cell_type": "markdown",
   "metadata": {},
   "source": [
    "<hr>\n",
    "<div class=\"alert alert-success\" style=\"margin-top: 20px\">\n",
    "    <strong>Catatan:</strong> Untuk menjalankan kode program Python di Jupyter Notebook, klik pada <i>cell</i> yang ingin di-<i>run</i> lalu tekan <kbd>Shift</kbd> + <kbd>Enter</kbd>.\n",
    "</div>\n",
    "<hr>"
   ]
  },
  {
   "cell_type": "markdown",
   "metadata": {},
   "source": [
    "## Apa itu Perulangan / Loop?"
   ]
  },
  {
   "cell_type": "markdown",
   "metadata": {},
   "source": [
    "Saat membuat kode program, adakalanya kita ingin mengulang proses atau operasi tertentu beberapa kali. Nah, mengulang proses yang sama seperti ini dapat dilakukan dengan perulangan. Ada dua metode perulangan yang dapat digunakan di Python yaitu menggunakan __for__ dan __while__. "
   ]
  },
  {
   "cell_type": "markdown",
   "metadata": {},
   "source": [
    "<hr>"
   ]
  },
  {
   "cell_type": "markdown",
   "metadata": {},
   "source": [
    "## Perulangan dengan <code>for</code> "
   ]
  },
  {
   "cell_type": "markdown",
   "metadata": {},
   "source": [
    "Untuk melakukan proses perulangan, kita dapat menggunakan <b>for</b>. Jika kita mengetahui iterasi yang akan dieksekusi, misalnya 10 kali, 100 kali, dsb."
   ]
  },
  {
   "cell_type": "markdown",
   "metadata": {},
   "source": [
    "### Iterasi dengan <code>range()</code>"
   ]
  },
  {
   "cell_type": "markdown",
   "metadata": {},
   "source": [
    "<code>range()</code> adalah <i>built-in function</i> pada Python untuk menghasilkan angka yang berurutan. \n",
    "\n",
    "Misalnya, <code>range(10)</code> akan menghasilkan angka <code>0, 1, 2, 3, 4, 5, 6, 7, 8, 9</code>."
   ]
  },
  {
   "cell_type": "code",
   "execution_count": null,
   "metadata": {},
   "outputs": [],
   "source": [
    "# Contoh penggunaan for dengan range()\n",
    "\n",
    "for i in range(10):\n",
    "    print(i)"
   ]
  },
  {
   "cell_type": "markdown",
   "metadata": {},
   "source": [
    "<img src=\"../images/loop-for.png\" width=\"600\" align=\"center\">"
   ]
  },
  {
   "cell_type": "markdown",
   "metadata": {},
   "source": [
    "Kita juga dapat menentukan awal dan akhir angka yang diinginkan. Misalnya <code>range(3, 7)</code> akan menghasilkan angka <code>3, 4, 5, 6</code>."
   ]
  },
  {
   "cell_type": "code",
   "execution_count": null,
   "metadata": {},
   "outputs": [],
   "source": [
    "# Contoh penggunaan for dengan range()\n",
    "\n",
    "for i in range(3, 7):\n",
    "    print(i)"
   ]
  },
  {
   "cell_type": "markdown",
   "metadata": {},
   "source": [
    "Perhatikan contoh lain untuk penggunaan __for__."
   ]
  },
  {
   "cell_type": "code",
   "execution_count": null,
   "metadata": {},
   "outputs": [],
   "source": [
    "x = 100\n",
    "\n",
    "for i in range(5):\n",
    "    x = x + i\n",
    "    print(x)"
   ]
  },
  {
   "cell_type": "markdown",
   "metadata": {},
   "source": [
    "### Iterasi pada list"
   ]
  },
  {
   "cell_type": "markdown",
   "metadata": {},
   "source": [
    "Kita juga dapat melakukan iterasi pada list. Perhatikan contoh berikut."
   ]
  },
  {
   "cell_type": "code",
   "execution_count": null,
   "metadata": {},
   "outputs": [],
   "source": [
    "hari = ['senin', 'selasa', 'rabu', 'kamis', 'jumat', 'sabtu', 'minggu']\n",
    "\n",
    "for i in hari:\n",
    "    print(i)"
   ]
  },
  {
   "cell_type": "markdown",
   "metadata": {},
   "source": [
    "### Mengambil index dan value dari list dengan <code>enumerate()</code>"
   ]
  },
  {
   "cell_type": "markdown",
   "metadata": {},
   "source": [
    "Untuk mengambil <i>index</i> dan <i>value</i> dari sebuah list, kita dapat menggunakan <i>built-in function</i> <code>enumerate()</code>. Perhatikan contoh berikut."
   ]
  },
  {
   "cell_type": "code",
   "execution_count": null,
   "metadata": {},
   "outputs": [],
   "source": [
    "balon = ['merah', 'kuning', 'hijau', 'biru']\n",
    "\n",
    "for index, value in enumerate(balon):\n",
    "    print(index, value)"
   ]
  },
  {
   "cell_type": "markdown",
   "metadata": {},
   "source": [
    "<hr>"
   ]
  },
  {
   "cell_type": "markdown",
   "metadata": {},
   "source": [
    "## Perulangan dengan <code>while</code>"
   ]
  },
  {
   "cell_type": "markdown",
   "metadata": {},
   "source": [
    "Jika kita tidak mengetahui jumlah iterasi yang harus dilakukan, pilihan terbaik adalah dengan menggunakan __while__. Alih-alih mendefinisikan berapa banyak iterasi yang harus dieksekusi, __while__ mengharuskan kita mendefinisikan pada kondisi apa <i>looping</i> harus berhenti. Perhatikan contoh berikut."
   ]
  },
  {
   "cell_type": "code",
   "execution_count": null,
   "metadata": {},
   "outputs": [],
   "source": [
    "n = [10, 20, 30, 40, 50]\n",
    "\n",
    "i = 0\n",
    "bil = 0\n",
    "\n",
    "while (bil < 40):\n",
    "    bil = n[i]\n",
    "    i = i + 1\n",
    "    print(bil)"
   ]
  },
  {
   "cell_type": "markdown",
   "metadata": {},
   "source": [
    "Pada contoh di atas, kita definisikan <i>looping</i> harus berhenti jika <code>bil < 40 </code>."
   ]
  },
  {
   "cell_type": "markdown",
   "metadata": {},
   "source": [
    "<img src=\"../images/loop-while.png\" width=\"800\" align=\"center\">"
   ]
  },
  {
   "cell_type": "markdown",
   "metadata": {},
   "source": [
    "Perhatikan contoh yang lainnya di bawah ini."
   ]
  },
  {
   "cell_type": "code",
   "execution_count": null,
   "metadata": {},
   "outputs": [],
   "source": [
    "hari = ['senin', 'selasa', 'rabu', 'kamis', 'jumat', 'sabtu', 'minggu']\n",
    "\n",
    "i = 0\n",
    "hari_kerja = hari[i]\n",
    "\n",
    "while (hari_kerja != 'sabtu'):\n",
    "    print(hari_kerja)\n",
    "    i = i + 1\n",
    "    hari_kerja = hari[i]"
   ]
  },
  {
   "cell_type": "markdown",
   "metadata": {},
   "source": [
    "<hr>"
   ]
  },
  {
   "cell_type": "markdown",
   "metadata": {},
   "source": [
    "## Menghentikan proses looping dengan <code>break</code>"
   ]
  },
  {
   "cell_type": "markdown",
   "metadata": {},
   "source": [
    "Kita juga dapat menghentikan proses iterasi secara paksa dengan <code>break</code>. Cara ini dapat digunakan baik pada __for__ maupun __while__."
   ]
  },
  {
   "cell_type": "code",
   "execution_count": null,
   "metadata": {},
   "outputs": [],
   "source": [
    "# Contoh penggunaan break pada for\n",
    "\n",
    "hari = ['senin', 'selasa', 'rabu', 'kamis', 'jumat', 'sabtu', 'minggu']\n",
    "\n",
    "for i in hari:\n",
    "    print(i)\n",
    "    if (i == 'rabu'):\n",
    "        break;"
   ]
  },
  {
   "cell_type": "markdown",
   "metadata": {},
   "source": [
    "Contoh <code>break</code> pada __while__."
   ]
  },
  {
   "cell_type": "code",
   "execution_count": null,
   "metadata": {},
   "outputs": [],
   "source": [
    "# Contoh penggunaan break pada while\n",
    "\n",
    "hari = ['senin', 'selasa', 'rabu', 'kamis', 'jumat', 'sabtu', 'minggu']\n",
    "\n",
    "i = 0\n",
    "hari_kerja = hari[i]\n",
    "\n",
    "while (hari_kerja != 'sabtu'):\n",
    "    print(hari_kerja)\n",
    "    i = i + 1\n",
    "    hari_kerja = hari[i]\n",
    "    if (hari_kerja == 'rabu'):\n",
    "        break;"
   ]
  },
  {
   "cell_type": "markdown",
   "metadata": {},
   "source": [
    "<hr>"
   ]
  },
  {
   "cell_type": "markdown",
   "metadata": {},
   "source": [
    "## Nested Loop"
   ]
  },
  {
   "cell_type": "markdown",
   "metadata": {},
   "source": [
    "<i>Nested loop</i> adalah <i>looping</i> di dalam <i>looping</i> atau perulangan bersarang. Perhatikan contoh berikut."
   ]
  },
  {
   "cell_type": "code",
   "execution_count": null,
   "metadata": {},
   "outputs": [],
   "source": [
    "# Contoh nested loop\n",
    "\n",
    "a = ['buku', 'pensil', 'pulpen']\n",
    "b = ['kuning', 'biru', 'merah']\n",
    "\n",
    "for i in a:\n",
    "    for j in b:\n",
    "        print(i, j)"
   ]
  },
  {
   "cell_type": "markdown",
   "metadata": {},
   "source": [
    "Contoh <i>nested loop</i> untuk mencetak bintang segitiga."
   ]
  },
  {
   "cell_type": "code",
   "execution_count": null,
   "metadata": {},
   "outputs": [],
   "source": [
    "# Contoh nested loop\n",
    "\n",
    "for i in range(1, 10):\n",
    "    for j in range(i):\n",
    "        print('*', end=' ')\n",
    "    print('')"
   ]
  },
  {
   "cell_type": "markdown",
   "metadata": {},
   "source": [
    "Berikut ini adalah contoh <i>nested loop</i> bintang segitiga dengan <code>break</code> di dalamnya."
   ]
  },
  {
   "cell_type": "code",
   "execution_count": null,
   "metadata": {},
   "outputs": [],
   "source": [
    "# Contoh nested loop dengan break \n",
    "\n",
    "for i in range(1, 10):\n",
    "    for j in range(i):\n",
    "        if (i > 5):\n",
    "            break;\n",
    "        print('*', end=' ')\n",
    "    print('')"
   ]
  },
  {
   "cell_type": "markdown",
   "metadata": {},
   "source": [
    "<hr>"
   ]
  },
  {
   "cell_type": "markdown",
   "metadata": {},
   "source": [
    "## Latihan: Perulangan / Loop"
   ]
  },
  {
   "cell_type": "markdown",
   "metadata": {},
   "source": [
    "Pada bagian ini, silahkan Anda menguji pemahaman Anda tentang perulangan atau <i>loop</i> yang telah disampaikan di atas. Jika Anda masih bingung, Anda dapat melihat contoh jawaban yang telah disediakan di bawah <i>cell</i> dari masing-masing soal."
   ]
  },
  {
   "cell_type": "markdown",
   "metadata": {},
   "source": [
    "### No. 1\n",
    "\n",
    "Buatlah perulangan __for__ yang menampilkan seluruh elemen antara __-2__ sampai __9__ menggunakan fungsi <code>range()</code>."
   ]
  },
  {
   "cell_type": "code",
   "execution_count": null,
   "metadata": {},
   "outputs": [],
   "source": [
    "# Ketik kode Anda disini\n",
    "\n"
   ]
  },
  {
   "cell_type": "markdown",
   "metadata": {},
   "source": [
    "Klik dua kali __disini__ untuk melihat jawaban.\n",
    "\n",
    "<!-- Jawaban:\n",
    "\n",
    "for i in range(-2, 10):\n",
    "    print(i)\n",
    "    \n",
    "-->"
   ]
  },
  {
   "cell_type": "markdown",
   "metadata": {},
   "source": [
    "### No. 2\n",
    "\n",
    "Buatlah perulangan __while__ yang menampilkan list bilangan, yakni <code>list_bilangan = [8, 7.2, 6.5, 9, 4.5, 3, 5]</code>, dengan nilai lebih dari __4__."
   ]
  },
  {
   "cell_type": "code",
   "execution_count": null,
   "metadata": {},
   "outputs": [],
   "source": [
    "# Ketik kode Anda disini\n",
    "\n"
   ]
  },
  {
   "cell_type": "markdown",
   "metadata": {},
   "source": [
    "Klik dua kali __disini__ untuk melihat jawaban.\n",
    "\n",
    "<!-- Jawaban:\n",
    "\n",
    "list_bilangan = [8, 7.2, 6.5, 9, 4.5, 3, 5]\n",
    "\n",
    "i = 0\n",
    "bilangan = list_bilangan[0]\n",
    "\n",
    "while (bilangan > 4):\n",
    "    print(bilangan)\n",
    "    i = i + 1\n",
    "    bilangan = list_bilangan[i]\n",
    "    \n",
    "-->"
   ]
  },
  {
   "cell_type": "markdown",
   "metadata": {},
   "source": [
    "### No. 3\n",
    "\n",
    "Buatlah perulangan __for__ untuk menampilkan list warna, yakni <code>list_warna = ['merah', 'kuning, 'hijau', 'biru', 'ungu', 'jingga']</code>. Buatlah kondisi jika warna __ungu__, maka hentikan perulangan dengan <code>break</code>. Output yang diharapkan: __merah, kuning, hijau, biru__."
   ]
  },
  {
   "cell_type": "code",
   "execution_count": null,
   "metadata": {},
   "outputs": [],
   "source": [
    "# Ketik kode Anda disini\n",
    "\n"
   ]
  },
  {
   "cell_type": "markdown",
   "metadata": {},
   "source": [
    "Klik dua kali __disini__ untuk melihat jawaban.\n",
    "\n",
    "<!-- Jawaban:\n",
    "\n",
    "list_warna = ['merah', 'kuning', 'hijau', 'biru', 'ungu', 'jingga']\n",
    "\n",
    "for warna in list_warna:\n",
    "    if (warna == 'ungu'):\n",
    "        break;\n",
    "    print(warna)\n",
    "    \n",
    "-->"
   ]
  },
  {
   "cell_type": "markdown",
   "metadata": {},
   "source": [
    "### No. 4\n",
    "\n",
    "Buatlah <i>nested loop</i> __for__ untuk menampilkan bilangan dengan <code>range(1, 4)</code> untuk __for__ bagian luar, dan <code>range(-2, 2)</code> untuk __for__ bagian dalam. Beri parameter <code>end = '\\t'</code> untuk memberi jarak satu tab."
   ]
  },
  {
   "cell_type": "code",
   "execution_count": null,
   "metadata": {},
   "outputs": [],
   "source": [
    "# Ketik kode Anda disini\n",
    "\n"
   ]
  },
  {
   "cell_type": "markdown",
   "metadata": {},
   "source": [
    "Klik dua kali __disini__ untuk melihat jawaban.\n",
    "\n",
    "<!-- Jawaban:\n",
    "\n",
    "for x in range(1,4):\n",
    "    for y in range(-2,2):\n",
    "        print(x, y, end='\\t')\n",
    "    print('')\n",
    "    \n",
    "-->"
   ]
  },
  {
   "cell_type": "markdown",
   "metadata": {},
   "source": [
    "<hr>"
   ]
  },
  {
   "cell_type": "markdown",
   "metadata": {},
   "source": [
    "Copyright @ <a href=\"https://ilmudatapy.com/\">ilmudatapy.com</a>"
   ]
  }
 ],
 "metadata": {
  "kernelspec": {
   "display_name": "Python 3",
   "language": "python",
   "name": "python3"
  },
  "language_info": {
   "codemirror_mode": {
    "name": "ipython",
    "version": 3
   },
   "file_extension": ".py",
   "mimetype": "text/x-python",
   "name": "python",
   "nbconvert_exporter": "python",
   "pygments_lexer": "ipython3",
   "version": "3.7.3"
  }
 },
 "nbformat": 4,
 "nbformat_minor": 2
}
