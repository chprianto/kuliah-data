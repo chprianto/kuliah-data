{
 "cells": [
  {
   "cell_type": "markdown",
   "metadata": {},
   "source": [
    "<img src=\"../images/ilmudatapy-logo.png\" width=\"350\" align=\"center\">\n",
    "<br>"
   ]
  },
  {
   "cell_type": "markdown",
   "metadata": {},
   "source": [
    "<center><h1>Pengenalan Python</h1></center>\n",
    "<hr>"
   ]
  },
  {
   "cell_type": "markdown",
   "metadata": {},
   "source": [
    "__Halo Learners!__ Ini adalah notebook pertama untuk materi pembelajaran bahasa pemrograman Python yang dikhususkan untuk Data Science. Sebagai permulaan, notebook ini hanya berisi hal-hal dasar yang harus diketahui yang bermanfaat untuk kelancaran proses pembelajaran selanjutnya."
   ]
  },
  {
   "cell_type": "markdown",
   "metadata": {},
   "source": [
    "<h2>Table of Contents</h2>\n",
    "<div class=\"alert alert-block alert-info\" style=\"margin-top: 25px\">\n",
    "    <ul>\n",
    "        <li>\n",
    "            Mencetak output di Python\n",
    "        </li>\n",
    "        <li>\n",
    "            Menulis Komentar di Python\n",
    "            <ul>\n",
    "                <li>Menulis komentar panjang yang lebih dari satu baris</li>\n",
    "            </ul>\n",
    "        </li>\n",
    "        <li>\n",
    "            Contoh error di Python\n",
    "        </li>\n",
    "        <li>\n",
    "            Mengecek versi Python\n",
    "        </li>\n",
    "        <li>\n",
    "            Latihan: Menampilkan output\n",
    "        </li>\n",
    "    </ul>\n",
    "</div>"
   ]
  },
  {
   "cell_type": "markdown",
   "metadata": {},
   "source": [
    "<hr/>\n",
    "<div class=\"alert alert-success\" style=\"margin-top: 20px\">\n",
    "    <strong>Catatan:</strong> Untuk menjalankan kode program Python di Jupyter Notebook, klik pada <i>cell</i> yang ingin di-<i>run</i> lalu tekan <kbd>Shift</kbd> + <kbd>Enter</kbd>.\n",
    "</div>\n",
    "<hr/>"
   ]
  },
  {
   "cell_type": "markdown",
   "metadata": {},
   "source": [
    "## Mencetak output di Python "
   ]
  },
  {
   "cell_type": "markdown",
   "metadata": {},
   "source": [
    "Bagian yang paling awal yang harus dipahami bagi pemula saat belajar mengoding adalah bagaimana mencetak output/keluaran dari suatu kode program. Jika Anda pernah belajar memprogram dengan bahasa pemrograman yang lain, yang pertama kali diajarkan pasti bagaimana cara mencetak __\"Hello World!__\". Nah, mari kita coba mencetak __\"Hello World!\"__ dengan dengan Python.\n",
    "\n",
    "Untuk mencetak suatu kalimat ataupun isi dari sebuah variabel di Python, Anda bisa menggunakan sebuah fungsi bawaan Python yaitu <code>print()</code>. Cara menggunakannya cukup mudah yaitu hanya meletakkan kalimat yang ingin dicetak di dalam tanda kurung sebagai argumen. "
   ]
  },
  {
   "cell_type": "code",
   "execution_count": null,
   "metadata": {},
   "outputs": [],
   "source": [
    "# Coba run kode program ini\n",
    "\n",
    "print(\"Hello World!\")"
   ]
  },
  {
   "cell_type": "code",
   "execution_count": null,
   "metadata": {},
   "outputs": [],
   "source": [
    "print('Hello World!')"
   ]
  },
  {
   "cell_type": "code",
   "execution_count": null,
   "metadata": {},
   "outputs": [],
   "source": [
    "print(100)"
   ]
  },
  {
   "cell_type": "markdown",
   "metadata": {},
   "source": [
    "Untuk mencetak string (teks dan karakter) harus menggunakan tanda kutip yang mengapit string tersebut. Anda dapat menggunakan tanda kutip dua maupun tanda kutip satu sesuai preferensi Anda.\n",
    "\n",
    "Selain menggunakan fungsi <code>print()</code>, di Python Anda juga dapat mencetak langsung seperti di bawah ini."
   ]
  },
  {
   "cell_type": "code",
   "execution_count": null,
   "metadata": {},
   "outputs": [],
   "source": [
    "# Menampilkan string Hello World!\n",
    "\n",
    "\"Hello World!\""
   ]
  },
  {
   "cell_type": "code",
   "execution_count": null,
   "metadata": {},
   "outputs": [],
   "source": [
    "'Hello World!'"
   ]
  },
  {
   "cell_type": "code",
   "execution_count": null,
   "metadata": {},
   "outputs": [],
   "source": [
    "# Menampilkan integer (bilangan)\n",
    "\n",
    "100"
   ]
  },
  {
   "cell_type": "markdown",
   "metadata": {},
   "source": [
    "<hr>"
   ]
  },
  {
   "cell_type": "markdown",
   "metadata": {},
   "source": [
    "## Menulis komentar di Python"
   ]
  },
  {
   "cell_type": "markdown",
   "metadata": {},
   "source": [
    "Dalam menulis kode program, seringkali diperlukan penjelasan mengenai potongan kode program tersebut sehingga ada baiknya jika kita membubuhi komentar pada suatu kode program. Adanya komentar dapat membantu orang lain yang melihat kode yang kita buat memahaminya. Selain itu, komentar juga sangat bermanfaat bagi kita untuk mengingat maksud kode tersebut jika kita ingin mengeditnya lain waktu.\n",
    "\n",
    "Untuk menambahkan komentar pada kode program, Anda dapat menggunakan simbol <code>#</code> sebelum menulis komentar Anda. Python akan mengabaikan apapun yang tertulis setelah simbol <code>#</code> dalam satu baris tersebut."
   ]
  },
  {
   "cell_type": "code",
   "execution_count": null,
   "metadata": {},
   "outputs": [],
   "source": [
    "# Coba jalankan kode program ini\n",
    "\n",
    "print(\"Hello World!\")   # Kode ini berfungsi untuk menampilkan \"Hello World!\"\n",
    "#print(\"Halo\")"
   ]
  },
  {
   "cell_type": "markdown",
   "metadata": {},
   "source": [
    "Setelah menjalankan <i>cell</i> di atas, kalimat <code># Coba jalankan kode program ini</code> di baris paling atas di abaikan oleh Python karena diawali simbol <code>#</code>.\n",
    "\n",
    "Selanjutnya, kalimat <code># Kode ini berfungsi untuk menampilkan \"Hello World!\"</code> yang diletakkan satu baris dengan fungsi <code>print()</code> juga diabaikan oleh Python karena merupakan sebuah komentar yang diawali simbol <code>#</code> sebagai penjelasan untuk kode program pada baris tersebut.\n",
    "\n",
    "Yang terakhir, kode <code>#print(\"Halo\")</code> juga tidak dieksekusi oleh Python dan dianggap sebagai komentar karena sebelum kode program tersebut ada simbol <code>#</code>. Simbol <code>#</code> pada sebuah baris kode program bisa jadi sengaja diletakkan karena si programmer enggan menampilkan output dari kode tersebut."
   ]
  },
  {
   "cell_type": "markdown",
   "metadata": {},
   "source": [
    "### Menulis komentar panjang yang lebih dari satu baris"
   ]
  },
  {
   "cell_type": "markdown",
   "metadata": {},
   "source": [
    "Python juga menyediakan cara jika kita ingin menulis komentar panjang yang lebih dari satu baris. Hal ini dapat dilakukan dengan mengapit komentar tersebut dengan tiga tanda kutip dua."
   ]
  },
  {
   "cell_type": "code",
   "execution_count": null,
   "metadata": {},
   "outputs": [],
   "source": [
    "\"\"\"\n",
    "Komentar panjang yang terdiri dari beberapa baris,\n",
    "dapat ditulis dengan diapit oleh tiga tanda kutip dua\n",
    "seperti ini.\n",
    "\"\"\"\n",
    "\n",
    "print(\"Hello World!\")"
   ]
  },
  {
   "cell_type": "markdown",
   "metadata": {},
   "source": [
    "<hr>"
   ]
  },
  {
   "cell_type": "markdown",
   "metadata": {},
   "source": [
    "## Contoh Error di Python"
   ]
  },
  {
   "cell_type": "markdown",
   "metadata": {},
   "source": [
    "Dalam mengetik kode program, mungkin seringkali kita membuat kesalahan sehingga menyebabkan output yang diharapkan tidak muncul. Saat Anda membuat kesalahan dalam penulisan kode misalnya, Python akan memberikan pesan kesalahan yang akan menunjukkan kepada Anda dimana letak kesalahan yang Anda buat. Jadi ada baiknya, pesan kesalahan tersebut dibaca baik-baik agar kita mengetahui bagian mana yang harus diperbaiki.\n",
    "\n",
    "Sebagai contoh misalnya, Anda membuat kesalahan dalam penulisan <code>print</code> yang ditulis <code>frint</code>."
   ]
  },
  {
   "cell_type": "code",
   "execution_count": null,
   "metadata": {},
   "outputs": [],
   "source": [
    "# contoh kesalahan penulisan\n",
    "\n",
    "frint(\"Selamat Pagi!\")"
   ]
  },
  {
   "cell_type": "markdown",
   "metadata": {},
   "source": [
    "Pada contoh di atas, pesan kesalahan yang kita terima di antaranya: \n",
    "\n",
    "* Letak kesalahan yang kita buat, dalam hal ini ada pada baris ke-3 di <i>cell</i> tersebut yang ditunjukkan oleh tanda panah.\n",
    "* Jenis error yang terjadi (NameError), dalam hal ini tertulis <code>name 'frint' is not defined</code> karena <code>frint</code> bukan merupakan built-in function di Python."
   ]
  },
  {
   "cell_type": "markdown",
   "metadata": {},
   "source": [
    "Contoh error berikutnya misalnya kita lupa memberikan pasangan tanda kutip untuk mencetak string."
   ]
  },
  {
   "cell_type": "code",
   "execution_count": null,
   "metadata": {},
   "outputs": [],
   "source": [
    "# contoh kesalahan syntax\n",
    "\n",
    "print(\"Selamat Pagi!)"
   ]
  },
  {
   "cell_type": "markdown",
   "metadata": {},
   "source": [
    "Python merupakan bahasa pemrograman yang <code>case sensitive</code>, jadi huruf kecil akan dianggap berbeda dengan huruf besar. Misal kita salah menulis <code>print</code> dengan <code>Print</code>."
   ]
  },
  {
   "cell_type": "code",
   "execution_count": null,
   "metadata": {},
   "outputs": [],
   "source": [
    "# contoh kesalahan Print\n",
    "\n",
    "Print(\"Selamat Pagi!\")"
   ]
  },
  {
   "cell_type": "markdown",
   "metadata": {},
   "source": [
    "<hr>"
   ]
  },
  {
   "cell_type": "markdown",
   "metadata": {},
   "source": [
    "## Mengecek Versi Python"
   ]
  },
  {
   "cell_type": "markdown",
   "metadata": {},
   "source": [
    "Untuk mengetahui versi Python yang sedang kita gunakan, kita dapat melihat pada pojok kanan atas Jupyter Notebook. Selain itu, kita juga dapat mengeceknya dengan menggunakan modul <code>sys</code>.\n",
    "\n",
    "<code>sys</code> adalah sebuah modul bawaan Python yang berisi banyak parameter dan fungsi khusus sistem, termasuk versi Python yang digunakan. Sebelum menggunakannya, kita harus mengimpornya terlebih dahulu."
   ]
  },
  {
   "cell_type": "code",
   "execution_count": null,
   "metadata": {},
   "outputs": [],
   "source": [
    "# Check the Python Version\n",
    "\n",
    "import sys\n",
    "print(sys.version)"
   ]
  },
  {
   "cell_type": "markdown",
   "metadata": {},
   "source": [
    "<hr>"
   ]
  },
  {
   "cell_type": "markdown",
   "metadata": {},
   "source": [
    "## Latihan"
   ]
  },
  {
   "cell_type": "markdown",
   "metadata": {},
   "source": [
    "Pada bagian ini, silahkan Anda menguji pemahaman Anda tentang materi yang telah disampaikan di atas. Jika Anda masih bingung, Anda dapat melihat contoh jawaban yang telah disediakan di bawah <i>cell</i> dari masing-masing soal."
   ]
  },
  {
   "cell_type": "markdown",
   "metadata": {},
   "source": [
    "### No. 1\n",
    "\n",
    "Tampilkan output berupa string dengan kalimat apapun menggunakan <code>print()</code>."
   ]
  },
  {
   "cell_type": "code",
   "execution_count": null,
   "metadata": {},
   "outputs": [],
   "source": [
    "# Ketik kode Anda disini\n",
    "\n"
   ]
  },
  {
   "cell_type": "markdown",
   "metadata": {},
   "source": [
    "Klik dua kali __disini__ untuk melihat jawaban\n",
    "\n",
    "<!-- Jawaban:\n",
    "\n",
    "print(\"Hai, Saya sedang belajar Python!\")\n",
    "\n",
    "-->"
   ]
  },
  {
   "cell_type": "markdown",
   "metadata": {},
   "source": [
    "### No. 2\n",
    "\n",
    "Buat komentar apapun yang terdiri dari dua baris, lalu tampilkan output __\"Ini adalah contoh komentar panjang\"__."
   ]
  },
  {
   "cell_type": "code",
   "execution_count": null,
   "metadata": {},
   "outputs": [],
   "source": [
    "# Ketik kode Anda disini\n",
    "\n"
   ]
  },
  {
   "cell_type": "markdown",
   "metadata": {},
   "source": [
    "Klik dua kali __disini__ untuk melihat jawaban\n",
    "\n",
    "<!-- Jawaban:\n",
    "\n",
    "\"\"\"\n",
    "Tulis komentar Anda disini. \n",
    "Anda dapat menulis apa saja disini.\n",
    "\"\"\"\n",
    "\n",
    "print('Ini adalah contoh komentar panjang')\n",
    "\n",
    "-->"
   ]
  },
  {
   "cell_type": "markdown",
   "metadata": {},
   "source": [
    "<hr>"
   ]
  },
  {
   "cell_type": "markdown",
   "metadata": {},
   "source": [
    "Copyright @ <a href=\"https://ilmudatapy.com/\">ilmudatapy.com</a>"
   ]
  }
 ],
 "metadata": {
  "kernelspec": {
   "display_name": "Python 3",
   "language": "python",
   "name": "python3"
  },
  "language_info": {
   "codemirror_mode": {
    "name": "ipython",
    "version": 3
   },
   "file_extension": ".py",
   "mimetype": "text/x-python",
   "name": "python",
   "nbconvert_exporter": "python",
   "pygments_lexer": "ipython3",
   "version": "3.7.3"
  }
 },
 "nbformat": 4,
 "nbformat_minor": 2
}
