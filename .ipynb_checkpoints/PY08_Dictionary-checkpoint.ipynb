{
 "cells": [
  {
   "cell_type": "markdown",
   "metadata": {},
   "source": [
    "<img src=\"../images/ilmudatapy-logo.png\" width=\"350\" align=\"center\">\n",
    "<br>"
   ]
  },
  {
   "cell_type": "markdown",
   "metadata": {},
   "source": [
    "<center><h1>Dictionary</h1></center>\n",
    "<hr>"
   ]
  },
  {
   "cell_type": "markdown",
   "metadata": {},
   "source": [
    "__Halo, Learners!__ Di notebook ini kita akan membahas tentang dictionary pada bahasa pemrograman Python, termasuk apa itu dictionary serta operasi dasar yang dapat dilakukan."
   ]
  },
  {
   "cell_type": "markdown",
   "metadata": {},
   "source": [
    "<h2>Table of Contents</h2>\n",
    "<div class=\"alert alert-block alert-info\" style=\"margin-top: 25px\">\n",
    "    <ul>\n",
    "        <li>\n",
    "            Apa itu Dictionary?\n",
    "            <ul>\n",
    "               <li>Contoh Dictionary</li>\n",
    "            </ul>\n",
    "        </li>\n",
    "        <li>\n",
    "            Mengakses Dictionary\n",
    "            <ul>\n",
    "               <li>Mengakses value</li>\n",
    "               <li>Mengakses key</li>\n",
    "            </ul>\n",
    "        </li>\n",
    "        <li>\n",
    "            Nested Dictionary\n",
    "        </li>\n",
    "        <li>\n",
    "            Operasi pada Dictionary\n",
    "            <ul>\n",
    "               <li>Mengubah nilai dictionary</li>\n",
    "               <li>Menambah item baru pada dictionary</li>\n",
    "               <li>Menghapus item pada dictionary</li>\n",
    "               <li>Duplikasi dictionary</li>\n",
    "               <li>Mengetahui panjang dictionary</li>\n",
    "               <li>Mengecek keberadaan key pada dictionary</li>\n",
    "            </ul>\n",
    "        </li>\n",
    "        <li>\n",
    "            Latihan: Dictionary\n",
    "        </li>\n",
    "    </ul>\n",
    "</div>"
   ]
  },
  {
   "cell_type": "markdown",
   "metadata": {},
   "source": [
    "<hr>\n",
    "<div class=\"alert alert-success\" style=\"margin-top: 20px\">\n",
    "    <strong>Catatan:</strong> Untuk menjalankan kode program Python di Jupyter Notebook, klik pada <i>cell</i> yang ingin di-<i>run</i> lalu tekan <kbd>Shift</kbd> + <kbd>Enter</kbd>.\n",
    "</div>\n",
    "<hr>"
   ]
  },
  {
   "cell_type": "markdown",
   "metadata": {},
   "source": [
    "## Apa itu Dictionary?"
   ]
  },
  {
   "cell_type": "markdown",
   "metadata": {},
   "source": [
    "Dictionary adalah sebuah tipe data di Python yang berfungsi untuk menyimpan koleksi data dan didefinisikan di dalam kurung kurawal <code>{}</code>. Tidak seperti list atau tuple yang bersifat terurut berdasarkan indeks, dictionary bersifat tidak terurut. Setiap item dalam dictionary terdiri dari pasangan <i>key-value</i> yang dipisahkan oleh titik dua <code>:</code>.\n",
    "\n",
    "<i>Key</i> pada dictionary bisa berupa teks, bilangan, atau tuple, namun <i>value</i>-nya bisa berupa tipe data apapun."
   ]
  },
  {
   "cell_type": "markdown",
   "metadata": {},
   "source": [
    "<img src=\"../images/dictionary-1.png\" align=\"center\">"
   ]
  },
  {
   "cell_type": "markdown",
   "metadata": {},
   "source": [
    "### Contoh Dictionary"
   ]
  },
  {
   "cell_type": "markdown",
   "metadata": {},
   "source": [
    "Berikut merupakan contoh dictionary."
   ]
  },
  {
   "cell_type": "code",
   "execution_count": null,
   "metadata": {},
   "outputs": [],
   "source": [
    "# Contoh dictionary\n",
    "\n",
    "dict1 = {1: 'a', 2: 'b', 3: 'c', (4, 5): 'd'}\n",
    "dict1"
   ]
  },
  {
   "cell_type": "markdown",
   "metadata": {},
   "source": [
    "<code>1</code>, <code>2</code>, <code>3</code>, dan <code>(4, 5)</code> merupakan <i>key</i>, sedangkan <code>a</code>, <code>b</code>, <code>c</code>, dan <code>d</code> merupakan <i>value</i> untuk masing-masing <i>key</i>-nya."
   ]
  },
  {
   "cell_type": "code",
   "execution_count": null,
   "metadata": {},
   "outputs": [],
   "source": [
    "# Contoh dictionary\n",
    "\n",
    "data_mhs = {'nama': 'Budi',\n",
    "            'kota asal': 'Jakarta',\n",
    "            'usia': 21}\n",
    "data_mhs"
   ]
  },
  {
   "cell_type": "markdown",
   "metadata": {},
   "source": [
    "Pada contoh di atas, <code>nama</code> merupakan <i>key</i> dan <code>Budi</code> merupakan <i>value</i>-nya. Begitu juga dengan <code>kota asal</code> yang merupakan sebuah <i>key</i> yang memiliki nilai yaitu <code>Jakarta</code>, dan <i>key</i> <code>usia</code> yang memiliki nilai <code>21</code>."
   ]
  },
  {
   "cell_type": "markdown",
   "metadata": {},
   "source": [
    "<hr>"
   ]
  },
  {
   "cell_type": "markdown",
   "metadata": {},
   "source": [
    "## Mengakses dictionary"
   ]
  },
  {
   "cell_type": "markdown",
   "metadata": {},
   "source": [
    "### Mengakses value"
   ]
  },
  {
   "cell_type": "markdown",
   "metadata": {},
   "source": [
    "Untuk mengakses <i>value</i> pada dictionary, kita dapat menggunakan <i>key</i> yang ditempatkan di dalam kurung siku <code>[]</code> setelah nama dictionary-nya."
   ]
  },
  {
   "cell_type": "code",
   "execution_count": null,
   "metadata": {},
   "outputs": [],
   "source": [
    "data_mhs = {'nama': 'Budi',\n",
    "            'kota asal': 'Jakarta',\n",
    "            'usia': 21}\n",
    "\n",
    "data_mhs['nama']       # Mengakses value dengan key 'nama'"
   ]
  },
  {
   "cell_type": "code",
   "execution_count": null,
   "metadata": {},
   "outputs": [],
   "source": [
    "# Mengakses value dengan key 'usia'\n",
    "\n",
    "data_mhs['usia']"
   ]
  },
  {
   "cell_type": "markdown",
   "metadata": {},
   "source": [
    "Selain itu, kita juga dapat menggunakan <i>method</i> <code>get()</code> yang akan mengeluarkan hasil yang sama. Coba jalankan <i>cell</i> di bawah ini."
   ]
  },
  {
   "cell_type": "code",
   "execution_count": null,
   "metadata": {},
   "outputs": [],
   "source": [
    "# Mengakses value dengan method get()\n",
    "\n",
    "data_mhs.get('nama')"
   ]
  },
  {
   "cell_type": "code",
   "execution_count": null,
   "metadata": {},
   "outputs": [],
   "source": [
    "# Mengakses value dengann method get()\n",
    "\n",
    "data_mhs.get('kota asal')"
   ]
  },
  {
   "cell_type": "markdown",
   "metadata": {},
   "source": [
    "Jika hanya ingin memperoleh <i>value</i> dari sebuah dictionary, kita dapat menggunakan <i>method</i> <code>values()</code>. Coba jalankan <i>cell</i> di bawah ini."
   ]
  },
  {
   "cell_type": "code",
   "execution_count": null,
   "metadata": {},
   "outputs": [],
   "source": [
    "# Mendapatkan daftar value\n",
    "\n",
    "data_mhs.values()"
   ]
  },
  {
   "cell_type": "markdown",
   "metadata": {},
   "source": [
    "### Memperoleh daftar key"
   ]
  },
  {
   "cell_type": "markdown",
   "metadata": {},
   "source": [
    "Untuk memperoleh daftar <i>key</i> yang ada pada dictionary, kita dapat menggunakan <i>method</i> <code>keys()</code>."
   ]
  },
  {
   "cell_type": "code",
   "execution_count": null,
   "metadata": {},
   "outputs": [],
   "source": [
    "# Menggunakan keys()\n",
    "\n",
    "data_mhs.keys()"
   ]
  },
  {
   "cell_type": "markdown",
   "metadata": {},
   "source": [
    "Atau bisa juga menggunakan operator <code>*</code>. Perhatikan contoh penggunaannya di bawah ini."
   ]
  },
  {
   "cell_type": "code",
   "execution_count": null,
   "metadata": {},
   "outputs": [],
   "source": [
    "# Menggunakan *\n",
    "\n",
    "[*data_mhs]"
   ]
  },
  {
   "cell_type": "markdown",
   "metadata": {},
   "source": [
    "<hr>"
   ]
  },
  {
   "cell_type": "markdown",
   "metadata": {},
   "source": [
    "## Nested Dictionary"
   ]
  },
  {
   "cell_type": "markdown",
   "metadata": {},
   "source": [
    "Kita juga dapat membuat <i>nested dictionary</i> atau dictionary yang berada di dalam dictionary."
   ]
  },
  {
   "cell_type": "code",
   "execution_count": null,
   "metadata": {},
   "outputs": [],
   "source": [
    "employees = {\n",
    "    'employee1': {'name': 'John',\n",
    "                  'year': 2016},\n",
    "    'employee2': {'name': 'Jessica',\n",
    "                  'year': 2018},\n",
    "    'employee3': {'name': 'Alex',\n",
    "                  'year': 2019}\n",
    "}\n",
    "\n",
    "employees"
   ]
  },
  {
   "cell_type": "markdown",
   "metadata": {},
   "source": [
    "Atau bisa juga dengan membuat dictionary untuk masing-masing <i>employee</i>, lalu buat dictionary induk untuk menampung dictionary-dictionary tersebut. Perhatikan kode berikut."
   ]
  },
  {
   "cell_type": "code",
   "execution_count": null,
   "metadata": {},
   "outputs": [],
   "source": [
    "employee1 = {\n",
    "    'name': 'John',\n",
    "    'year': 2016\n",
    "}\n",
    "employee2 = {\n",
    "    'name': 'Jessica',\n",
    "    'year': 2018\n",
    "}\n",
    "employee3 = {\n",
    "    'name': 'Alex',\n",
    "    'year': 2019\n",
    "}\n",
    "\n",
    "employees = {\n",
    "    'employee1': employee1,\n",
    "    'employee2': employee2,\n",
    "    'employee3': employee3\n",
    "}\n",
    "\n",
    "employees"
   ]
  },
  {
   "cell_type": "markdown",
   "metadata": {},
   "source": [
    "<hr>"
   ]
  },
  {
   "cell_type": "markdown",
   "metadata": {},
   "source": [
    "## Operasi pada dictionary"
   ]
  },
  {
   "cell_type": "markdown",
   "metadata": {},
   "source": [
    "### Mengubah nilai dictionary"
   ]
  },
  {
   "cell_type": "code",
   "execution_count": null,
   "metadata": {},
   "outputs": [],
   "source": [
    "# Mengubah usia\n",
    "\n",
    "data_mhs = {'nama': 'Budi',\n",
    "            'kota asal': 'Jakarta',\n",
    "            'usia': 21}\n",
    "\n",
    "data_mhs['usia'] = 23\n",
    "data_mhs"
   ]
  },
  {
   "cell_type": "code",
   "execution_count": null,
   "metadata": {},
   "outputs": [],
   "source": [
    "# Mengubah kota asal\n",
    "\n",
    "data_mhs['kota asal'] = 'Bandung'\n",
    "data_mhs"
   ]
  },
  {
   "cell_type": "markdown",
   "metadata": {},
   "source": [
    "Kita juga dapat mengubah <i>nested dictionary</i> dengan cara berikut."
   ]
  },
  {
   "cell_type": "code",
   "execution_count": null,
   "metadata": {},
   "outputs": [],
   "source": [
    "# Mengubah nilai year pada employee1 menjadi 2017\n",
    "\n",
    "employees = {\n",
    "    'employee1': {'name': 'John',\n",
    "                  'year': 2016},\n",
    "    'employee2': {'name': 'Jessica',\n",
    "                  'year': 2018},\n",
    "    'employee3': {'name': 'Alex',\n",
    "                  'year': 2019}\n",
    "}\n",
    "\n",
    "employees['employee1']['year'] = 2017\n",
    "employees"
   ]
  },
  {
   "cell_type": "markdown",
   "metadata": {},
   "source": [
    "### Menambah item baru pada dictionary"
   ]
  },
  {
   "cell_type": "markdown",
   "metadata": {},
   "source": [
    "Untuk menambah item baru pada dictionary, kita dapat dengan mudah menuliskan nama <i>key</i> baru yang akan digunakan disertai dan nilainya."
   ]
  },
  {
   "cell_type": "code",
   "execution_count": null,
   "metadata": {},
   "outputs": [],
   "source": [
    "# Menambah item baru pada dictionary\n",
    "\n",
    "data_mhs = {'nama': 'Budi',\n",
    "            'kota asal': 'Jakarta',\n",
    "            'usia': 21}\n",
    "\n",
    "data_mhs['nilai akhir'] = 79   # Menambahkan key 'nilai akhir' yang diberikan nilai '79'\n",
    "data_mhs"
   ]
  },
  {
   "cell_type": "markdown",
   "metadata": {},
   "source": [
    "### Menghapus item pada dictionary"
   ]
  },
  {
   "cell_type": "markdown",
   "metadata": {},
   "source": [
    "Ada beberapa <i>method</i> yang dapat digunakan untuk menghapus item pada dictionary, diantaranya <code>pop()</code>, <code>popitem()</code>, dan juga menggunakan <code>del</code>.\n",
    "\n",
    "<code>pop()</code> digunakan untuk menghapus item berdasarkan nama <i>key</i>."
   ]
  },
  {
   "cell_type": "code",
   "execution_count": null,
   "metadata": {},
   "outputs": [],
   "source": [
    "# Contoh penggunaan pop()\n",
    "\n",
    "data_mhs = {'nama': 'Budi',\n",
    "            'kota asal': 'Jakarta',\n",
    "            'usia': 21,\n",
    "            'nilai akhir': 79}\n",
    "\n",
    "data_mhs.pop('kota asal')    # Menghapus kota asal\n",
    "print(data_mhs)"
   ]
  },
  {
   "cell_type": "markdown",
   "metadata": {},
   "source": [
    "<i>Method</i> <code>popitem()</code> akan menghapus item terakhir."
   ]
  },
  {
   "cell_type": "code",
   "execution_count": null,
   "metadata": {},
   "outputs": [],
   "source": [
    "# Contoh penggunaan popitem()\n",
    "\n",
    "data_mhs = {'nama': 'Budi',\n",
    "            'kota asal': 'Jakarta',\n",
    "            'usia': 21,\n",
    "            'nilai akhir': 79}\n",
    "\n",
    "data_mhs.popitem()    # Method popitem() akan menghapus nilai akhir\n",
    "print(data_mhs)"
   ]
  },
  {
   "cell_type": "markdown",
   "metadata": {},
   "source": [
    "<code>del</code> juga dapat digunakan untuk menghapus item berdasarkan nama <i>key</i>."
   ]
  },
  {
   "cell_type": "code",
   "execution_count": null,
   "metadata": {},
   "outputs": [],
   "source": [
    "# Contoh penggunaan del\n",
    "\n",
    "data_mhs = {'nama': 'Budi',\n",
    "            'kota asal': 'Jakarta',\n",
    "            'usia': 21,\n",
    "            'nilai akhir': 79}\n",
    "\n",
    "del data_mhs['usia']    # Menghapus usia menggunakan del\n",
    "print(data_mhs)"
   ]
  },
  {
   "cell_type": "markdown",
   "metadata": {},
   "source": [
    "Selain digunakan untuk menghapus item berdasarkan nama <i>key</i>, <code>del</code> juga dapat digunakan untuk menghapus keseluruhan dictionary."
   ]
  },
  {
   "cell_type": "code",
   "execution_count": null,
   "metadata": {},
   "outputs": [],
   "source": [
    "# Contoh penggunaan del untuk menghapus keseluruhan dictionary\n",
    "\n",
    "data_mhs = {'nama': 'Budi',\n",
    "            'kota asal': 'Jakarta',\n",
    "            'usia': 21,\n",
    "            'nilai akhir': 79}\n",
    "\n",
    "del data_mhs    # Menghapus dictionary data_mhs\n",
    "print(data_mhs)"
   ]
  },
  {
   "cell_type": "markdown",
   "metadata": {},
   "source": [
    "Jika Anda menjalankan kode di atas, Anda akan melihat pesan <i>error</i> yang menyatakan <code>name 'data_mhs' is not defined</code>. Itu karena <code>data_mhs</code> telah terhapus sebelum mengeksekusi <code>print()</code>.\n",
    "\n",
    "Namun, jika Anda hanya bermaksud untuk mengosongkan dictionary tanpa menghapusnya, Anda dapat menggunakan <i>method</i> <code>clear()</code>. Coba jalankan <i>cell</i> di bawah ini."
   ]
  },
  {
   "cell_type": "code",
   "execution_count": null,
   "metadata": {},
   "outputs": [],
   "source": [
    "# Contoh penggunaan clear()\n",
    "\n",
    "data_mhs = {'nama': 'Budi',\n",
    "            'kota asal': 'Jakarta',\n",
    "            'usia': 21,\n",
    "            'nilai akhir': 79}\n",
    "\n",
    "data_mhs.clear()   # Mengosongkan isi dictionary dengan clear()\n",
    "print(data_mhs)"
   ]
  },
  {
   "cell_type": "markdown",
   "metadata": {},
   "source": [
    "Dapat dilihat bahwa output dari kode di atas hanya menghasilkan dictionary kosong."
   ]
  },
  {
   "cell_type": "markdown",
   "metadata": {},
   "source": [
    "### Duplikasi dictionary"
   ]
  },
  {
   "cell_type": "markdown",
   "metadata": {},
   "source": [
    "Untuk menduplikasi dictionary, kita dapat menggunakan <i>method</i> <code>copy()</code>."
   ]
  },
  {
   "cell_type": "code",
   "execution_count": null,
   "metadata": {},
   "outputs": [],
   "source": [
    "# Contoh penggunaan copy()\n",
    "\n",
    "data_mhs = {'nama': 'Budi',\n",
    "            'kota asal': 'Jakarta',\n",
    "            'usia': 21,\n",
    "            'nilai akhir': 79}\n",
    "\n",
    "mahasiswa = data_mhs.copy()     # Menduplikasi 'data_mhs' ke dalam dictionary baru ke dalam 'mahasiswa'\n",
    "print(mahasiswa)"
   ]
  },
  {
   "cell_type": "markdown",
   "metadata": {},
   "source": [
    "### Mengetahui panjang dictionary"
   ]
  },
  {
   "cell_type": "markdown",
   "metadata": {},
   "source": [
    "Untuk memperoleh panjang dictionary, atau jumlah item yang ada pada dictionary, kita dapat menggunakan fungsi <code>len()</code>."
   ]
  },
  {
   "cell_type": "code",
   "execution_count": null,
   "metadata": {},
   "outputs": [],
   "source": [
    "# Contoh penggunaan len()\n",
    "\n",
    "data_mhs = {'nama': 'Budi',\n",
    "            'kota asal': 'Jakarta',\n",
    "            'usia': 21,\n",
    "            'nilai akhir': 79}\n",
    "\n",
    "len(data_mhs)    # Menghitung panjang dictionary (jumlah item)"
   ]
  },
  {
   "cell_type": "markdown",
   "metadata": {},
   "source": [
    "### Mengecek keberadaan key pada dictionary"
   ]
  },
  {
   "cell_type": "markdown",
   "metadata": {},
   "source": [
    "Untuk mengecek keberadaan sebuah <i>key</i> di dalam dictionary, kita dapat melakukannya menggunakan <code>in</code>. Outputnya yaitu berupa boolean, __True__ jika ada, dan __False__ jika tidak ada."
   ]
  },
  {
   "cell_type": "code",
   "execution_count": null,
   "metadata": {},
   "outputs": [],
   "source": [
    "# Contoh penggunaan in\n",
    "\n",
    "data_mhs = {'nama': 'Budi',\n",
    "            'kota asal': 'Jakarta',\n",
    "            'usia': 21,\n",
    "            'nilai akhir': 79}\n",
    "\n",
    "'nama' in data_mhs    # Mengecek apakah 'nama' ada sebagai key di data_mhs"
   ]
  },
  {
   "cell_type": "code",
   "execution_count": null,
   "metadata": {},
   "outputs": [],
   "source": [
    "# Mengecek apakah 'alamat' ada sebagai key di data_mhs\n",
    "\n",
    "'alamat' in data_mhs"
   ]
  },
  {
   "cell_type": "markdown",
   "metadata": {},
   "source": [
    "<hr>"
   ]
  },
  {
   "cell_type": "markdown",
   "metadata": {},
   "source": [
    "## Latihan: Dictionary"
   ]
  },
  {
   "cell_type": "markdown",
   "metadata": {},
   "source": [
    "Pada bagian ini, silahkan Anda menguji pemahaman Anda tentang dictionary yang telah disampaikan di atas. Jika Anda masih bingung, Anda dapat melihat contoh jawaban yang telah disediakan di bawah <i>cell</i> dari masing-masing soal."
   ]
  },
  {
   "cell_type": "markdown",
   "metadata": {},
   "source": [
    "### No. 1\n",
    "\n",
    "Buat sebuah dictionary <code>movies</code> dengan pasangan <i>key-value</i> <code>Home Alone: 1990</code>, <code>The Terminator: 1984</code>, <code>Titanic: 1997</code>, <code>Jurassic Park: 1993</code>, <code>The Lord of the Rings: 2001</code>, <code>Avatar: 2009</code> !"
   ]
  },
  {
   "cell_type": "code",
   "execution_count": null,
   "metadata": {},
   "outputs": [],
   "source": [
    "# Ketik kode Anda disini\n",
    "\n"
   ]
  },
  {
   "cell_type": "markdown",
   "metadata": {},
   "source": [
    "Klik dua kali __disini__ untuk melihat jawaban\n",
    "\n",
    "<!-- Jawaban:\n",
    "\n",
    "movies = {\n",
    "    'Home Alone': 1990,\n",
    "    'The Terminator': 1984,\n",
    "    'Titanic': 1997,\n",
    "    'Jurassic Park': 1993,\n",
    "    'The Lord of the Rings': 2001,\n",
    "    'Avatar': 2009\n",
    "}\n",
    "\n",
    "movies\n",
    "\n",
    "-->"
   ]
  },
  {
   "cell_type": "markdown",
   "metadata": {},
   "source": [
    "### No. 2\n",
    "\n",
    "Ambil <i>value</i> dari <i>key</i> <code>Titanic</code> !"
   ]
  },
  {
   "cell_type": "code",
   "execution_count": null,
   "metadata": {},
   "outputs": [],
   "source": [
    "# Ketik kode Anda disini\n",
    "\n"
   ]
  },
  {
   "cell_type": "markdown",
   "metadata": {},
   "source": [
    "Klik dua kali __disini__ untuk melihat jawaban\n",
    "\n",
    "<!-- Jawaban:\n",
    "\n",
    "movies['Titanic']\n",
    "\n",
    "-->"
   ]
  },
  {
   "cell_type": "markdown",
   "metadata": {},
   "source": [
    "### No. 3\n",
    "\n",
    "Ambil semua <i>key</i> dari dictionary <code>movies</code> !"
   ]
  },
  {
   "cell_type": "code",
   "execution_count": null,
   "metadata": {},
   "outputs": [],
   "source": [
    "# Ketik kode Anda disini\n",
    "\n"
   ]
  },
  {
   "cell_type": "markdown",
   "metadata": {},
   "source": [
    "Klik dua kali __disini__ untuk melihat jawaban\n",
    "\n",
    "<!-- Jawaban:\n",
    "\n",
    "movies.keys()\n",
    "\n",
    "-->"
   ]
  },
  {
   "cell_type": "markdown",
   "metadata": {},
   "source": [
    "### No. 4\n",
    "\n",
    "Tambahkan item baru <code>Harry Potter: 2001</code> pada dictionary <code>movies</code> !"
   ]
  },
  {
   "cell_type": "code",
   "execution_count": null,
   "metadata": {},
   "outputs": [],
   "source": [
    "# Ketik kode Anda disini\n",
    "\n"
   ]
  },
  {
   "cell_type": "markdown",
   "metadata": {},
   "source": [
    "Klik dua kali __disini__ untuk melihat jawaban\n",
    "\n",
    "<!-- Jawaban:\n",
    "\n",
    "movies['Harry Potter'] = 2001\n",
    "movies\n",
    "\n",
    "-->"
   ]
  },
  {
   "cell_type": "markdown",
   "metadata": {},
   "source": [
    "### No. 5\n",
    "\n",
    "Hapus <code>The Terminator</code> dari dictionary <code>movies</code> !"
   ]
  },
  {
   "cell_type": "code",
   "execution_count": null,
   "metadata": {},
   "outputs": [],
   "source": [
    "# Ketik kode Anda disini\n",
    "\n"
   ]
  },
  {
   "cell_type": "markdown",
   "metadata": {},
   "source": [
    "Klik dua kali __disini__ untuk melihat jawaban\n",
    "\n",
    "<!-- Jawaban:\n",
    "\n",
    "del movies['The Terminator']\n",
    "movies\n",
    "\n",
    "-->"
   ]
  },
  {
   "cell_type": "markdown",
   "metadata": {},
   "source": [
    "<hr>"
   ]
  },
  {
   "cell_type": "markdown",
   "metadata": {},
   "source": [
    "Copyright @ <a href=\"https://ilmudatapy.com/\">ilmudatapy.com</a>"
   ]
  }
 ],
 "metadata": {
  "kernelspec": {
   "display_name": "Python 3",
   "language": "python",
   "name": "python3"
  },
  "language_info": {
   "codemirror_mode": {
    "name": "ipython",
    "version": 3
   },
   "file_extension": ".py",
   "mimetype": "text/x-python",
   "name": "python",
   "nbconvert_exporter": "python",
   "pygments_lexer": "ipython3",
   "version": "3.7.3"
  }
 },
 "nbformat": 4,
 "nbformat_minor": 2
}
