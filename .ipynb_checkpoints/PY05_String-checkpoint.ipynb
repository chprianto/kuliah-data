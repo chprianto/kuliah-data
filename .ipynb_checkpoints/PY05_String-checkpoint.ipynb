{
 "cells": [
  {
   "cell_type": "markdown",
   "metadata": {},
   "source": [
    "<img src=\"../images/ilmudatapy-logo.png\" width=\"350\" align=\"center\">\n",
    "<br>"
   ]
  },
  {
   "cell_type": "markdown",
   "metadata": {},
   "source": [
    "<center><h1>String</h1></center>\n",
    "<hr>"
   ]
  },
  {
   "cell_type": "markdown",
   "metadata": {},
   "source": [
    "__Halo, Learners!__ Di notebook ini, kita akan membahas tentang operasi yang dapat dilakukan pada string menggunakan bahasa pemrograman Python.\n",
    "\n",
    "String adalah salah satu tipe objek di Python yang berupa teks atau karakter. Penulisannya harus diapit oleh dua tanda kutip, bisa menggunakan tanda kutip satu ataupun tanda kutip dua."
   ]
  },
  {
   "cell_type": "markdown",
   "metadata": {},
   "source": [
    "<h2>Table of Contents</h2>\n",
    "<div class=\"alert alert-block alert-info\" style=\"margin-top: 25px\">\n",
    "    <ul>\n",
    "        <li>\n",
    "            Contoh String\n",
    "        </li>\n",
    "        <li>\n",
    "            Operasi String\n",
    "            <ul>\n",
    "               <li>Menggabungkan string</li>\n",
    "               <li>Menduplikasi string</li>\n",
    "               <li>Mengecek keberadaan string (apakah ada?)</li>\n",
    "               <li>Mengecek keberadaan string (apakah tidak ada?)</li>\n",
    "            </ul>\n",
    "        </li>\n",
    "        <li>\n",
    "            Indexing\n",
    "            <ul>\n",
    "               <li>Negative Indexing</li>\n",
    "               <li>Slicing</li>\n",
    "               <li>Stride</li>\n",
    "            </ul>\n",
    "        </li>\n",
    "        <li>\n",
    "            Built-in function yang dapat digunakan pada string\n",
    "            <ul>\n",
    "               <li>Konversi karakter menjadi integer</li>\n",
    "               <li>Konversi integer menjadi karakter</li>\n",
    "               <li>Menghitung panjang string</li>\n",
    "               <li>Konversi objek menjadi string</li>\n",
    "            </ul>\n",
    "        </li>\n",
    "        <li>\n",
    "            Method yang dapat digunakan pada string\n",
    "            <ul>\n",
    "                <li>Konversi string menjadi huruf kecil</li>\n",
    "                <li>Konversi string menjadi huruf besar (kapital)</li>\n",
    "                <li>Mengganti string tertentu dengan string lainnya</li>\n",
    "                <li>Mencari posisi sub-string tertentu</li>\n",
    "                <li>Menghitung jumlah karakter tertentu</li>\n",
    "                <li>Mengecek apakah string diakhiri karakter tertentu</li>\n",
    "                <li>Mengubah huruf pertama string menjadi huruf kapital</li>\n",
    "            </ul>\n",
    "        </li>\n",
    "        <li>\n",
    "            Escape Sequence\n",
    "            <ul>\n",
    "               <li>Newline</li>\n",
    "               <li>Tab</li>\n",
    "               <li>Backslash</li>\n",
    "            </ul>\n",
    "        </li>\n",
    "        <li>\n",
    "            Latihan: String\n",
    "        </li>\n",
    "    </ul>\n",
    "</div>"
   ]
  },
  {
   "cell_type": "markdown",
   "metadata": {},
   "source": [
    "<hr>\n",
    "<div class=\"alert alert-success\" style=\"margin-top: 20px\">\n",
    "    <strong>Catatan:</strong> Untuk menjalankan kode program Python di Jupyter Notebook, klik pada <i>cell</i> yang ingin di-<i>run</i> lalu tekan <kbd>Shift</kbd> + <kbd>Enter</kbd>.\n",
    "</div>\n",
    "<hr>"
   ]
  },
  {
   "cell_type": "markdown",
   "metadata": {},
   "source": [
    "## Contoh String"
   ]
  },
  {
   "cell_type": "markdown",
   "metadata": {},
   "source": [
    "Berikut merupakan contoh string. Coba jalankan <i>cell</i> di bawah ini untuk melihat hasilnya."
   ]
  },
  {
   "cell_type": "code",
   "execution_count": null,
   "metadata": {},
   "outputs": [],
   "source": [
    "# Contoh string yang menggunakan tanda kutip dua\n",
    "\n",
    "\"Selamat datang\""
   ]
  },
  {
   "cell_type": "markdown",
   "metadata": {},
   "source": [
    "Kita juga bisa menggunakan tanda kutip satu untuk mendefinisikan string."
   ]
  },
  {
   "cell_type": "code",
   "execution_count": null,
   "metadata": {},
   "outputs": [],
   "source": [
    "# Contoh string menggunakan tanda kutip satu\n",
    "\n",
    "'Selamat datang'"
   ]
  },
  {
   "cell_type": "markdown",
   "metadata": {},
   "source": [
    "String dapat berupa karakter dan spasi."
   ]
  },
  {
   "cell_type": "code",
   "execution_count": null,
   "metadata": {},
   "outputs": [],
   "source": [
    "# Contoh string berupa karakter dan spasi\n",
    "\n",
    "'&% ^()#_5?! +-@*'"
   ]
  },
  {
   "cell_type": "markdown",
   "metadata": {},
   "source": [
    "String juga dapat berupa angka."
   ]
  },
  {
   "cell_type": "code",
   "execution_count": null,
   "metadata": {},
   "outputs": [],
   "source": [
    "# Contoh string yang berupa bilangan\n",
    "\n",
    "'12345'"
   ]
  },
  {
   "cell_type": "markdown",
   "metadata": {},
   "source": [
    "Bilangan yang di-<i>assign</i> sebagai string, tidak dapat diproses untuk perhitungan aritmatika."
   ]
  },
  {
   "cell_type": "markdown",
   "metadata": {},
   "source": [
    "Kita juga dapat menggunakan __print()__ untuk mencetak string."
   ]
  },
  {
   "cell_type": "code",
   "execution_count": null,
   "metadata": {},
   "outputs": [],
   "source": [
    "print('Selamat datang')"
   ]
  },
  {
   "cell_type": "markdown",
   "metadata": {},
   "source": [
    "Sama seperti tipe objek yang berupa bilangan, string juga dapat dimasukkan ke dalam variabel."
   ]
  },
  {
   "cell_type": "code",
   "execution_count": null,
   "metadata": {},
   "outputs": [],
   "source": [
    "# Menempatkan string di dalam sebuah variabel\n",
    "\n",
    "kota = 'Jakarta'\n",
    "kota"
   ]
  },
  {
   "cell_type": "markdown",
   "metadata": {},
   "source": [
    "<hr>"
   ]
  },
  {
   "cell_type": "markdown",
   "metadata": {},
   "source": [
    "## Operasi String"
   ]
  },
  {
   "cell_type": "markdown",
   "metadata": {},
   "source": [
    "### Menggabungkan string"
   ]
  },
  {
   "cell_type": "markdown",
   "metadata": {},
   "source": [
    "Untuk menggabungkan dua string atau lebih, Anda dapat menggunakan operator <code>+</code>. Coba jalankan <i>cell</i> di bawah ini."
   ]
  },
  {
   "cell_type": "code",
   "execution_count": null,
   "metadata": {},
   "outputs": [],
   "source": [
    "# Contoh menggabungkan string\n",
    "\n",
    "nama = 'John'\n",
    "\n",
    "'Nama saya ' + nama"
   ]
  },
  {
   "cell_type": "code",
   "execution_count": null,
   "metadata": {},
   "outputs": [],
   "source": [
    "sambutan = 'Selamat datang'\n",
    "nama = 'John'\n",
    "\n",
    "sambutan + ', ' + nama"
   ]
  },
  {
   "cell_type": "code",
   "execution_count": null,
   "metadata": {},
   "outputs": [],
   "source": [
    "pernyataan = nama + ' is the best'\n",
    "pernyataan"
   ]
  },
  {
   "cell_type": "markdown",
   "metadata": {},
   "source": [
    "### Menduplikasi string"
   ]
  },
  {
   "cell_type": "markdown",
   "metadata": {},
   "source": [
    "Untuk menduplikasi string, Anda dapat menggunakan operator <code>*</code>. Coba jalankan <i>cell</i> di bawah ini."
   ]
  },
  {
   "cell_type": "code",
   "execution_count": null,
   "metadata": {},
   "outputs": [],
   "source": [
    "# Contoh duplikasi string\n",
    "\n",
    "s = \"Apel\"\n",
    "\n",
    "3 * s"
   ]
  },
  {
   "cell_type": "code",
   "execution_count": null,
   "metadata": {},
   "outputs": [],
   "source": [
    "s * 5"
   ]
  },
  {
   "cell_type": "code",
   "execution_count": null,
   "metadata": {},
   "outputs": [],
   "source": [
    "'Apel ' * 5"
   ]
  },
  {
   "cell_type": "markdown",
   "metadata": {},
   "source": [
    "Bilangan pengali string harus berupa bilangan integer positif. Penggunaan angka 0 maupun bilangan negatif sebagai pengali akan menghasilkan karakter kosong."
   ]
  },
  {
   "cell_type": "code",
   "execution_count": null,
   "metadata": {},
   "outputs": [],
   "source": [
    "s * 0"
   ]
  },
  {
   "cell_type": "code",
   "execution_count": null,
   "metadata": {},
   "outputs": [],
   "source": [
    "-9 * s"
   ]
  },
  {
   "cell_type": "markdown",
   "metadata": {},
   "source": [
    "### Mengecek keberadaan string (apakah ada?)"
   ]
  },
  {
   "cell_type": "markdown",
   "metadata": {},
   "source": [
    "Operator <code>in</code> digunakan untuk mengecek apakah suatu karakter termasuk ke dalam anggota suatu string. Output yang akan dihasilkan berupa boolean, __True__ atau __False__. String atau karakter yang ingin dicek keberadaannya juga bisa berupa kata maupun hanya satu karakter saja."
   ]
  },
  {
   "cell_type": "code",
   "execution_count": null,
   "metadata": {},
   "outputs": [],
   "source": [
    "# Contoh penggunaan in\n",
    "\n",
    "a = \"apel\"\n",
    "\n",
    "a in \"jeruk, apel, melon, mangga\""
   ]
  },
  {
   "cell_type": "code",
   "execution_count": null,
   "metadata": {},
   "outputs": [],
   "source": [
    "b = \"anggur\"\n",
    "buah = \"jeruk, apel, melon, mangga\"\n",
    "\n",
    "b in buah"
   ]
  },
  {
   "cell_type": "code",
   "execution_count": null,
   "metadata": {},
   "outputs": [],
   "source": [
    "'j' in 'michael jackson'"
   ]
  },
  {
   "cell_type": "code",
   "execution_count": null,
   "metadata": {},
   "outputs": [],
   "source": [
    "'ma' in 'michael jackson'"
   ]
  },
  {
   "cell_type": "markdown",
   "metadata": {},
   "source": [
    "### Mengecek keberadaan string (apakah tidak ada?)"
   ]
  },
  {
   "cell_type": "markdown",
   "metadata": {},
   "source": [
    "Operator <code>not in</code> dapat digunakan untuk mengecek keberadaan string. Namun perbedaannya dengan operator <code>in</code> adalah <code>not in</code> akan mengecek apakah suatu karakter tidak berada di dalam string."
   ]
  },
  {
   "cell_type": "code",
   "execution_count": null,
   "metadata": {},
   "outputs": [],
   "source": [
    "# Contoh penggunaan not in\n",
    "\n",
    "a = \"apel\"\n",
    "\n",
    "a not in \"jeruk, apel, melon, mangga\""
   ]
  },
  {
   "cell_type": "code",
   "execution_count": null,
   "metadata": {},
   "outputs": [],
   "source": [
    "b = \"anggur\"\n",
    "buah = \"jeruk, apel, melon, mangga\"\n",
    "\n",
    "b not in buah"
   ]
  },
  {
   "cell_type": "code",
   "execution_count": null,
   "metadata": {},
   "outputs": [],
   "source": [
    "'j' not in 'michael jackson'"
   ]
  },
  {
   "cell_type": "code",
   "execution_count": null,
   "metadata": {},
   "outputs": [],
   "source": [
    "'ma' not in 'michael jackson'"
   ]
  },
  {
   "cell_type": "markdown",
   "metadata": {},
   "source": [
    "<hr>"
   ]
  },
  {
   "cell_type": "markdown",
   "metadata": {},
   "source": [
    "## Indexing"
   ]
  },
  {
   "cell_type": "markdown",
   "metadata": {},
   "source": [
    "String terdiri dari rentetan karakter. Setiap karakter dalam string dapat diakses menggunakan indeks yang direpresentasikan oleh bilangan integer. Indeks string dimulai dari 0, 1, 2, dan seterusnya. Spasi juga termasuk karakter, jadi spasi yang ada di dalam string ikut terindeks."
   ]
  },
  {
   "cell_type": "markdown",
   "metadata": {},
   "source": [
    "<img src=\"../images/string-indexing-1.png\" width=\"550\" align=\"center\">"
   ]
  },
  {
   "cell_type": "code",
   "execution_count": null,
   "metadata": {},
   "outputs": [],
   "source": [
    "# Mengambil isi indeks ke-0\n",
    "\n",
    "provinsi = \"DKI Jakarta\"\n",
    "\n",
    "provinsi[0]"
   ]
  },
  {
   "cell_type": "markdown",
   "metadata": {},
   "source": [
    "Kita juga bisa menggunakan __print()__"
   ]
  },
  {
   "cell_type": "code",
   "execution_count": null,
   "metadata": {},
   "outputs": [],
   "source": [
    "# Menampilkan isi indeks ke-0 dengan print()\n",
    "\n",
    "print(provinsi[0])"
   ]
  },
  {
   "cell_type": "code",
   "execution_count": null,
   "metadata": {},
   "outputs": [],
   "source": [
    "# Mengambil isi indeks ke-6\n",
    "\n",
    "provinsi[6]"
   ]
  },
  {
   "cell_type": "code",
   "execution_count": null,
   "metadata": {},
   "outputs": [],
   "source": [
    "# Mengambil isi indeks ke-9\n",
    "\n",
    "provinsi[9]"
   ]
  },
  {
   "cell_type": "markdown",
   "metadata": {},
   "source": [
    "### Negative Indexing"
   ]
  },
  {
   "cell_type": "markdown",
   "metadata": {},
   "source": [
    "Jika kita ingin mengambil isi indeks dari bagian belakang string, kita dapat menggunakan <i>negative indexing</i>."
   ]
  },
  {
   "cell_type": "markdown",
   "metadata": {},
   "source": [
    "<img src=\"../images/string-indexing-2.png\" width=\"550\" align=\"center\">"
   ]
  },
  {
   "cell_type": "code",
   "execution_count": null,
   "metadata": {},
   "outputs": [],
   "source": [
    "# Mengambil isi indeks -1\n",
    "\n",
    "provinsi[-1]"
   ]
  },
  {
   "cell_type": "code",
   "execution_count": null,
   "metadata": {},
   "outputs": [],
   "source": [
    "# Mengambil isi indeks -9\n",
    "\n",
    "provinsi[-9]"
   ]
  },
  {
   "cell_type": "code",
   "execution_count": null,
   "metadata": {},
   "outputs": [],
   "source": [
    "# Mengambil isi indeks -5\n",
    "\n",
    "provinsi[-5]"
   ]
  },
  {
   "cell_type": "markdown",
   "metadata": {},
   "source": [
    "### Slicing"
   ]
  },
  {
   "cell_type": "markdown",
   "metadata": {},
   "source": [
    "Kita dapat mengambil beberapa karakter pada string menggunakan <i>slicing</i>. Misalnya kita ingin mengambil isi indeks 0-2 dan 5-8. "
   ]
  },
  {
   "cell_type": "markdown",
   "metadata": {},
   "source": [
    "<img src=\"../images/string-indexing-3.png\" width=\"550\" align=\"center\">"
   ]
  },
  {
   "cell_type": "markdown",
   "metadata": {},
   "source": [
    "Angka pertama adalah indeks dimana kita akan mulai memotong, sedangkan angka kedua adalah indeks terakhir yang ingin dipotong ditambah 1. \n",
    "\n",
    "Jika kita ingin mengambil kata \"DKI\" dimana itu merupakan indeks 0-2, kita harus menuliskan kodenya dengan <code>provinsi[0:3]</code>. Jika kita hanya menulis kodenya dengan <code>provinsi[0:2]</code>, maka yang terambil hanya \"DK\"."
   ]
  },
  {
   "cell_type": "code",
   "execution_count": null,
   "metadata": {},
   "outputs": [],
   "source": [
    "# Mengambil potongan string \"DKI\"\n",
    "\n",
    "provinsi[0:3]"
   ]
  },
  {
   "cell_type": "code",
   "execution_count": null,
   "metadata": {},
   "outputs": [],
   "source": [
    "provinsi[0:2]"
   ]
  },
  {
   "cell_type": "code",
   "execution_count": null,
   "metadata": {},
   "outputs": [],
   "source": [
    "provinsi[5:9]"
   ]
  },
  {
   "cell_type": "code",
   "execution_count": null,
   "metadata": {},
   "outputs": [],
   "source": [
    "provinsi[5:8]"
   ]
  },
  {
   "cell_type": "markdown",
   "metadata": {},
   "source": [
    "### Stride"
   ]
  },
  {
   "cell_type": "markdown",
   "metadata": {},
   "source": [
    "Kita juga dapat mengambil beberapa karakter dengan langkah yang kita inginkan. Misalnya kita ingin mengambil string dengan diloncat satu karakter alias setiap dua langkah."
   ]
  },
  {
   "cell_type": "markdown",
   "metadata": {},
   "source": [
    "<img src=\"../images/string-indexing-6.png\" width=\"550\" align=\"center\">"
   ]
  },
  {
   "cell_type": "markdown",
   "metadata": {},
   "source": [
    "Jika kita akan menerapkannya pada seluruh karakter pada string, kita dapat menulis kodenya seperti pada <i>cell</i> di bawah ini. Kita menulis angka 2 pada sebagai jumlah langkah yang ingin diambil."
   ]
  },
  {
   "cell_type": "code",
   "execution_count": null,
   "metadata": {},
   "outputs": [],
   "source": [
    "# Mengambil karakter setiap dua langkah\n",
    "\n",
    "provinsi[::2]"
   ]
  },
  {
   "cell_type": "markdown",
   "metadata": {},
   "source": [
    "Namun, jika kita hanya ingin mengambil karakter pada potongan string tertentu dengan langkah tertentu, misalnya akan mengambil hanya dari kata \"Jakarta\", kita dapat menulis kodenya seperti ini."
   ]
  },
  {
   "cell_type": "code",
   "execution_count": null,
   "metadata": {},
   "outputs": [],
   "source": [
    "# Mengambil karakter dari indeks 4-10 dengan 2 langkah\n",
    "\n",
    "provinsi[4:11:2]"
   ]
  },
  {
   "cell_type": "markdown",
   "metadata": {},
   "source": [
    "Atau jika sampai akhir string, kita bisa tidak menuliskan angka yang ditengah yang merupakan angka untuk menyatakan batas akhirnya."
   ]
  },
  {
   "cell_type": "code",
   "execution_count": null,
   "metadata": {},
   "outputs": [],
   "source": [
    "# Mengambil karakter dari indeks 4 sampai akhir dengan 2 langkah\n",
    "\n",
    "provinsi[4::2]"
   ]
  },
  {
   "cell_type": "markdown",
   "metadata": {},
   "source": [
    "Jika ingin mengambil dari awal string, namun dengan batas akhir tertentu, angka pertama bisa tidak ditulis."
   ]
  },
  {
   "cell_type": "code",
   "execution_count": null,
   "metadata": {},
   "outputs": [],
   "source": [
    "# Mengambil karakter dari indeks pertama hingga indeks 6 dengan 2 langkah\n",
    "\n",
    "provinsi[:7:2]"
   ]
  },
  {
   "cell_type": "markdown",
   "metadata": {},
   "source": [
    "Selain dua langkah, kita juga bisa menentukan berapapun langkah yang diinginkan."
   ]
  },
  {
   "cell_type": "code",
   "execution_count": null,
   "metadata": {},
   "outputs": [],
   "source": [
    "provinsi[::4]"
   ]
  },
  {
   "cell_type": "markdown",
   "metadata": {},
   "source": [
    "<hr>"
   ]
  },
  {
   "cell_type": "markdown",
   "metadata": {},
   "source": [
    "## Built-in function yang dapat digunakan pada string"
   ]
  },
  {
   "cell_type": "markdown",
   "metadata": {},
   "source": [
    "Seperti kita tahu bahwa Python menyediakan built-in function yang dapat memudahkan kita melakukan proses koding. Ada empat <i>built-in function</i> yang dapat digunakan untuk memproses string."
   ]
  },
  {
   "cell_type": "markdown",
   "metadata": {},
   "source": [
    "### Konversi karakter menjadi integer dengan ord()"
   ]
  },
  {
   "cell_type": "markdown",
   "metadata": {},
   "source": [
    "<code>ord()</code> berfungsi untuk menghasilkan sebuah nilai integer berupa kode ASCII dari sebuah karakter.\n",
    "\n",
    "Komputer menyimpan segala informasi apapun sebagai angka/bilangan. Untuk merepresentasikan data, digunakan skema terjemahan yang memetakan setiap karakter ke angka yang mewakilinya. Skema yang paling umum digunakan adalah ASCII yang merupakan kepanjangan dari <i>American Standard Code for Information Interchange</i>.\n",
    "\n",
    "Singkatnya, setiap karakter di komputer itu memiliki angka unik masing-masing. Nah, fungsi <code>ord()</code> ini berfungsi untuk menampilkan kode ASCII dari sebuah karakter. Coba jalankan <i>cell</i> di bawah ini."
   ]
  },
  {
   "cell_type": "code",
   "execution_count": null,
   "metadata": {},
   "outputs": [],
   "source": [
    "# Kode ASCII untuk a\n",
    "\n",
    "ord('a')"
   ]
  },
  {
   "cell_type": "code",
   "execution_count": null,
   "metadata": {},
   "outputs": [],
   "source": [
    "# Kode ASCII untuk s\n",
    "\n",
    "ord('s')"
   ]
  },
  {
   "cell_type": "code",
   "execution_count": null,
   "metadata": {},
   "outputs": [],
   "source": [
    "# Kode ASCII untuk ?\n",
    "\n",
    "ord('?')"
   ]
  },
  {
   "cell_type": "code",
   "execution_count": null,
   "metadata": {},
   "outputs": [],
   "source": [
    "# Kode ASCII untuk $\n",
    "\n",
    "ord('$')"
   ]
  },
  {
   "cell_type": "markdown",
   "metadata": {},
   "source": [
    "### Konversi integer menjadi karakter dengan chr()"
   ]
  },
  {
   "cell_type": "markdown",
   "metadata": {},
   "source": [
    "<code>chr()</code> berfungsi untuk menghasilkan sebuah karakter dari kode ASCII.\n",
    "\n",
    "Fungsi <code>chr()</code> merupakan kebalikan dari <code>ord()</code> yakni menghasilkan karakter yang merupakan representasi dari kode ASCII yang dimasukkan. Coba jalankan <i>cell</i> di bawah ini."
   ]
  },
  {
   "cell_type": "code",
   "execution_count": null,
   "metadata": {},
   "outputs": [],
   "source": [
    "# Karakter dengan kode ASCII 97\n",
    "\n",
    "chr(97)"
   ]
  },
  {
   "cell_type": "code",
   "execution_count": null,
   "metadata": {},
   "outputs": [],
   "source": [
    "# Karakter dengan kode ASCII 115\n",
    "\n",
    "chr(115)"
   ]
  },
  {
   "cell_type": "code",
   "execution_count": null,
   "metadata": {},
   "outputs": [],
   "source": [
    "# Karakter dengan kode ASCII 63\n",
    "\n",
    "chr(63)"
   ]
  },
  {
   "cell_type": "code",
   "execution_count": null,
   "metadata": {},
   "outputs": [],
   "source": [
    "# Karakter dengan kode ASCII 36\n",
    "\n",
    "chr(36)"
   ]
  },
  {
   "cell_type": "markdown",
   "metadata": {},
   "source": [
    "### Menghitung panjang string dengan len()"
   ]
  },
  {
   "cell_type": "markdown",
   "metadata": {},
   "source": [
    "<code>len()</code> berfungsi untuk menghasilkan panjang dari sebuah string.\n",
    "\n",
    "Jika kita ingin mengetahui panjang string, kita dapat menggunakan fungsi <code>len()</code>. Fungsi <code>len()</code> menghitung jumlah karakter pada string, termasuk spasi, dan menampilkan outputnya dalam bentuk bilangan integer. Coba jalankan <i>cell</i> di bawah ini. "
   ]
  },
  {
   "cell_type": "code",
   "execution_count": null,
   "metadata": {},
   "outputs": [],
   "source": [
    "# Contoh penggunaan len()\n",
    "\n",
    "s = 'Dia tidak datang hari ini.'\n",
    "\n",
    "len(s)"
   ]
  },
  {
   "cell_type": "code",
   "execution_count": null,
   "metadata": {},
   "outputs": [],
   "source": [
    "len('John')"
   ]
  },
  {
   "cell_type": "code",
   "execution_count": null,
   "metadata": {},
   "outputs": [],
   "source": [
    "len(' ')"
   ]
  },
  {
   "cell_type": "code",
   "execution_count": null,
   "metadata": {},
   "outputs": [],
   "source": [
    "len('1 + 2 = 3')"
   ]
  },
  {
   "cell_type": "markdown",
   "metadata": {},
   "source": [
    "### Konversi objek bilangan menjadi string dengan str()"
   ]
  },
  {
   "cell_type": "markdown",
   "metadata": {},
   "source": [
    "<code>str()</code> berfungsi untuk menghasilkan bentuk string dari sebuah objek.\n",
    "\n",
    "Di Python, kita dapat mengubah tipe data dari sebuah objek. Untuk pengkonversian tipe data menjadi sebuah string dapat menggunakan fungsi <code>str()</code>. Coba jalankan <i>cell</i> di bawah ini."
   ]
  },
  {
   "cell_type": "code",
   "execution_count": null,
   "metadata": {},
   "outputs": [],
   "source": [
    "# Contoh penggunaan str()\n",
    "\n",
    "str(30.8)"
   ]
  },
  {
   "cell_type": "code",
   "execution_count": null,
   "metadata": {},
   "outputs": [],
   "source": [
    "str(30 + 20)"
   ]
  },
  {
   "cell_type": "markdown",
   "metadata": {},
   "source": [
    "Pada contoh pertama, <code>30.8</code> yang merupakan bilangan float diubah menjadi string dengan ditandai dengan adanya batasan tanda kutip pada output yang dihasilkan. Begitu pula pada contoh kedua. Operasi bilangan integer yang berupa penjumlahan dieksekusi terlebih dahulu sebelum hasilnya dikonversi menjadi string.\n",
    "\n",
    "Jika objek sudah berupa string, maka akan tetap string seperti contoh di bawah ini. Coba jalankan <i>cell</i> di bawah ini."
   ]
  },
  {
   "cell_type": "code",
   "execution_count": null,
   "metadata": {},
   "outputs": [],
   "source": [
    "str('hallo')"
   ]
  },
  {
   "cell_type": "markdown",
   "metadata": {},
   "source": [
    "<hr>"
   ]
  },
  {
   "cell_type": "markdown",
   "metadata": {},
   "source": [
    "## Method yang dapat digunakan pada string "
   ]
  },
  {
   "cell_type": "markdown",
   "metadata": {},
   "source": [
    "Berbeda dengan <i>function</i> atau fungsi, <i>method</i> diletakkan setelah objeknya. Perhatikan contoh penggunaannya berikut ini."
   ]
  },
  {
   "cell_type": "markdown",
   "metadata": {},
   "source": [
    "### Konversi string menjadi huruf kecil "
   ]
  },
  {
   "cell_type": "markdown",
   "metadata": {},
   "source": [
    "<code>.lower()</code> berfungsi untuk mengubah string menjadi huruf kecil. Coba jalankan <i>cell</i> di bawah ini."
   ]
  },
  {
   "cell_type": "code",
   "execution_count": null,
   "metadata": {},
   "outputs": [],
   "source": [
    "# Contoh penggunaan .lower()\n",
    "\n",
    "a = \"Saya sedang belajar Python\"\n",
    "print(\"sebelum : \", a)\n",
    "\n",
    "b = a.lower()\n",
    "print(\"sesudah : \", b)"
   ]
  },
  {
   "cell_type": "code",
   "execution_count": null,
   "metadata": {},
   "outputs": [],
   "source": [
    "\"PYTHON\".lower()"
   ]
  },
  {
   "cell_type": "code",
   "execution_count": null,
   "metadata": {},
   "outputs": [],
   "source": [
    "prov = 'DKI Jakarta'\n",
    "\n",
    "prov.lower()"
   ]
  },
  {
   "cell_type": "markdown",
   "metadata": {},
   "source": [
    "### Konversi string menjadi huruf besar (kapital)"
   ]
  },
  {
   "cell_type": "markdown",
   "metadata": {},
   "source": [
    "<code>.upper()</code> berfungsi untuk mengubah string menjadi huruf besar atau huruf kapital. Coba jalankan <i>cell</i> di bawah ini."
   ]
  },
  {
   "cell_type": "code",
   "execution_count": null,
   "metadata": {},
   "outputs": [],
   "source": [
    "# Contoh penggunaan .upper()\n",
    "\n",
    "a = \"Saya sedang belajar Python\"\n",
    "print(\"sebelum : \", a)\n",
    "\n",
    "b = a.upper()\n",
    "print(\"sesudah : \", b)"
   ]
  },
  {
   "cell_type": "code",
   "execution_count": null,
   "metadata": {},
   "outputs": [],
   "source": [
    "\"python\".upper()"
   ]
  },
  {
   "cell_type": "code",
   "execution_count": null,
   "metadata": {},
   "outputs": [],
   "source": [
    "prov = 'DKI Jakarta'\n",
    "\n",
    "prov.upper()"
   ]
  },
  {
   "cell_type": "markdown",
   "metadata": {},
   "source": [
    "### Mengganti string tertentu dengan string lainnya"
   ]
  },
  {
   "cell_type": "markdown",
   "metadata": {},
   "source": [
    "<code>.replace()</code> berfungsi untuk mengganti nilai string. Ada dua argumen yang harus kita definisikan, yang pertama adalah string yang akan diubah, dan yang kedua adalah string penggantinya. Coba jalankan <i>cell</i> di bawah ini."
   ]
  },
  {
   "cell_type": "code",
   "execution_count": null,
   "metadata": {},
   "outputs": [],
   "source": [
    "# Contoh penggunaan .replace()\n",
    "\n",
    "a = \"Saya sedang belajar Python\"\n",
    "\n",
    "a.replace(\"Python\", \"Java dan PHP\")"
   ]
  },
  {
   "cell_type": "markdown",
   "metadata": {},
   "source": [
    "Anda juga dapat mengubah seluruh string."
   ]
  },
  {
   "cell_type": "code",
   "execution_count": null,
   "metadata": {},
   "outputs": [],
   "source": [
    "kota = \"Bandung\"\n",
    "kotaBaru = kota.replace(kota, \"Bogor\")     # Memasukkan hasil replace ke variabel baru\n",
    "kotaBaru"
   ]
  },
  {
   "cell_type": "code",
   "execution_count": null,
   "metadata": {},
   "outputs": [],
   "source": [
    "a = \"Saya sedang belajar Python\"\n",
    "b = \"Dia tertarik dengan data science\"\n",
    "\n",
    "a = a.replace(a, b)    # Memasukkan hasil replace ke variabel a sehingga nilai a sekarang sudah berubah\n",
    "a"
   ]
  },
  {
   "cell_type": "markdown",
   "metadata": {},
   "source": [
    "### Mencari posisi sub-string tertentu"
   ]
  },
  {
   "cell_type": "markdown",
   "metadata": {},
   "source": [
    "<code>.find()</code> berfungsi untuk mencari keberadaan sub-string tertentu. Argumen dari <i>method</i> <code>.find()</code> adalah sub-string yang ingin dicari."
   ]
  },
  {
   "cell_type": "markdown",
   "metadata": {},
   "source": [
    "<img src=\"../images/string-indexing-5.png\" width=\"550\" align=\"center\">"
   ]
  },
  {
   "cell_type": "code",
   "execution_count": null,
   "metadata": {},
   "outputs": [],
   "source": [
    "# Contoh penggunaan .find()\n",
    "\n",
    "provinsi = 'DKI Jakarta'\n",
    "\n",
    "provinsi.find('KI')"
   ]
  },
  {
   "cell_type": "code",
   "execution_count": null,
   "metadata": {},
   "outputs": [],
   "source": [
    "provinsi.find('akar')"
   ]
  },
  {
   "cell_type": "code",
   "execution_count": null,
   "metadata": {},
   "outputs": [],
   "source": [
    "provinsi.find('J')"
   ]
  },
  {
   "cell_type": "markdown",
   "metadata": {},
   "source": [
    "Jika sub-string yang dimaksud tidak ditemukan, maka Python akan menghasilkan output <code>-1</code>."
   ]
  },
  {
   "cell_type": "code",
   "execution_count": null,
   "metadata": {},
   "outputs": [],
   "source": [
    "provinsi.find('Jabgtwk')"
   ]
  },
  {
   "cell_type": "markdown",
   "metadata": {},
   "source": [
    "### Menghitung jumlah sub-string tertentu"
   ]
  },
  {
   "cell_type": "markdown",
   "metadata": {},
   "source": [
    "<code>.count()</code> berfungsi untuk menghitung jumlah sub-string tertentu yang terdapat pada string."
   ]
  },
  {
   "cell_type": "code",
   "execution_count": null,
   "metadata": {},
   "outputs": [],
   "source": [
    "# Menghitung jumlah kata \"Bandung\"\n",
    "\n",
    "teks = \"Bandung adalah ibukota Jawa Barat. Saya berasal dari Bandung.\"\n",
    "\n",
    "teks.count(\"Bandung\")"
   ]
  },
  {
   "cell_type": "code",
   "execution_count": null,
   "metadata": {},
   "outputs": [],
   "source": [
    "# Menghitung jumlah huruf a\n",
    "\n",
    "jumlah_a = teks.count('a')\n",
    "\n",
    "print(jumlah_a)"
   ]
  },
  {
   "cell_type": "code",
   "execution_count": null,
   "metadata": {},
   "outputs": [],
   "source": [
    "\"Mississippi\".count('s')"
   ]
  },
  {
   "cell_type": "markdown",
   "metadata": {},
   "source": [
    "### Mengecek apakah string diakhiri dengan karakter tertentu"
   ]
  },
  {
   "cell_type": "markdown",
   "metadata": {},
   "source": [
    "<code>.endswith()</code> berfungsi untuk mengecek apakah suatu string diakhiri karakter atau sub-string tertentu. <code>.endswith()</code> akan mengeluarkan output berupa boolean yang bernilai __True__ atau __False__."
   ]
  },
  {
   "cell_type": "code",
   "execution_count": null,
   "metadata": {},
   "outputs": [],
   "source": [
    "# Memeriksa apakah string teks diakhiri oleh tanda baca titik (.)\n",
    "\n",
    "teks = \"Bandung adalah ibukota Jawa Barat. Saya berasal dari Bandung.\"\n",
    "\n",
    "teks.endswith(\".\")"
   ]
  },
  {
   "cell_type": "code",
   "execution_count": null,
   "metadata": {},
   "outputs": [],
   "source": [
    "teks.endswith(\"Bandung\")"
   ]
  },
  {
   "cell_type": "code",
   "execution_count": null,
   "metadata": {},
   "outputs": [],
   "source": [
    "s = \"Selamat datang di Bandung\"\n",
    "\n",
    "s.endswith(\"Bandung\")"
   ]
  },
  {
   "cell_type": "markdown",
   "metadata": {},
   "source": [
    "### Mengubah huruf pertama string menjadi huruf kapital"
   ]
  },
  {
   "cell_type": "markdown",
   "metadata": {},
   "source": [
    "<code>.capitalize()</code> berfungsi untuk mengubah huruf pertama dalam sebuah string menjadi huruf kapital. "
   ]
  },
  {
   "cell_type": "code",
   "execution_count": null,
   "metadata": {},
   "outputs": [],
   "source": [
    "kalimat = \"hari ini hujan deras.\"\n",
    "\n",
    "kalimat.capitalize()"
   ]
  },
  {
   "cell_type": "code",
   "execution_count": null,
   "metadata": {},
   "outputs": [],
   "source": [
    "\"besok saya akan pergi bersama ibu.\".capitalize()"
   ]
  },
  {
   "cell_type": "markdown",
   "metadata": {},
   "source": [
    "<hr>"
   ]
  },
  {
   "cell_type": "markdown",
   "metadata": {},
   "source": [
    "## Escape Sequence"
   ]
  },
  {
   "cell_type": "markdown",
   "metadata": {},
   "source": [
    "<i>Escape sequence</i> adalah karakter yang tidak dapat ditulis secara langsung karena termasuk sulit untuk direpresentasikan. Cara menuliskannya yaitu dengan menggunakan <i>backslash</i> <code>\\\\</code> yang disertai representasi karakternya."
   ]
  },
  {
   "cell_type": "markdown",
   "metadata": {},
   "source": [
    "### Newline"
   ]
  },
  {
   "cell_type": "markdown",
   "metadata": {},
   "source": [
    "Untuk membuat <i>newline</i> atau baris baru, kita dapat menggunakan <code>\\\\n</code>. Coba jalankan <i>cell</i> di bawah ini."
   ]
  },
  {
   "cell_type": "code",
   "execution_count": null,
   "metadata": {},
   "outputs": [],
   "source": [
    "# Contoh penggunaan newline \\n\n",
    "\n",
    "print(' Hari ini hujan deras \\n disertai petir.')"
   ]
  },
  {
   "cell_type": "code",
   "execution_count": null,
   "metadata": {},
   "outputs": [],
   "source": [
    "print(\"Dia tidak pintar \\ntetapi rajin.\")"
   ]
  },
  {
   "cell_type": "markdown",
   "metadata": {},
   "source": [
    "### Tab"
   ]
  },
  {
   "cell_type": "markdown",
   "metadata": {},
   "source": [
    "Untuk membuat <i>tab</i>, kita dapat menggunakan <code>\\\\t</code>. Coba jalankan <i>cell</i> di bawah ini."
   ]
  },
  {
   "cell_type": "code",
   "execution_count": null,
   "metadata": {},
   "outputs": [],
   "source": [
    "# Contoh penggunaan \\t untuk membuat tab\n",
    "\n",
    "print(' Hari ini hujan deras \\t disertai petir.')"
   ]
  },
  {
   "cell_type": "code",
   "execution_count": null,
   "metadata": {},
   "outputs": [],
   "source": [
    "print(\"Dia tidak pintar \\ttetapi rajin.\")"
   ]
  },
  {
   "cell_type": "markdown",
   "metadata": {},
   "source": [
    "### Backslash"
   ]
  },
  {
   "cell_type": "markdown",
   "metadata": {},
   "source": [
    "Menampilkan <i>backslash</i> juga tidak bisa dilakukan secara langsung, melainkan dengan menggunakan <i>backslash</i> di depannya sehingga akan ada <i>double backslash</i> <code>\\\\\\\\</code>."
   ]
  },
  {
   "cell_type": "code",
   "execution_count": null,
   "metadata": {},
   "outputs": [],
   "source": [
    "# Contoh penggunaan \\\\\n",
    "\n",
    "print(' Hari ini hujan deras \\\\ disertai petir.')"
   ]
  },
  {
   "cell_type": "code",
   "execution_count": null,
   "metadata": {},
   "outputs": [],
   "source": [
    "print(\"Dia tidak pintar \\\\tetapi rajin.\")"
   ]
  },
  {
   "cell_type": "markdown",
   "metadata": {},
   "source": [
    "<hr>"
   ]
  },
  {
   "cell_type": "markdown",
   "metadata": {},
   "source": [
    "## Latihan: String"
   ]
  },
  {
   "cell_type": "markdown",
   "metadata": {},
   "source": [
    "Pada bagian ini, silahkan Anda menguji pemahaman Anda tentang string yang telah disampaikan di atas. Jika Anda masih bingung, Anda dapat melihat contoh jawaban yang telah disediakan di bawah <i>cell</i> dari masing-masing soal."
   ]
  },
  {
   "cell_type": "markdown",
   "metadata": {},
   "source": [
    "### No. 1\n",
    "\n",
    "Tampilkan string <code>s</code> yang berisi __\"Halo, Python! \"__ sebanyak lima kali!"
   ]
  },
  {
   "cell_type": "code",
   "execution_count": null,
   "metadata": {},
   "outputs": [],
   "source": [
    "# Ketik kode Anda disini\n",
    "\n"
   ]
  },
  {
   "cell_type": "markdown",
   "metadata": {},
   "source": [
    "Klik dua kali __disini__ untuk melihat jawaban\n",
    "\n",
    "<!-- Jawaban:\n",
    "\n",
    "s = \"Halo, Python! \"\n",
    "print(s*5)\n",
    "\n",
    "-->"
   ]
  },
  {
   "cell_type": "markdown",
   "metadata": {},
   "source": [
    "### No. 2\n",
    "\n",
    "Periksa apakah ada sub-string __\"aja\"__ pada string __\"Belajar Python sangat menyenangkan\"__ !"
   ]
  },
  {
   "cell_type": "code",
   "execution_count": null,
   "metadata": {},
   "outputs": [],
   "source": [
    "# Ketik kode Anda disini\n",
    "\n"
   ]
  },
  {
   "cell_type": "markdown",
   "metadata": {},
   "source": [
    "Klik dua kali __disini__ untuk melihat jawaban\n",
    "\n",
    "<!--Jawaban:\n",
    "\n",
    "'aja' in 'Belajar Python sangat menyenangkan'\n",
    "\n",
    "-->"
   ]
  },
  {
   "cell_type": "markdown",
   "metadata": {},
   "source": [
    "### No. 3\n",
    "\n",
    "Ambil indeks ke 10 dari string __\"Belajar Python sangat menyenangkan\"__ !"
   ]
  },
  {
   "cell_type": "code",
   "execution_count": null,
   "metadata": {},
   "outputs": [],
   "source": [
    "# Ketik kode Anda disini\n",
    "\n"
   ]
  },
  {
   "cell_type": "markdown",
   "metadata": {},
   "source": [
    "Klik dua kali __disini__ untuk melihat jawaban\n",
    "\n",
    "<!--Jawaban:\n",
    "\n",
    "teks = \"Belajar Python sangat menyenangkan\"\n",
    "teks[10]\n",
    "\n",
    "-->"
   ]
  },
  {
   "cell_type": "markdown",
   "metadata": {},
   "source": [
    "### No. 4\n",
    "\n",
    "Ambil kata __\"aja\"__ dari string __\"Belajar\"__ !"
   ]
  },
  {
   "cell_type": "code",
   "execution_count": null,
   "metadata": {},
   "outputs": [],
   "source": [
    "# Ketik kode Anda disini\n",
    "\n"
   ]
  },
  {
   "cell_type": "markdown",
   "metadata": {},
   "source": [
    "Klik dua kali __disini__ untuk melihat jawaban\n",
    "\n",
    "<!--Jawaban:\n",
    "\n",
    "st = \"Belajar\"\n",
    "st[3:6]\n",
    "\n",
    "-->"
   ]
  },
  {
   "cell_type": "markdown",
   "metadata": {},
   "source": [
    "### No. 5 \n",
    "\n",
    "Ambil kata __\"Bar\"__ dari string __\"Belajar\"__ !"
   ]
  },
  {
   "cell_type": "code",
   "execution_count": null,
   "metadata": {},
   "outputs": [],
   "source": [
    "# Ketik kode Anda disini\n",
    "\n"
   ]
  },
  {
   "cell_type": "markdown",
   "metadata": {},
   "source": [
    "Klik dua kali __disini__ untuk melihat jawaban\n",
    "\n",
    "<!-- Jawaban:\n",
    "\n",
    "st = 'Belajar'\n",
    "st[::3]\n",
    "\n",
    "-->"
   ]
  },
  {
   "cell_type": "markdown",
   "metadata": {},
   "source": [
    "### No. 6\n",
    "\n",
    "Berapa kode ASCII dari <code>&</code>"
   ]
  },
  {
   "cell_type": "code",
   "execution_count": null,
   "metadata": {},
   "outputs": [],
   "source": [
    "# Ketik kode Anda disini\n",
    "\n"
   ]
  },
  {
   "cell_type": "markdown",
   "metadata": {},
   "source": [
    "Klik dua kali __disini__ untuk melihat jawaban\n",
    "\n",
    "<!-- Jawaban:\n",
    "\n",
    "ord('&')\n",
    "\n",
    "-->"
   ]
  },
  {
   "cell_type": "markdown",
   "metadata": {},
   "source": [
    "### No. 7\n",
    "\n",
    "Ubah huruf depan string __\"ini contoh string\"__ menjadi huruf kapital!"
   ]
  },
  {
   "cell_type": "code",
   "execution_count": null,
   "metadata": {},
   "outputs": [],
   "source": [
    "# Ketik kode Anda disini\n",
    "\n"
   ]
  },
  {
   "cell_type": "markdown",
   "metadata": {},
   "source": [
    "Klik dua kali __disini__ untuk melihat jawaban\n",
    "\n",
    "<!-- Jawaban:\n",
    "\n",
    "cth = \"ini contoh string\"\n",
    "print(cth.capitalize())\n",
    "\n",
    "-->"
   ]
  },
  {
   "cell_type": "markdown",
   "metadata": {},
   "source": [
    "### No. 8\n",
    "\n",
    "Ada berapa jumlah karakter pada string __\"Belajar Python sangat menyenangkan\"__ ?"
   ]
  },
  {
   "cell_type": "code",
   "execution_count": null,
   "metadata": {},
   "outputs": [],
   "source": [
    "# Ketik kode Anda disini\n",
    "\n"
   ]
  },
  {
   "cell_type": "markdown",
   "metadata": {},
   "source": [
    "Klik dua kali __disini__ untuk melihat jawaban\n",
    "\n",
    "<!-- Jawbaan:\n",
    "\n",
    "len(\"Belajar Python sangat menyenangkan\")\n",
    "\n",
    "-->"
   ]
  },
  {
   "cell_type": "markdown",
   "metadata": {},
   "source": [
    "### No. 9\n",
    "\n",
    "Ada berapa jumlah huruf <code>a</code> pada string __\"Belajar Python sangat menyenangkan\"__ ?"
   ]
  },
  {
   "cell_type": "code",
   "execution_count": null,
   "metadata": {},
   "outputs": [],
   "source": [
    "# Ketik kode Anda disini\n",
    "\n"
   ]
  },
  {
   "cell_type": "markdown",
   "metadata": {},
   "source": [
    "Klik dua kali __disini__ untuk melihat jawaban\n",
    "\n",
    "<!-- Jawaban:\n",
    "\n",
    "teks = \"Belajar Python sangat menyenangkan\"\n",
    "teks.count('a')\n",
    "\n",
    "-->"
   ]
  },
  {
   "cell_type": "markdown",
   "metadata": {},
   "source": [
    "### No. 10\n",
    "\n",
    "Cetaklah string __\"Belajar Python sangat menyenangkan\"__ menjadi empat baris!"
   ]
  },
  {
   "cell_type": "code",
   "execution_count": null,
   "metadata": {},
   "outputs": [],
   "source": [
    "# Ketik kode Anda disini\n",
    "\n"
   ]
  },
  {
   "cell_type": "markdown",
   "metadata": {},
   "source": [
    "Klik dua kali __disini__ untuk melihat jawaban\n",
    "\n",
    "<!-- Jawaban:\n",
    "\n",
    "print('Belajar \\nPython \\nsangat \\nmenyenangkan')\n",
    "\n",
    "-->"
   ]
  },
  {
   "cell_type": "markdown",
   "metadata": {},
   "source": [
    "<hr>"
   ]
  },
  {
   "cell_type": "markdown",
   "metadata": {},
   "source": [
    "Copyright @ <a href=\"https://ilmudatapy.com/\">ilmudatapy.com</a>"
   ]
  }
 ],
 "metadata": {
  "kernelspec": {
   "display_name": "Python 3",
   "language": "python",
   "name": "python3"
  },
  "language_info": {
   "codemirror_mode": {
    "name": "ipython",
    "version": 3
   },
   "file_extension": ".py",
   "mimetype": "text/x-python",
   "name": "python",
   "nbconvert_exporter": "python",
   "pygments_lexer": "ipython3",
   "version": "3.7.3"
  }
 },
 "nbformat": 4,
 "nbformat_minor": 2
}
