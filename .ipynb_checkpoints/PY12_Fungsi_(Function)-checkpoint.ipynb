{
 "cells": [
  {
   "cell_type": "markdown",
   "metadata": {},
   "source": [
    "<img src=\"../images/ilmudatapy-logo.png\" width=\"350\" align=\"center\">\n",
    "<br>"
   ]
  },
  {
   "cell_type": "markdown",
   "metadata": {},
   "source": [
    "<center><h1>Fungsi / Function</h1></center>\n",
    "<hr>"
   ]
  },
  {
   "cell_type": "markdown",
   "metadata": {},
   "source": [
    "__Halo, Learners!__ Di notebook ini, kita akan belajar tentang <i>function</i> atau fungsi di dalam bahasa pemrograman Python, dari mulai apa itu fungsi, variabel lokal dan global, penggunaan if...else dan juga <i>looping</i> pada fungsi, serta memberikan argumen <i>default</i> pada fungsi."
   ]
  },
  {
   "cell_type": "markdown",
   "metadata": {},
   "source": [
    "<h2>Table of Contents</h2>\n",
    "<div class=\"alert alert-block alert-info\" style=\"margin-top: 25px\">\n",
    "    <ul>\n",
    "        <li>\n",
    "            Apa itu <i>Function</i> / Fungsi ?\n",
    "        </li>\n",
    "        <li>\n",
    "            Menyederhanakan kode program dengan fungsi\n",
    "        </li>\n",
    "        <li>\n",
    "            Variabel global dan variabel lokal\n",
    "        </li>\n",
    "        <li>\n",
    "            Menggunakan <b>if...else</b> dan <i>loop</i> di dalam fungsi\n",
    "        </li>\n",
    "        <li>\n",
    "            Memberikan argumen <i>default</i> pada fungsi\n",
    "        </li>\n",
    "        <li>\n",
    "            Built-in Function di Python\n",
    "        </li>\n",
    "        <li>\n",
    "            Latihan: Function / Fungsi\n",
    "        </li>\n",
    "    </ul>\n",
    "</div>"
   ]
  },
  {
   "cell_type": "markdown",
   "metadata": {},
   "source": [
    "<hr>\n",
    "<div class=\"alert alert-success\" style=\"margin-top: 20px\">\n",
    "    <strong>Catatan:</strong> Untuk menjalankan kode program Python di Jupyter Notebook, klik pada <i>cell</i> yang ingin di-<i>run</i> lalu tekan <kbd>Shift</kbd> + <kbd>Enter</kbd>.\n",
    "</div>\n",
    "<hr>"
   ]
  },
  {
   "cell_type": "markdown",
   "metadata": {},
   "source": [
    "## Apa itu Function / Fungsi ?"
   ]
  },
  {
   "cell_type": "markdown",
   "metadata": {},
   "source": [
    "<i>Function</i> atau fungsi adalah sebuah blok kode program yang dapat digunakan berulang kali dengan cara memanggilnya. \n",
    "\n",
    "Ada dua tipe fungsi, yaitu __Pre-defined function__ atau yang kita kenal dengan <i>built-in function</i> dan juga __User defined function__ atau fungsi yang dibuat oleh kita sebagai pengguna. Nah, disini kita akan membahas tentang __User defined function__.\n",
    "\n",
    "Bagaimana cara membuat sebuah fungsi?\n",
    "\n",
    "Untuk membuat sebuah fungsi, kita dapat menggunakan aturan berikut.\n",
    "\n",
    "* Sebuah fungsi diawali dengan <code>def</code> yang diikuti oleh __nama fungsi__ dan tanda kurung <code>()</code>.\n",
    "* Ada argumen yang harus diletakkan di dalam tanda kurung. Selain itu, Anda juga dapat meletakkan parameter pada tanda kurung ini.\n",
    "* Bagian tubuh (<i>body</i>) dari fungsi ditandai dengan tanda titik dua <code>:</code> yang biasanya diletakkan setelah tanda kurung.\n",
    "* Anda juga dapat menuliskan dokumentasi atau komentar pada fungsi.\n",
    "* Anda dapat menggunakan pernyataan <code>return</code> untuk mengembalikan nilai untuk digunakan di kode program utama. Biasanya <code>return</code> digunakan untuk menutup fungsi."
   ]
  },
  {
   "cell_type": "markdown",
   "metadata": {},
   "source": [
    "Perhatikan contoh berikut."
   ]
  },
  {
   "cell_type": "code",
   "execution_count": null,
   "metadata": {},
   "outputs": [],
   "source": [
    "# Contoh fungsi untuk menambah nilai dengan angka 1\n",
    "\n",
    "def tambah_satu(x):\n",
    "    y = x + 1\n",
    "    return y"
   ]
  },
  {
   "cell_type": "markdown",
   "metadata": {},
   "source": [
    "Contoh di atas merupakan sebuah fungsi dengan nama <code>tambah_satu</code> dan <code>x</code> sebagai parameter yang akan menampung nilai yang diberikan untuk kemudian diproses di dalam fungsi. Akhir dari fungsi tersebut adalah mengembalikan nilai <code>y</code>.\n",
    "\n",
    "Untuk memanggilnya, kita dapat menulis langsung nama fungsi tersebut dan diikuti nilai yang akan diberikan untuk diproses pada fungsi di dalam tanda kurung seperti di bawah ini."
   ]
  },
  {
   "cell_type": "code",
   "execution_count": null,
   "metadata": {},
   "outputs": [],
   "source": [
    "# Memanggil fungsi tambah_satu\n",
    "\n",
    "tambah_satu(10)"
   ]
  },
  {
   "cell_type": "markdown",
   "metadata": {},
   "source": [
    "<img src=\"../images/fungsi-1.png\" width=\"500\" align=\"center\">"
   ]
  },
  {
   "cell_type": "markdown",
   "metadata": {},
   "source": [
    "Berikut ini adalah contoh lain fungsi dengan dua parameter."
   ]
  },
  {
   "cell_type": "code",
   "execution_count": null,
   "metadata": {
    "scrolled": true
   },
   "outputs": [],
   "source": [
    "# Contoh fungsi perkalian dua bilangan\n",
    "\n",
    "def perkalian(a, b):\n",
    "    c = a * b\n",
    "    return print(a, 'dikali', b, 'sama dengan ', c)"
   ]
  },
  {
   "cell_type": "code",
   "execution_count": null,
   "metadata": {},
   "outputs": [],
   "source": [
    "# Memanggil fungsi perkalian\n",
    "\n",
    "perkalian(3,4)"
   ]
  },
  {
   "cell_type": "markdown",
   "metadata": {},
   "source": [
    "<hr>"
   ]
  },
  {
   "cell_type": "markdown",
   "metadata": {},
   "source": [
    "## Menyederhanakan kode program dengan fungsi"
   ]
  },
  {
   "cell_type": "markdown",
   "metadata": {},
   "source": [
    "Misalnya kita memiliki dua blok kode yang mirip dan hanya dibedakan nama variabel dan juga nilai untuk masing-masing variabelnya seperti di bawah ini."
   ]
  },
  {
   "cell_type": "markdown",
   "metadata": {},
   "source": [
    "#### Blok 1"
   ]
  },
  {
   "cell_type": "code",
   "execution_count": null,
   "metadata": {},
   "outputs": [],
   "source": [
    "# Perhitungan x dan y pada blok 1\n",
    "\n",
    "x1 = 6\n",
    "y1 = 8\n",
    "\n",
    "z1 = x1 * 2 + y1 * 3\n",
    "\n",
    "if (z1 > 20):\n",
    "    z1 = z1\n",
    "else:\n",
    "    z1 = 0"
   ]
  },
  {
   "cell_type": "markdown",
   "metadata": {},
   "source": [
    "#### Blok 2"
   ]
  },
  {
   "cell_type": "code",
   "execution_count": null,
   "metadata": {},
   "outputs": [],
   "source": [
    "# Perhitungan x dan y pada blok 2\n",
    "\n",
    "x2 = 3\n",
    "y2 = 4\n",
    "\n",
    "z2 = x2 * 2 + y2 * 3\n",
    "\n",
    "if (z2 > 20):\n",
    "    z2 = z2\n",
    "else:\n",
    "    z2 = 0"
   ]
  },
  {
   "cell_type": "markdown",
   "metadata": {},
   "source": [
    "Jika kita tulis seperti di atas, tentunya akan sangat boros karena mengulang proses yang sama dan hanya mengubah variabel. Dengan adanya fungsi, kita dapat menyederhanakan proses di atas sehingga nantinya kita hanya tinggal memanggil fungsi tersebut dengan memberikan nilai yang berbeda-beda. Lihat kode di bawah ini."
   ]
  },
  {
   "cell_type": "code",
   "execution_count": null,
   "metadata": {},
   "outputs": [],
   "source": [
    "# Fungsi untuk menghitung x dan y\n",
    "\n",
    "def hitungxy(x, y):\n",
    "    \n",
    "    z = x * 2 + y * 3\n",
    "    if (z > 20):\n",
    "        z = z\n",
    "    else:\n",
    "        z = 0\n",
    "        \n",
    "    return z"
   ]
  },
  {
   "cell_type": "markdown",
   "metadata": {},
   "source": [
    "#### Memanggil fungsi dengan nilai berbeda"
   ]
  },
  {
   "cell_type": "code",
   "execution_count": null,
   "metadata": {},
   "outputs": [],
   "source": [
    "x1 = 6\n",
    "y1 = 8\n",
    "z1 = hitungxy(x1, y1)\n",
    "z1"
   ]
  },
  {
   "cell_type": "code",
   "execution_count": null,
   "metadata": {},
   "outputs": [],
   "source": [
    "x2 = 3\n",
    "y2 = 4\n",
    "z2 = hitungxy(x2, y2)\n",
    "z2"
   ]
  },
  {
   "cell_type": "markdown",
   "metadata": {},
   "source": [
    "<hr>"
   ]
  },
  {
   "cell_type": "markdown",
   "metadata": {},
   "source": [
    "## Variabel global dan variabel lokal"
   ]
  },
  {
   "cell_type": "markdown",
   "metadata": {},
   "source": [
    "Variabel global adalah variabel yang ada di luar fungsi alias yang berada di kode program utama. Sementara itu, variabel lokal adalah variabel yang ada di dalam fungsi. \n",
    "\n",
    "Pada contoh di bawah ini, <code>prov</code> merupakan variabel global karena berada di luar fungsi, sedangkan <code>prov_indo</code> merupakan variabel lokal karena berada di dalam fungsi.\n",
    "\n",
    "Variabel global dapat digunakan baik di luar fungsi maupun di dalam fungsi, sedangkan variabel lokal hanya dapat digunakan di dalam fungsi. "
   ]
  },
  {
   "cell_type": "code",
   "execution_count": null,
   "metadata": {},
   "outputs": [],
   "source": [
    "# Contoh penggunaan variabel global dan lokal\n",
    "\n",
    "prov = 'Jawa Barat'\n",
    "\n",
    "def provinsi(prov):\n",
    "    prov_indo = prov\n",
    "    print(prov_indo, 'adalah provinsi di Indonesia')\n",
    "\n",
    "provinsi(prov)"
   ]
  },
  {
   "cell_type": "markdown",
   "metadata": {},
   "source": [
    "<img src=\"../images/fungsi-2.png\" width=\"800\" align=\"center\">"
   ]
  },
  {
   "cell_type": "markdown",
   "metadata": {},
   "source": [
    "Jika variabel lokal digunakan di luar fungsi, maka akan terjadi <i>error</i> <code>name 'prov_indo' is not defined</code>. Nah, lalu bagaimana caranya agar variabel lokal dapat digunakan di luar fungsi?\n",
    "\n",
    "Untuk mengatasinya, kita dapat mendeklarasikan variabel lokal sebagai global seperti di bawah ini."
   ]
  },
  {
   "cell_type": "code",
   "execution_count": null,
   "metadata": {},
   "outputs": [],
   "source": [
    "# Contoh penggunaan variabel global dan lokal\n",
    "\n",
    "prov = 'Jawa Barat'\n",
    "\n",
    "def provinsi(prov):\n",
    "    global prov_indo\n",
    "    prov_indo = 'Kalimantan Selatan'\n",
    "    print(prov, 'adalah provinsi di Indonesia')\n",
    "\n",
    "provinsi(prov)\n",
    "provinsi(prov_indo)"
   ]
  },
  {
   "cell_type": "markdown",
   "metadata": {},
   "source": [
    "<hr>"
   ]
  },
  {
   "cell_type": "markdown",
   "metadata": {},
   "source": [
    "## Menggunakan <code>if...else</code> dan loop di dalam fungsi"
   ]
  },
  {
   "cell_type": "markdown",
   "metadata": {},
   "source": [
    "Di dalam fungsi, kita juga dapat menggunakan seleksi kondisi __if...else__ dan juga <i>looping</i> seperti __for__ dan __while__. Kita dapat menggunakan <code>return</code> untuk mengembalikan nilai sesuai dengan kondisi."
   ]
  },
  {
   "cell_type": "code",
   "execution_count": null,
   "metadata": {},
   "outputs": [],
   "source": [
    "# Contoh fungsi dengan if...else\n",
    "\n",
    "def nilai_akhir(nama, matkul, nilai):\n",
    "    print(nama, matkul, nilai)\n",
    "    if (nilai > 60):\n",
    "        return 'Lulus'\n",
    "    else:\n",
    "        return 'Tidak Lulus'\n",
    "\n",
    "# Memanggil fungsi dan mendefinisikannya pada variabel a\n",
    "a = nilai_akhir('John', 'Bahasa Indonesia', 65)\n",
    "print(a)"
   ]
  },
  {
   "cell_type": "markdown",
   "metadata": {},
   "source": [
    "Sekarang mari kita lihat contoh perulangan __for__ yang ada pada sebuah fungsi."
   ]
  },
  {
   "cell_type": "code",
   "execution_count": null,
   "metadata": {},
   "outputs": [],
   "source": [
    "def tampilkan_list(x):\n",
    "    for item in x:\n",
    "        print(item)\n",
    "\n",
    "# Memanggil fungsi\n",
    "tampilkan_list(['home alone', 2012, 'terminator'])"
   ]
  },
  {
   "cell_type": "markdown",
   "metadata": {},
   "source": [
    "<hr>"
   ]
  },
  {
   "cell_type": "markdown",
   "metadata": {},
   "source": [
    "## Memberikan argumen default pada fungsi"
   ]
  },
  {
   "cell_type": "markdown",
   "metadata": {},
   "source": [
    "Kita dapat memberikan argumen <i>default</i> pada sebuah fungsi. Misalnya seperti pada contoh di bawah ini, kita memberikan argumen <i>default</i> yaitu <code>nilai = 60</code> pada fungsi <code>cetak_nilai</code>. Dengan memberikan argumen <i>default</i>, tidak akan terjadi <i>error</i> jika kita tidak memberikan argumen pada saat memanggil fungsi tersebut."
   ]
  },
  {
   "cell_type": "code",
   "execution_count": null,
   "metadata": {},
   "outputs": [],
   "source": [
    "# Contoh fungsi dengan argumen default\n",
    "\n",
    "def cetak_nilai(nilai = 60):\n",
    "    if (nilai < 65):\n",
    "        print('Nilai = ', nilai)\n",
    "        print('Tidak Lulus')\n",
    "    else:\n",
    "        print('Nilai = ', nilai)\n",
    "        print('Lulus')"
   ]
  },
  {
   "cell_type": "code",
   "execution_count": null,
   "metadata": {},
   "outputs": [],
   "source": [
    "# Memanggil fungsi dengan argumen\n",
    "\n",
    "cetak_nilai(80)"
   ]
  },
  {
   "cell_type": "markdown",
   "metadata": {},
   "source": [
    "Pada contoh di atas, ketika kita memberikan argumen <code>80</code> saat memanggil fungsi, tentunya program akan berjalan dengan baik. Sekarang mari kita coba memanggil fungsi tanpa argumen seperti di bawah ini."
   ]
  },
  {
   "cell_type": "code",
   "execution_count": null,
   "metadata": {},
   "outputs": [],
   "source": [
    "# Memanggil fungsi tanpa argumen\n",
    "\n",
    "cetak_nilai()"
   ]
  },
  {
   "cell_type": "markdown",
   "metadata": {},
   "source": [
    "Fungsi akan langsung memproses nilai <code>60</code> sebagai argumen yang diberikan dan mencetaknya karena nilai kurang dari 65 sesuai kondisi yang sudah ditentukan."
   ]
  },
  {
   "cell_type": "markdown",
   "metadata": {},
   "source": [
    "<hr>"
   ]
  },
  {
   "cell_type": "markdown",
   "metadata": {},
   "source": [
    "## Built-in Function di Python"
   ]
  },
  {
   "cell_type": "markdown",
   "metadata": {},
   "source": [
    "<i>Built-in function</i> adalah fungsi-fungsi bawaan di Python yang dapat langsung digunakan tanpa mendefinisikannya lagi seperti di atas. Ada banyak <i>built-in function</i> di Python, di antaranya sebagai berikut."
   ]
  },
  {
   "cell_type": "markdown",
   "metadata": {},
   "source": [
    "<code>print()</code> merupakan <i>built-in function</i> yang paling sering digunakan karena berfungsi untuk menampilkan output."
   ]
  },
  {
   "cell_type": "code",
   "execution_count": null,
   "metadata": {},
   "outputs": [],
   "source": [
    "# Contoh penggunaan print()\n",
    "\n",
    "nilai = [95, 40, 87, 66, 70, 85, 59]\n",
    "print(nilai)"
   ]
  },
  {
   "cell_type": "markdown",
   "metadata": {},
   "source": [
    "<code>len()</code> digunakan untuk menghitung panjang suatu objek."
   ]
  },
  {
   "cell_type": "code",
   "execution_count": null,
   "metadata": {},
   "outputs": [],
   "source": [
    "# Contoh penggunaan len()\n",
    "\n",
    "len(nilai)"
   ]
  },
  {
   "cell_type": "code",
   "execution_count": null,
   "metadata": {},
   "outputs": [],
   "source": [
    "len('selamat datang')"
   ]
  },
  {
   "cell_type": "markdown",
   "metadata": {},
   "source": [
    "<code>sum()</code> dapat digunakan untuk menjumlahkan elemen pada list."
   ]
  },
  {
   "cell_type": "code",
   "execution_count": null,
   "metadata": {},
   "outputs": [],
   "source": [
    "# Contoh penggunaan sum()\n",
    "\n",
    "sum(nilai)"
   ]
  },
  {
   "cell_type": "markdown",
   "metadata": {},
   "source": [
    "<code>min()</code> digunakan untuk mendapatkan nilai minimum/terkecil dari sebuah list."
   ]
  },
  {
   "cell_type": "code",
   "execution_count": null,
   "metadata": {},
   "outputs": [],
   "source": [
    "# Contoh penggunaan min()\n",
    "\n",
    "min(nilai)"
   ]
  },
  {
   "cell_type": "markdown",
   "metadata": {},
   "source": [
    "<code>max()</code> digunakan untuk mendapatkan nilai maksimum/terbesar dari sebuah list."
   ]
  },
  {
   "cell_type": "code",
   "execution_count": null,
   "metadata": {},
   "outputs": [],
   "source": [
    "# Contoh penggunaan max()\n",
    "\n",
    "max(nilai)"
   ]
  },
  {
   "cell_type": "markdown",
   "metadata": {},
   "source": [
    "<code>sorted()</code> digunakan untuk mengurutkan list dari nilai terkecil ke terbesar."
   ]
  },
  {
   "cell_type": "code",
   "execution_count": null,
   "metadata": {},
   "outputs": [],
   "source": [
    "# Contoh penggunaan sorted()\n",
    "\n",
    "sorted(nilai)"
   ]
  },
  {
   "cell_type": "markdown",
   "metadata": {},
   "source": [
    "<code>type()</code> digunakan mengetahui tipe data dari sebuah objek."
   ]
  },
  {
   "cell_type": "code",
   "execution_count": null,
   "metadata": {},
   "outputs": [],
   "source": [
    "# Contoh penggunaan type()\n",
    "\n",
    "type(nilai)"
   ]
  },
  {
   "cell_type": "code",
   "execution_count": null,
   "metadata": {},
   "outputs": [],
   "source": [
    "type(50)"
   ]
  },
  {
   "cell_type": "code",
   "execution_count": null,
   "metadata": {},
   "outputs": [],
   "source": [
    "type('halo')"
   ]
  },
  {
   "cell_type": "markdown",
   "metadata": {},
   "source": [
    "<code>round()</code> digunakan untuk membulatkan bilangan desimal. Jika angka desimal __0.5__ ke bawah, maka akan dibulatkan ke bawah. Jika di atas __0.5__, maka akan dibulatkan ke atas."
   ]
  },
  {
   "cell_type": "code",
   "execution_count": null,
   "metadata": {},
   "outputs": [],
   "source": [
    "# Contoh penggunaan round()\n",
    "\n",
    "round(4.67777)"
   ]
  },
  {
   "cell_type": "code",
   "execution_count": null,
   "metadata": {},
   "outputs": [],
   "source": [
    "round(4.3)"
   ]
  },
  {
   "cell_type": "markdown",
   "metadata": {},
   "source": [
    "<code>abs()</code> digunakan untuk mendapatkan nilai absolut dari suatu bilangan."
   ]
  },
  {
   "cell_type": "code",
   "execution_count": null,
   "metadata": {},
   "outputs": [],
   "source": [
    "# Contoh penggunaan abs()\n",
    "\n",
    "abs(-10/2)"
   ]
  },
  {
   "cell_type": "markdown",
   "metadata": {},
   "source": [
    "Masih banyak lagi <i>built-in function</i> di Python yang dapat digunakan."
   ]
  },
  {
   "cell_type": "markdown",
   "metadata": {},
   "source": [
    "<hr>"
   ]
  },
  {
   "cell_type": "markdown",
   "metadata": {},
   "source": [
    "## Latihan: Function / Fungsi"
   ]
  },
  {
   "cell_type": "markdown",
   "metadata": {},
   "source": [
    "Pada bagian ini, silahkan Anda menguji pemahaman Anda tentang <i>function</i> atau fungsi di Python yang telah disampaikan di atas. Jika Anda masih bingung, Anda dapat melihat contoh jawaban yang telah disediakan di bawah <i>cell</i> dari masing-masing soal."
   ]
  },
  {
   "cell_type": "markdown",
   "metadata": {},
   "source": [
    "### No. 1\n",
    "\n",
    "Buatlah sebuah fungsi untuk menyelesaikan soal penjumlahan dari 3 bilangan dengan nama fungsi <code>penjumlahan</code> dan parameter <code>a</code>, <code>b</code> dan <code>c</code>. Kembalikan nilai hasil penjumlahan tersebut ke dalam variabel __hasil__. Kemudian uji fungsi tersebut dengan memasukkan bilangan __8, 12,__ dan __20__. "
   ]
  },
  {
   "cell_type": "code",
   "execution_count": null,
   "metadata": {},
   "outputs": [],
   "source": [
    "# Ketik kode Anda disini\n",
    "\n"
   ]
  },
  {
   "cell_type": "markdown",
   "metadata": {},
   "source": [
    "Klik dua kali __disini__ untuk mellihat jawaban.\n",
    "\n",
    "<!-- Jawaban:\n",
    "\n",
    "def penjumlahan(a, b, c):\n",
    "    hasil = a + b + c\n",
    "    return hasil\n",
    "\n",
    "penjumlahan(8, 12, 20)\n",
    "\n",
    "-->"
   ]
  },
  {
   "cell_type": "markdown",
   "metadata": {},
   "source": [
    "### No. 2\n",
    "\n",
    "Buatlah sebuah fungsi bernama <code>hitung_belanja</code> dengan parameter <code>nama_barang</code>, <code>harga</code>, dan <code>jumlah_beli</code>. Jika total harga lebih dari __10000__, maka kurangi total harga tersebut dengan __2000__. Tampilkan data nama_barang, harga, dan jumlah_beli, serta kembalikan hasil total belanja ke dalam variabel <code>total</code>. Lalu uji fungsi tersebut dengan <code>barang = 'buku'</code>, <code>harga = 5500</code>, dan <code>beli = 3</code>."
   ]
  },
  {
   "cell_type": "code",
   "execution_count": null,
   "metadata": {},
   "outputs": [],
   "source": [
    "# Ketik kode Anda disini\n",
    "\n"
   ]
  },
  {
   "cell_type": "markdown",
   "metadata": {},
   "source": [
    "Klik dua kali __disini__ untuk melihat jawaban.\n",
    "\n",
    "<!-- Jawaban:\n",
    "\n",
    "def hitung_belanja(nama_barang, harga, jumlah_beli):\n",
    "    total = harga * jumlah_beli\n",
    "    if (total > 10000):\n",
    "        total = total - 2000\n",
    "    else:\n",
    "        total = total\n",
    "    print(nama_barang, harga, jumlah_beli)\n",
    "    return total\n",
    "\n",
    "\n",
    "barang = 'buku'\n",
    "harga = 5500\n",
    "beli = 3\n",
    "hitung_belanja(barang, harga, beli)\n",
    "\n",
    "-->"
   ]
  },
  {
   "cell_type": "markdown",
   "metadata": {},
   "source": [
    "<hr>"
   ]
  },
  {
   "cell_type": "markdown",
   "metadata": {},
   "source": [
    "Copyright @ <a href=\"https://ilmudatapy.com/\">ilmudatapy.com</a>"
   ]
  }
 ],
 "metadata": {
  "kernelspec": {
   "display_name": "Python 3",
   "language": "python",
   "name": "python3"
  },
  "language_info": {
   "codemirror_mode": {
    "name": "ipython",
    "version": 3
   },
   "file_extension": ".py",
   "mimetype": "text/x-python",
   "name": "python",
   "nbconvert_exporter": "python",
   "pygments_lexer": "ipython3",
   "version": "3.7.3"
  }
 },
 "nbformat": 4,
 "nbformat_minor": 2
}
