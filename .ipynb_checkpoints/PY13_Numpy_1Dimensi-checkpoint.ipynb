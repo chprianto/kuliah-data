{
 "cells": [
  {
   "cell_type": "markdown",
   "metadata": {},
   "source": [
    "<img src=\"../images/ilmudatapy-logo.png\" width=\"350\" align=\"center\">\n",
    "<br>"
   ]
  },
  {
   "cell_type": "markdown",
   "metadata": {},
   "source": [
    "<center><h1>Numpy (1 Dimensi)</h1></center>\n",
    "<hr>"
   ]
  },
  {
   "cell_type": "markdown",
   "metadata": {},
   "source": [
    "__Halo, Learners!__ Di notebook ini, kita akan belajar tentang __numpy__  1 Dimensi, dari mulai cara membuat array numpy, mengaksesnya, serta operasi-operasi yang dapat dilakukan pada array numpy."
   ]
  },
  {
   "cell_type": "markdown",
   "metadata": {},
   "source": [
    "<h2>Table of Contents</h2>\n",
    "<div class=\"alert alert-block alert-info\" style=\"margin-top: 25px\">\n",
    "    <ul>\n",
    "        <li>\n",
    "            Apa itu Numpy ?\n",
    "            <ul>\n",
    "                <li>Mengimpor library Numpy</li>\n",
    "                <li>Membuat array Numpy</li>\n",
    "                <li>Mengecek tipe data</li>\n",
    "            </ul>\n",
    "        </li>\n",
    "        <li>\n",
    "            Mengubah nilai array\n",
    "            <ul>\n",
    "                <li> Mengubah nilai array dengan list</li>\n",
    "            </ul>\n",
    "        </li>\n",
    "        <li>\n",
    "            Slicing\n",
    "        </li>\n",
    "        <li>\n",
    "            Atribut pada array Numpy\n",
    "        </li>\n",
    "        <li>\n",
    "            Operasi pada array Numpy\n",
    "            <ul>\n",
    "                <li>Penjumlahan array dengan konstanta</li>\n",
    "                <li>Penjumlahan 2 array</li>\n",
    "                <li>Perkalian array dengan konstanta</li>\n",
    "                <li>Perkalian 2 array</li>\n",
    "                <li>Dot product</li>\n",
    "            </ul>\n",
    "        </li>\n",
    "        <li>\n",
    "            Fungsi matematika pada Numpy\n",
    "            <ul>\n",
    "                <li>Trigonometri</li>\n",
    "                <li>Eksponen dan Logaritma</li>\n",
    "                <li>Pembulatan bilangan</li>\n",
    "            </ul>\n",
    "        </li>\n",
    "        <li>\n",
    "            Linspace\n",
    "        </li>\n",
    "        <li>\n",
    "            Latihan: Numpy 1 Dimensi\n",
    "        </li>\n",
    "    </ul>\n",
    "</div>"
   ]
  },
  {
   "cell_type": "markdown",
   "metadata": {},
   "source": [
    "<hr>\n",
    "<div class=\"alert alert-success\" style=\"margin-top: 20px\">\n",
    "    <strong>Catatan:</strong> Untuk menjalankan kode program Python di Jupyter Notebook, klik pada <i>cell</i> yang ingin di-<i>run</i> lalu tekan <kbd>Shift</kbd> + <kbd>Enter</kbd>.\n",
    "</div>\n",
    "<hr>"
   ]
  },
  {
   "cell_type": "markdown",
   "metadata": {},
   "source": [
    "## Apa itu Numpy ?"
   ]
  },
  {
   "cell_type": "markdown",
   "metadata": {},
   "source": [
    "__Numpy__ adalah sebuah <i>library</i> di Python yang digunakan untuk komputasi ilmiah. Numpy menyediakan objek array multidimensi seperti vektor dan matrik serta berbagai operasi matematika yang dapat dilakukan, misalnya trigonometri, logaritma, eksponensial, dan sebagainya.\n",
    "\n",
    "Tidak seperti list, Numpy memiliki ukuran yang tetap. Jika kita mengubah dimensi array, maka akan terbentuk array baru dan otomatis menghapus array sebelumnya. Tipe data pada array juga harus sama, tidak boleh bervariasi. "
   ]
  },
  {
   "cell_type": "markdown",
   "metadata": {},
   "source": [
    "Jika Anda belum pernah menginstall Numpy di Jupyter notebook, silahkan install Numpy terlebih dahulu dengan menjalankan kode berikut ini. Namun jika sudah terinstal, Anda dapat melewatinya."
   ]
  },
  {
   "cell_type": "code",
   "execution_count": null,
   "metadata": {},
   "outputs": [],
   "source": [
    "pip install numpy"
   ]
  },
  {
   "cell_type": "markdown",
   "metadata": {},
   "source": [
    "### Mengimpor library Numpy"
   ]
  },
  {
   "cell_type": "markdown",
   "metadata": {},
   "source": [
    "Sebelum menggunakan Numpy, kita harus mengimpor terlebih dahulu <i>library</i>-nya, seperti di bawah ini."
   ]
  },
  {
   "cell_type": "code",
   "execution_count": null,
   "metadata": {},
   "outputs": [],
   "source": [
    "# import library numpy\n",
    "\n",
    "import numpy as np"
   ]
  },
  {
   "cell_type": "markdown",
   "metadata": {},
   "source": [
    "Kita menyingkat <code>numpy</code> menjadi <code>np</code> untuk mempermudah saat penggunaannya. Misalnya, akan lebih singkat jika kita menulis <code>np.array</code> dibandingkan <code>numpy.array</code>. Penyingkatan ini umum dilakukan oleh hampir semua orang yang menggunakan Numpy."
   ]
  },
  {
   "cell_type": "markdown",
   "metadata": {},
   "source": [
    "### Membuat array Numpy"
   ]
  },
  {
   "cell_type": "markdown",
   "metadata": {},
   "source": [
    "Setelah itu, kita dapat membuat array seperti di bawah ini."
   ]
  },
  {
   "cell_type": "code",
   "execution_count": null,
   "metadata": {},
   "outputs": [],
   "source": [
    "# Membuat array numpy berupa integer\n",
    "\n",
    "a = np.array([1, 2, 3, 4, 5])\n",
    "a"
   ]
  },
  {
   "cell_type": "markdown",
   "metadata": {},
   "source": [
    "Indeks elemen pada array sama dengan list yaitu dimulai dari 0. Cara mengaksesnya pun sama, yaitu dengan menuliskan variabel yang diikuti nomor indeks di dalam kurung siku <code>[]</code>."
   ]
  },
  {
   "cell_type": "code",
   "execution_count": null,
   "metadata": {},
   "outputs": [],
   "source": [
    "# Mencetak elemen array berdasarka indeks\n",
    "\n",
    "print('Indeks-0 : ', a[0])\n",
    "print('Indeks-1 : ', a[1])\n",
    "print('Indeks-2 : ', a[2])\n",
    "print('Indeks-3 : ', a[3])\n",
    "print('Indeks-4 : ', a[4])"
   ]
  },
  {
   "cell_type": "markdown",
   "metadata": {},
   "source": [
    "### Mengecek tipe data"
   ]
  },
  {
   "cell_type": "markdown",
   "metadata": {},
   "source": [
    "Untuk mengecek tipe data, kita dapat menggunakan <code>type()</code>."
   ]
  },
  {
   "cell_type": "code",
   "execution_count": null,
   "metadata": {},
   "outputs": [],
   "source": [
    "# Mengecek tipe data\n",
    "\n",
    "type(a)"
   ]
  },
  {
   "cell_type": "markdown",
   "metadata": {},
   "source": [
    "Terlihat bahwa variabel <code>a</code> merupakan array numpy. Lalu bagaimana caranya untuk mengetahui tipe data dari elemen di dalam array tersebut?\n",
    "\n",
    "Untuk mengetahui tipe data elemen pada array, kita dapat menggunakan atribut numpy yaitu <code>dtype</code>."
   ]
  },
  {
   "cell_type": "code",
   "execution_count": null,
   "metadata": {},
   "outputs": [],
   "source": [
    "# Mengecek tipe data di dalam array\n",
    "\n",
    "a.dtype"
   ]
  },
  {
   "cell_type": "markdown",
   "metadata": {},
   "source": [
    "Mari kita lihat contoh lainnya."
   ]
  },
  {
   "cell_type": "code",
   "execution_count": null,
   "metadata": {},
   "outputs": [],
   "source": [
    "# Contoh penggunaan dtype \n",
    "\n",
    "b = np.array([2.3, 9.7, 0.8, 1.5, 5.25])\n",
    "b.dtype"
   ]
  },
  {
   "cell_type": "markdown",
   "metadata": {},
   "source": [
    "<hr>"
   ]
  },
  {
   "cell_type": "markdown",
   "metadata": {},
   "source": [
    "## Mengubah nilai array"
   ]
  },
  {
   "cell_type": "markdown",
   "metadata": {},
   "source": [
    "Nilai sebuah elemen array juga dapat diubah. Misalnya kita memiliki array seperti di bawah ini."
   ]
  },
  {
   "cell_type": "code",
   "execution_count": null,
   "metadata": {},
   "outputs": [],
   "source": [
    "# Membuat array \n",
    "\n",
    "c = np.array([10, 20, 30, 40, 50, 60])\n",
    "c"
   ]
  },
  {
   "cell_type": "markdown",
   "metadata": {},
   "source": [
    "Lalu kita akan mengubah elemen pada indeks ke-0 menjadi 100."
   ]
  },
  {
   "cell_type": "code",
   "execution_count": null,
   "metadata": {},
   "outputs": [],
   "source": [
    "# Mengubah indeks ke-0 menjadi 100\n",
    "\n",
    "c[0] = 100\n",
    "c"
   ]
  },
  {
   "cell_type": "markdown",
   "metadata": {},
   "source": [
    "Saat menampilkan array <code>c</code>, nilai elemen sudah berubah dari 10 menjadi 100 seperti output di atas. Misalnya kita ubah juga indeks ke-3 seperi di bawah ini."
   ]
  },
  {
   "cell_type": "code",
   "execution_count": null,
   "metadata": {},
   "outputs": [],
   "source": [
    "# Mengubah indeks ke-3 menjadi 400\n",
    "\n",
    "c[3] = 400\n",
    "c"
   ]
  },
  {
   "cell_type": "markdown",
   "metadata": {},
   "source": [
    "### Mengakses dan mengubah nilai array dengan list"
   ]
  },
  {
   "cell_type": "markdown",
   "metadata": {},
   "source": [
    "Jika kita ingin mengakses atau mengubah sejumlah elemen array tertentu, kita dapat menggunakan list dengan cara indeks elemen yang ingin diakses atau diubah dimasukkan ke dalam list."
   ]
  },
  {
   "cell_type": "code",
   "execution_count": null,
   "metadata": {},
   "outputs": [],
   "source": [
    "# Membuat list indeks elemen yang akan diakses\n",
    "\n",
    "indeks_terpilih = [0, 2, 5]"
   ]
  },
  {
   "cell_type": "markdown",
   "metadata": {},
   "source": [
    "Lalu kita dapat menggunakan list tersebut sebagai argumen di dalam tanda kurung siku seperti di bawah ini."
   ]
  },
  {
   "cell_type": "code",
   "execution_count": null,
   "metadata": {},
   "outputs": [],
   "source": [
    "# Mengakses array c dengan list \n",
    "\n",
    "d = c[indeks_terpilih]\n",
    "d"
   ]
  },
  {
   "cell_type": "markdown",
   "metadata": {},
   "source": [
    "Output dari kode di atas adalah elemen-elemen pada array <code>c</code> dengan indeks 0, 2, dan 5.\n",
    "\n",
    "Kita juga dapat mengubah nilai array dengan list. Perhatikan contoh berikut."
   ]
  },
  {
   "cell_type": "code",
   "execution_count": null,
   "metadata": {},
   "outputs": [],
   "source": [
    "# Mengubah elemen dengan list \n",
    "\n",
    "c[indeks_terpilih] = 90000\n",
    "c"
   ]
  },
  {
   "cell_type": "markdown",
   "metadata": {},
   "source": [
    "Seperti yang dapat kita lihat pada output di atas, elemen pada indeks ke 0, 2, dan 5 berubah menjadi <code>90000</code>."
   ]
  },
  {
   "cell_type": "markdown",
   "metadata": {},
   "source": [
    "<hr>"
   ]
  },
  {
   "cell_type": "markdown",
   "metadata": {},
   "source": [
    "## Slicing"
   ]
  },
  {
   "cell_type": "markdown",
   "metadata": {},
   "source": [
    "Sama seperti list, elemen pada array Numpy juga dapat diakses dengan cara <i>slicing</i> yaitu dipotong berdasarkan indeks tertentu. Misalnya jika kita akan mengakses elemen dari indeks 1-4, kita dapat melakukannya seperti di bawah ini."
   ]
  },
  {
   "cell_type": "code",
   "execution_count": null,
   "metadata": {},
   "outputs": [],
   "source": [
    "# Contoh slicing \n",
    "\n",
    "c = np.array([10, 20, 30, 40, 50, 60])\n",
    "c[1:5]"
   ]
  },
  {
   "cell_type": "markdown",
   "metadata": {},
   "source": [
    "Indeks yang menjadi batas akhir <i>slicing</i> tidak akan terbawa, maka dari itu kita harus menambahkan satu angka jika elemen pada indeks ke-4 ingin ditampilkan.\n",
    "\n",
    "Jika ingin memotong dari elemen tertentu sampai elemen terakhir atau dari elemen awal sampai elemen tertentu, kita dapat melakukannya seperti di bawah ini."
   ]
  },
  {
   "cell_type": "code",
   "execution_count": null,
   "metadata": {},
   "outputs": [],
   "source": [
    "# slicing dari indeks ke-3 sampai terakhir\n",
    "\n",
    "c[3:]"
   ]
  },
  {
   "cell_type": "code",
   "execution_count": null,
   "metadata": {},
   "outputs": [],
   "source": [
    "# slicing dari elemen awal sampai indeks ke-3\n",
    "\n",
    "c[:4]"
   ]
  },
  {
   "cell_type": "markdown",
   "metadata": {},
   "source": [
    "<hr>"
   ]
  },
  {
   "cell_type": "markdown",
   "metadata": {},
   "source": [
    "## Atribut pada array Numpy"
   ]
  },
  {
   "cell_type": "markdown",
   "metadata": {},
   "source": [
    "Dari contoh-contoh di atas, kita telah mengetahui atribut <code>array</code> untuk membuat array dan <code>dtype</code> untuk mengetahui tipe data elemen di dalam array. Nah, selain dua atribut tersebut, ada beberapa atribut Numpy lagi yang dapat digunakan.\n",
    "\n",
    "Misalnya kita memiliki array <code>a</code> seperti di bawah ini."
   ]
  },
  {
   "cell_type": "code",
   "execution_count": null,
   "metadata": {},
   "outputs": [],
   "source": [
    "# Membuat array a\n",
    "\n",
    "a = np.array([1, 2, 3, 4, 5, 6])\n",
    "a"
   ]
  },
  {
   "cell_type": "markdown",
   "metadata": {},
   "source": [
    "<code>size</code> digunakan untuk mendapatkan ukuran array atau dengan kata lain ada berapa jumlah elemen pada array."
   ]
  },
  {
   "cell_type": "code",
   "execution_count": null,
   "metadata": {},
   "outputs": [],
   "source": [
    "# Mendapatkan jumlah elemen dengan size\n",
    "\n",
    "a.size"
   ]
  },
  {
   "cell_type": "markdown",
   "metadata": {},
   "source": [
    "<code>ndim</code> digunakan untuk mendapatkan informasi terkait dimensi array."
   ]
  },
  {
   "cell_type": "code",
   "execution_count": null,
   "metadata": {},
   "outputs": [],
   "source": [
    "# Mengetahui dimensi array\n",
    "\n",
    "a.ndim"
   ]
  },
  {
   "cell_type": "markdown",
   "metadata": {},
   "source": [
    "<code>shape</code> digunakan untuk mendapatkan informasi berupa tuple dengan tipe integer yang mengindikasikan ukuran array di tiap dimensi."
   ]
  },
  {
   "cell_type": "code",
   "execution_count": null,
   "metadata": {},
   "outputs": [],
   "source": [
    "# Mengetahui ukuran array di tiap dimensi\n",
    "\n",
    "a.shape"
   ]
  },
  {
   "cell_type": "markdown",
   "metadata": {},
   "source": [
    "<code>mean</code> digunakan untuk mendapatkan nilai rata-rata dari array."
   ]
  },
  {
   "cell_type": "code",
   "execution_count": null,
   "metadata": {},
   "outputs": [],
   "source": [
    "# Mendapatkan nilai rata-rata array\n",
    "\n",
    "a.mean()"
   ]
  },
  {
   "cell_type": "markdown",
   "metadata": {},
   "source": [
    "<code>std</code> digunakan untuk mendapatkan nilai standar deviasi dari array."
   ]
  },
  {
   "cell_type": "code",
   "execution_count": null,
   "metadata": {},
   "outputs": [],
   "source": [
    "# Mendapatkan nilai standar deviasi dari array\n",
    "\n",
    "a.std()"
   ]
  },
  {
   "cell_type": "markdown",
   "metadata": {},
   "source": [
    "<code>min</code> digunakan untuk mendapatkan nilai minimum atau terkecil pada array."
   ]
  },
  {
   "cell_type": "code",
   "execution_count": null,
   "metadata": {},
   "outputs": [],
   "source": [
    "# Mendapatkan nilai minimum\n",
    "\n",
    "a.min()"
   ]
  },
  {
   "cell_type": "markdown",
   "metadata": {},
   "source": [
    "<code>max</code> digunakan untuk mendapatkan nilai maksimum atau terbesar pada array."
   ]
  },
  {
   "cell_type": "code",
   "execution_count": null,
   "metadata": {},
   "outputs": [],
   "source": [
    "# Mendapatkan nilai maksimum\n",
    "\n",
    "a.max()"
   ]
  },
  {
   "cell_type": "markdown",
   "metadata": {},
   "source": [
    "<hr>"
   ]
  },
  {
   "cell_type": "markdown",
   "metadata": {},
   "source": [
    "## Operasi pada array Numpy"
   ]
  },
  {
   "cell_type": "markdown",
   "metadata": {},
   "source": [
    "Kita juga dapat melakukan operasi penjumlahan, perkalian serta <i>dot product</i> pada array."
   ]
  },
  {
   "cell_type": "markdown",
   "metadata": {},
   "source": [
    "### Penjumlahan array dengan konstanta"
   ]
  },
  {
   "cell_type": "markdown",
   "metadata": {},
   "source": [
    "Misalnya kita memiliki array <code>a</code> seperti di bawah ini."
   ]
  },
  {
   "cell_type": "code",
   "execution_count": null,
   "metadata": {},
   "outputs": [],
   "source": [
    "x = np.array([2, 3, 4])\n",
    "x"
   ]
  },
  {
   "cell_type": "markdown",
   "metadata": {},
   "source": [
    "Lalu, kita akan menjumlahkan masing-masing elemen pada array tersebut dengan angka <code>3</code>. Kita dapat melakukannya dengan mudah seperti di bawah ini."
   ]
  },
  {
   "cell_type": "code",
   "execution_count": null,
   "metadata": {},
   "outputs": [],
   "source": [
    "# Menjumlahkan array dengan konstanta 3\n",
    "\n",
    "x + 3"
   ]
  },
  {
   "cell_type": "markdown",
   "metadata": {},
   "source": [
    "### Penjumlahan 2 array"
   ]
  },
  {
   "cell_type": "markdown",
   "metadata": {},
   "source": [
    "Misalnya kita memiliki array <code>u</code> dan <code>v</code> seperti di bawah ini."
   ]
  },
  {
   "cell_type": "code",
   "execution_count": null,
   "metadata": {},
   "outputs": [],
   "source": [
    "# Membuat array u\n",
    "\n",
    "u = np.array([2, 3])\n",
    "u"
   ]
  },
  {
   "cell_type": "code",
   "execution_count": null,
   "metadata": {},
   "outputs": [],
   "source": [
    "# Membuat array v\n",
    "\n",
    "v = np.array([3, 4])\n",
    "v"
   ]
  },
  {
   "cell_type": "markdown",
   "metadata": {},
   "source": [
    "Untuk menjumlahkan dua array tersebut, kita dapat melakukannya seperti di bawah ini."
   ]
  },
  {
   "cell_type": "code",
   "execution_count": null,
   "metadata": {},
   "outputs": [],
   "source": [
    "u + v"
   ]
  },
  {
   "cell_type": "markdown",
   "metadata": {},
   "source": [
    "Terlihat dari output di atas, elemen dengan indeks yang sama akan secara otomatis dijumlahkan dan tidak mengubah dimensi array tersebut. Penjumlahan dua array harus melibatkan dua array dengan dimensi yang sama, jika tidak, maka akan terjadi <i>error</i>."
   ]
  },
  {
   "cell_type": "markdown",
   "metadata": {},
   "source": [
    "### Perkalian array dengan konstanta"
   ]
  },
  {
   "cell_type": "markdown",
   "metadata": {},
   "source": [
    "Misalnya kita gunakan array <code>x</code> seperti sebelumnya, lalu mengalikannya dengan konstanta <code>2</code>."
   ]
  },
  {
   "cell_type": "code",
   "execution_count": null,
   "metadata": {},
   "outputs": [],
   "source": [
    "x = np.array([2, 3, 4])\n",
    "x"
   ]
  },
  {
   "cell_type": "markdown",
   "metadata": {},
   "source": [
    "Kemudian, kalikan dengan 2."
   ]
  },
  {
   "cell_type": "code",
   "execution_count": null,
   "metadata": {},
   "outputs": [],
   "source": [
    "# Mengalikan x dengan konstanta 2\n",
    "\n",
    "x * 2"
   ]
  },
  {
   "cell_type": "markdown",
   "metadata": {},
   "source": [
    "Maka seperti pada penjumlahan, perkalian dengan konstanta juga akan menghasilkan array dengan masing-masing elemen yang telah dikalikan 2."
   ]
  },
  {
   "cell_type": "markdown",
   "metadata": {},
   "source": [
    "### Perkalian 2 array"
   ]
  },
  {
   "cell_type": "markdown",
   "metadata": {},
   "source": [
    "Disini kita juga akan menggunakan array <code>u</code> dan <code>v</code> seperti sebelumnya."
   ]
  },
  {
   "cell_type": "code",
   "execution_count": null,
   "metadata": {},
   "outputs": [],
   "source": [
    "# Membuat array u\n",
    "\n",
    "u = np.array([2, 3])\n",
    "u"
   ]
  },
  {
   "cell_type": "code",
   "execution_count": null,
   "metadata": {},
   "outputs": [],
   "source": [
    "# Membuat array v\n",
    "\n",
    "v = np.array([3, 4])\n",
    "v"
   ]
  },
  {
   "cell_type": "code",
   "execution_count": null,
   "metadata": {},
   "outputs": [],
   "source": [
    "# Mengalikan array u dan v\n",
    "\n",
    "u * v"
   ]
  },
  {
   "cell_type": "markdown",
   "metadata": {},
   "source": [
    "Seperti penjumlahan dua array, perkalian dua array juga otomatis mengalikan elemen dengan indeks yang sama."
   ]
  },
  {
   "cell_type": "markdown",
   "metadata": {},
   "source": [
    "### Dot product"
   ]
  },
  {
   "cell_type": "markdown",
   "metadata": {},
   "source": [
    "<i>Dot product</i> adalah bentuk perkalian vektor yang menghasilkan skalar. Di Numpy Python, kita dapat mendapatkan hasil <i>dot product</i> dengan mudah menggunakan atribut <code>dot</code>. Perhatikan contoh berikut."
   ]
  },
  {
   "cell_type": "code",
   "execution_count": null,
   "metadata": {},
   "outputs": [],
   "source": [
    "# Membuat array u\n",
    "\n",
    "u = np.array([2, 3])\n",
    "u"
   ]
  },
  {
   "cell_type": "code",
   "execution_count": null,
   "metadata": {},
   "outputs": [],
   "source": [
    "# Membuat array v\n",
    "\n",
    "v = np.array([3, 4])\n",
    "v"
   ]
  },
  {
   "cell_type": "code",
   "execution_count": null,
   "metadata": {},
   "outputs": [],
   "source": [
    "np.dot(u, v)"
   ]
  },
  {
   "cell_type": "markdown",
   "metadata": {},
   "source": [
    "<hr>"
   ]
  },
  {
   "cell_type": "markdown",
   "metadata": {},
   "source": [
    "## Fungsi matematika pada Numpy"
   ]
  },
  {
   "cell_type": "markdown",
   "metadata": {},
   "source": [
    "Numpy memang ditujukan untuk memudahkan komputasi perhitungan bilangan. Banyak fungsi-fungsi pada Numpy yang dapat kita gunakan untuk proses matematis, diantaranya trigonometri, eksponen, logaritma, dan juga untuk pembulatan bilangan. Untuk lebih lengkapnya, silahkan merujuk pada website <a href=\"https://numpy.org/doc/stable/index.html\">numpy.org</a> untuk melihat <a href=\"https://numpy.org/doc/stable/reference/routines.math.html\">fungsi matematika</a> lainnya."
   ]
  },
  {
   "cell_type": "markdown",
   "metadata": {},
   "source": [
    "Sebelum lanjut pada fungsi matematika, kita juga bisa mendapatkan nilai __pi__ menggunakan atribut <code>pi</code> seperti di bawah ini."
   ]
  },
  {
   "cell_type": "code",
   "execution_count": null,
   "metadata": {},
   "outputs": [],
   "source": [
    "# Mendapatkan nilai pi\n",
    "\n",
    "np.pi"
   ]
  },
  {
   "cell_type": "markdown",
   "metadata": {},
   "source": [
    "### Trigonometri"
   ]
  },
  {
   "cell_type": "markdown",
   "metadata": {},
   "source": [
    "Operasi trigonometri, seperti yang kita tahu, yaitu <code>sin</code>, <code>cos</code>, <code>tan</code>. Nah, untuk mendapatkan hasil dari nilai sin, cos, dan tan, kita dapat melakukannya seperti di bawah ini."
   ]
  },
  {
   "cell_type": "markdown",
   "metadata": {},
   "source": [
    "#### sin"
   ]
  },
  {
   "cell_type": "code",
   "execution_count": null,
   "metadata": {},
   "outputs": [],
   "source": [
    "# Contoh penggunaan fungsi sin\n",
    "\n",
    "x = np.array([0., 30., 45., 60., 90.])\n",
    "\n",
    "np.sin(x * np.pi / 180.)"
   ]
  },
  {
   "cell_type": "code",
   "execution_count": null,
   "metadata": {},
   "outputs": [],
   "source": [
    "# Contoh penggunaan fungsi sin\n",
    "\n",
    "np.sin(np.pi/2.0)"
   ]
  },
  {
   "cell_type": "markdown",
   "metadata": {},
   "source": [
    "#### cos"
   ]
  },
  {
   "cell_type": "code",
   "execution_count": null,
   "metadata": {},
   "outputs": [],
   "source": [
    "# Contoh penggunaan fungsi cos\n",
    "\n",
    "x = np.array([0., 30., 45., 60., 90.])\n",
    "\n",
    "np.cos(x)"
   ]
  },
  {
   "cell_type": "code",
   "execution_count": null,
   "metadata": {},
   "outputs": [],
   "source": [
    "# Contoh penggunaan fungsi cos\n",
    "\n",
    "np.cos(np.pi)"
   ]
  },
  {
   "cell_type": "markdown",
   "metadata": {},
   "source": [
    "#### tan"
   ]
  },
  {
   "cell_type": "code",
   "execution_count": null,
   "metadata": {},
   "outputs": [],
   "source": [
    "# Contoh penggunaan fungsi tan\n",
    "\n",
    "x = np.array([0., 30., 45., 60., 90.])\n",
    "\n",
    "np.tan(x)"
   ]
  },
  {
   "cell_type": "code",
   "execution_count": null,
   "metadata": {},
   "outputs": [],
   "source": [
    "# Contoh penggunaan fungsi tan\n",
    "\n",
    "np.tan(np.pi/2.0)"
   ]
  },
  {
   "cell_type": "markdown",
   "metadata": {},
   "source": [
    "### Eksponen dan Logaritma"
   ]
  },
  {
   "cell_type": "markdown",
   "metadata": {},
   "source": [
    "Kita juga dapat menghitung eksponen dan logaritma menggunakan <code>exp</code> dan <code>log</code>."
   ]
  },
  {
   "cell_type": "markdown",
   "metadata": {},
   "source": [
    "__exp__\n",
    "\n",
    "<code>exp</code> dapat digunakan untuk menghitung exponen. Perhatikan contoh berikut."
   ]
  },
  {
   "cell_type": "code",
   "execution_count": null,
   "metadata": {},
   "outputs": [],
   "source": [
    "# Contoh penggunaan fungsi exp\n",
    "\n",
    "np.exp(10)"
   ]
  },
  {
   "cell_type": "code",
   "execution_count": null,
   "metadata": {},
   "outputs": [],
   "source": [
    "# Membuat array y\n",
    "\n",
    "y = np.array([np.pi, np.pi*2, np.pi*3])\n",
    "y"
   ]
  },
  {
   "cell_type": "code",
   "execution_count": null,
   "metadata": {},
   "outputs": [],
   "source": [
    "# Contoh penggunaan fungsi exp\n",
    "\n",
    "np.exp(y)"
   ]
  },
  {
   "cell_type": "markdown",
   "metadata": {},
   "source": [
    "__log__"
   ]
  },
  {
   "cell_type": "markdown",
   "metadata": {},
   "source": [
    "<code>log</code> digunakan untuk menghitung logaritma suatu bilangan. Perhatikan contoh berikut."
   ]
  },
  {
   "cell_type": "code",
   "execution_count": null,
   "metadata": {},
   "outputs": [],
   "source": [
    "# Contoh penggunaan fungsi log\n",
    "\n",
    "np.log(1.2)"
   ]
  },
  {
   "cell_type": "code",
   "execution_count": null,
   "metadata": {},
   "outputs": [],
   "source": [
    "# Membuat array y\n",
    "\n",
    "y = np.array([np.pi, np.pi*2, np.pi*3])\n",
    "y"
   ]
  },
  {
   "cell_type": "code",
   "execution_count": null,
   "metadata": {},
   "outputs": [],
   "source": [
    "# Contoh penggunaan log\n",
    "\n",
    "np.log(y)"
   ]
  },
  {
   "cell_type": "markdown",
   "metadata": {},
   "source": [
    "Untuk menghitung logaritma dengan basis 10, kita dapat menggunakan <code>log10</code>."
   ]
  },
  {
   "cell_type": "code",
   "execution_count": null,
   "metadata": {},
   "outputs": [],
   "source": [
    "# Contoh penggunaan log10\n",
    "\n",
    "np.log10(0.5)"
   ]
  },
  {
   "cell_type": "markdown",
   "metadata": {},
   "source": [
    "Untuk menghitung logaritma dengan basis 2, data dapat menggunakan <code>log2</code>."
   ]
  },
  {
   "cell_type": "code",
   "execution_count": null,
   "metadata": {},
   "outputs": [],
   "source": [
    "np.log2(4)"
   ]
  },
  {
   "cell_type": "markdown",
   "metadata": {},
   "source": [
    "### Pembulatan bilangan"
   ]
  },
  {
   "cell_type": "markdown",
   "metadata": {},
   "source": [
    "Terkadang dalam perhitungan matematika, kita menginginkan pembulatan bilangan desimal, baik itu pembulatan ke atas, maupun ke bawah. Di Numpy, kita dapat menggunakan fungsi <code>round</code>, <code>ceil</code>, dan <code>floor</code>."
   ]
  },
  {
   "cell_type": "markdown",
   "metadata": {},
   "source": [
    "__round__"
   ]
  },
  {
   "cell_type": "markdown",
   "metadata": {},
   "source": [
    "<code>round</code> digunakan untuk menentukan ada berapa angka desimal yang kita inginkan. Perhatikan contoh berikut."
   ]
  },
  {
   "cell_type": "code",
   "execution_count": null,
   "metadata": {},
   "outputs": [],
   "source": [
    "# Membulatkan angka desimal menjadi 3 angka di belakang koma/titik desimal\n",
    "\n",
    "np.round(2.87653297619012, 3)"
   ]
  },
  {
   "cell_type": "code",
   "execution_count": null,
   "metadata": {},
   "outputs": [],
   "source": [
    "# Membulatkan angka desimal menjadi 2 angka di belakang koma/titik desimal\n",
    "\n",
    "np.round(3.16524398, 2)"
   ]
  },
  {
   "cell_type": "code",
   "execution_count": null,
   "metadata": {},
   "outputs": [],
   "source": [
    "# Membulatkan angka desimal menjadi 2 angka di belakang koma/titik desimal\n",
    "\n",
    "x = np.array([np.pi, np.pi*2, np.pi*3, np.pi*4, np.pi*5])\n",
    "\n",
    "np.round(x, 2)"
   ]
  },
  {
   "cell_type": "markdown",
   "metadata": {},
   "source": [
    "__ceil__\n",
    "\n",
    "<code>ceil</code> digunakan untuk membulatkan bilangan ke atas. Misalnya, <code>5.7</code> menjadi <code>6.0</code>."
   ]
  },
  {
   "cell_type": "code",
   "execution_count": null,
   "metadata": {},
   "outputs": [],
   "source": [
    "# Membulatkan bilangan desimal ke atas\n",
    "\n",
    "np.ceil(5.7)"
   ]
  },
  {
   "cell_type": "code",
   "execution_count": null,
   "metadata": {},
   "outputs": [],
   "source": [
    "# Membulatkan bilangan desimal ke atas\n",
    "\n",
    "np.ceil(4.2)"
   ]
  },
  {
   "cell_type": "code",
   "execution_count": null,
   "metadata": {},
   "outputs": [],
   "source": [
    "# Membuat array x\n",
    "\n",
    "x = np.array([np.pi, np.pi*2, np.pi*3, np.pi*4, np.pi*5])\n",
    "x"
   ]
  },
  {
   "cell_type": "code",
   "execution_count": null,
   "metadata": {},
   "outputs": [],
   "source": [
    "# Membulatkan bilangan desimal pada array x ke atas\n",
    "\n",
    "np.ceil(x)"
   ]
  },
  {
   "cell_type": "markdown",
   "metadata": {},
   "source": [
    "__floor__\n",
    "\n",
    "<code>floor</code> digunakan untuk membulatkan bilangan desimal ke bawah. Perhatikan contoh berikut."
   ]
  },
  {
   "cell_type": "code",
   "execution_count": null,
   "metadata": {},
   "outputs": [],
   "source": [
    "# Membulatkan bilangan desimal ke bawah\n",
    "\n",
    "np.floor(7.9)"
   ]
  },
  {
   "cell_type": "code",
   "execution_count": null,
   "metadata": {},
   "outputs": [],
   "source": [
    "# Membulatkan bilangan desimal ke bawah \n",
    "\n",
    "np.floor(2.2763)"
   ]
  },
  {
   "cell_type": "code",
   "execution_count": null,
   "metadata": {},
   "outputs": [],
   "source": [
    "# Membuat array x\n",
    "\n",
    "x = np.array([np.pi, np.pi*2, np.pi*3, np.pi*4, np.pi*5])\n",
    "x"
   ]
  },
  {
   "cell_type": "code",
   "execution_count": null,
   "metadata": {},
   "outputs": [],
   "source": [
    "# Membulatkan bilangan desimal pada array x ke bawah\n",
    "\n",
    "np.floor(x)"
   ]
  },
  {
   "cell_type": "markdown",
   "metadata": {},
   "source": [
    "<hr>"
   ]
  },
  {
   "cell_type": "markdown",
   "metadata": {},
   "source": [
    "## Linspace"
   ]
  },
  {
   "cell_type": "markdown",
   "metadata": {},
   "source": [
    "<code>linspace</code> adalah fungsi yang digunakan untuk mendapatkan array dari interval bilangan tertentu. Fungsi ini cukup bermanfaat untuk memplot fungsi matematika. Perhatikan contoh berikut."
   ]
  },
  {
   "cell_type": "code",
   "execution_count": null,
   "metadata": {},
   "outputs": [],
   "source": [
    "# Membuat array dalam interval [-3, 3] sebanyak 5 elemen\n",
    "\n",
    "np.linspace(-3, 3, num=5)"
   ]
  },
  {
   "cell_type": "markdown",
   "metadata": {},
   "source": [
    "Jika kita ganti parameter __num__ menjadi 10 misalnya, kita akan mendapatkan hasil array yang berbeda."
   ]
  },
  {
   "cell_type": "code",
   "execution_count": null,
   "metadata": {},
   "outputs": [],
   "source": [
    "# Membuat array dalam interval [-3, 3] sebanyak 10 elemen\n",
    "\n",
    "np.linspace(-3, 3, num=10)"
   ]
  },
  {
   "cell_type": "markdown",
   "metadata": {},
   "source": [
    "Contoh penerapan __linspace__ pada fungsi matematika."
   ]
  },
  {
   "cell_type": "code",
   "execution_count": null,
   "metadata": {},
   "outputs": [],
   "source": [
    "import matplotlib.pyplot as plt\n",
    "%matplotlib inline \n",
    "\n",
    "x = np.linspace(0, np.pi*3, num=100)\n",
    "y = np.cos(x)\n",
    "\n",
    "plt.plot(x,y)"
   ]
  },
  {
   "cell_type": "markdown",
   "metadata": {},
   "source": [
    "<hr>"
   ]
  },
  {
   "cell_type": "markdown",
   "metadata": {},
   "source": [
    "## Latihan: Numpy 1 Dimensi"
   ]
  },
  {
   "cell_type": "markdown",
   "metadata": {},
   "source": [
    "Pada bagian ini, silahkan Anda menguji pemahaman Anda tentang Numpy 1 Dimensi di Python yang telah disampaikan di atas. Jika Anda masih bingung, Anda dapat melihat contoh jawaban yang telah disediakan di bawah <i>cell</i> dari masing-masing soal."
   ]
  },
  {
   "cell_type": "markdown",
   "metadata": {},
   "source": [
    "### No. 1\n",
    "\n",
    "Buatlah array <code>x</code> yang berisi bilangan __8, 2, 4, 7, 1, 5, 9, 2, 3, 4__ !"
   ]
  },
  {
   "cell_type": "code",
   "execution_count": null,
   "metadata": {},
   "outputs": [],
   "source": [
    "# Ketik kode Anda disini\n",
    "\n"
   ]
  },
  {
   "cell_type": "markdown",
   "metadata": {},
   "source": [
    "Klik dua kali __disini__ untuk melihat jawaban.\n",
    "\n",
    "<!-- Jawaban:\n",
    "\n",
    "x = np.array([8, 2, 4, 7, 1, 5, 9, 2, 3, 4])\n",
    "x\n",
    "\n",
    "-->"
   ]
  },
  {
   "cell_type": "markdown",
   "metadata": {},
   "source": [
    "### No. 2\n",
    "\n",
    "Buatlah potongan kode program untuk mengecek tipe data dari elemen pada array <code>x</code> !"
   ]
  },
  {
   "cell_type": "code",
   "execution_count": null,
   "metadata": {},
   "outputs": [],
   "source": [
    "# Ketik kode Anda disini\n",
    "\n"
   ]
  },
  {
   "cell_type": "markdown",
   "metadata": {},
   "source": [
    "Klik dua kali __disini__ untuk melihat jawaban.\n",
    "\n",
    "<!-- Jawaban:\n",
    "\n",
    "x.dtype\n",
    "\n",
    "-->"
   ]
  },
  {
   "cell_type": "markdown",
   "metadata": {},
   "source": [
    "### No. 3\n",
    "\n",
    "Buatlah sebuah list bernama <code>indeks</code> yang berisi angka __1, 3, 4, 6__, kemudian ubah elemen array <code>x</code> pada indeks tersebut menjadi __100__ !"
   ]
  },
  {
   "cell_type": "code",
   "execution_count": null,
   "metadata": {},
   "outputs": [],
   "source": [
    "# Ketik kode Anda disini\n",
    "\n"
   ]
  },
  {
   "cell_type": "markdown",
   "metadata": {},
   "source": [
    "Klik dua kali __disini__ untuk melihat jawaban.\n",
    "\n",
    "<!-- Jawaban:\n",
    "\n",
    "indeks = [1, 3, 4, 6]\n",
    "x[indeks] = 100\n",
    "x\n",
    "\n",
    "-->"
   ]
  },
  {
   "cell_type": "markdown",
   "metadata": {},
   "source": [
    "### No. 4\n",
    "\n",
    "Akses array <code>x</code> dengan indeks 3-7 ! (Elemen pada indeks 7 harus ikut terbawa)."
   ]
  },
  {
   "cell_type": "code",
   "execution_count": null,
   "metadata": {},
   "outputs": [],
   "source": [
    "# Ketik kode Anda disini\n",
    "\n"
   ]
  },
  {
   "cell_type": "markdown",
   "metadata": {},
   "source": [
    "Klik dua kali __disini__ untuk melihat jawaban.\n",
    "\n",
    "<!-- Jawaban:\n",
    "\n",
    "x[3:8]\n",
    "\n",
    "-->"
   ]
  },
  {
   "cell_type": "markdown",
   "metadata": {},
   "source": [
    "### No. 5\n",
    "\n",
    "Periksa ukuran dimensi array <code>x</code> ! (Keluaran berupa tuple)"
   ]
  },
  {
   "cell_type": "code",
   "execution_count": null,
   "metadata": {},
   "outputs": [],
   "source": [
    "# Ketik kode Anda disini\n",
    "\n"
   ]
  },
  {
   "cell_type": "markdown",
   "metadata": {},
   "source": [
    "Klik dua kali __disini__ untuk melihat jawaban.\n",
    "\n",
    "<!-- Jawaban:\n",
    "\n",
    "x.shape\n",
    "\n",
    "-->"
   ]
  },
  {
   "cell_type": "markdown",
   "metadata": {},
   "source": [
    "### No. 6\n",
    "\n",
    "Buatlah dua array, <code>a</code> yang berisi __10, 30, 40__, dan <code>b</code> yang berisi __20, 40, 50__. Lakukan operasi <i>dot product</i> pada dua array tersebut !"
   ]
  },
  {
   "cell_type": "code",
   "execution_count": null,
   "metadata": {},
   "outputs": [],
   "source": [
    "# Ketik kode Anda disini\n",
    "\n"
   ]
  },
  {
   "cell_type": "markdown",
   "metadata": {},
   "source": [
    "Klik dua kali __disini__ untuk melihat jawaban.\n",
    "\n",
    "<!-- Jawaban:\n",
    "\n",
    "a = np.array([10, 30, 40])\n",
    "b = np.array([20, 40, 50])\n",
    "np.dot(a, b)\n",
    "\n",
    "-->"
   ]
  },
  {
   "cell_type": "markdown",
   "metadata": {},
   "source": [
    "### No. 7 \n",
    "\n",
    "Hitung nilai dari <code>sin 2*pi</code> !"
   ]
  },
  {
   "cell_type": "code",
   "execution_count": null,
   "metadata": {},
   "outputs": [],
   "source": [
    "# Ketik kode Anda disini\n",
    "\n"
   ]
  },
  {
   "cell_type": "markdown",
   "metadata": {},
   "source": [
    "Kllik dua kali __disini__ untuk melihat jawaban.\n",
    "\n",
    "<!-- Jawaban:\n",
    "\n",
    "np.sin(2 * np.pi)\n",
    "\n",
    "-->"
   ]
  },
  {
   "cell_type": "markdown",
   "metadata": {},
   "source": [
    "### No. 8\n",
    "\n",
    "Hitung nilai dari <code>log pi/2</code> !"
   ]
  },
  {
   "cell_type": "code",
   "execution_count": null,
   "metadata": {},
   "outputs": [],
   "source": [
    "# Ketik kode Anda disini\n",
    "\n"
   ]
  },
  {
   "cell_type": "markdown",
   "metadata": {},
   "source": [
    "Klik dua kali __disini__ untuk melihat jawaban.\n",
    "\n",
    "<!-- Jawaban:\n",
    "\n",
    "np.log(np.pi / 2)\n",
    "\n",
    "-->"
   ]
  },
  {
   "cell_type": "markdown",
   "metadata": {},
   "source": [
    "### No. 9\n",
    "\n",
    "Ubah bilangan __6.827652909__ menjadi hanya __3__ angka dibelakang koma/titik desimal !"
   ]
  },
  {
   "cell_type": "code",
   "execution_count": null,
   "metadata": {},
   "outputs": [],
   "source": [
    "# Ketik kode Anda disini\n",
    "\n"
   ]
  },
  {
   "cell_type": "markdown",
   "metadata": {},
   "source": [
    "Klik dua kali __disini__ untuk melihat jawaban.\n",
    "\n",
    "<!-- Jawaban:\n",
    "\n",
    "np.round(6.827652909, 3)\n",
    "\n",
    "-->"
   ]
  },
  {
   "cell_type": "markdown",
   "metadata": {},
   "source": [
    "### No. 10\n",
    "\n",
    "Buatlah array <code>z</code> yang berisi bilangan dengan interval __[-2, 2]__ sebanyak __20__ elemen !"
   ]
  },
  {
   "cell_type": "code",
   "execution_count": null,
   "metadata": {},
   "outputs": [],
   "source": [
    "# Ketik kode Anda disini\n",
    "\n"
   ]
  },
  {
   "cell_type": "markdown",
   "metadata": {},
   "source": [
    "Klik dua kali __disini__ untuk melihat jawaban.\n",
    "\n",
    "<!-- Jawaban:\n",
    "\n",
    "z = np.linspace(-2, 2, num=20)\n",
    "z\n",
    "\n",
    "-->"
   ]
  },
  {
   "cell_type": "markdown",
   "metadata": {},
   "source": [
    "<hr>"
   ]
  },
  {
   "cell_type": "markdown",
   "metadata": {},
   "source": [
    "Copyright @ <a href=\"https://ilmudatapy.com/\">ilmudatapy.com</a>"
   ]
  }
 ],
 "metadata": {
  "kernelspec": {
   "display_name": "Python 3",
   "language": "python",
   "name": "python3"
  },
  "language_info": {
   "codemirror_mode": {
    "name": "ipython",
    "version": 3
   },
   "file_extension": ".py",
   "mimetype": "text/x-python",
   "name": "python",
   "nbconvert_exporter": "python",
   "pygments_lexer": "ipython3",
   "version": "3.7.3"
  }
 },
 "nbformat": 4,
 "nbformat_minor": 2
}
