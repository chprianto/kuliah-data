{
 "cells": [
  {
   "cell_type": "markdown",
   "metadata": {},
   "source": [
    "<img src=\"../images/ilmudatapy-logo.png\" width=\"350\" align=\"center\">\n",
    "<br>"
   ]
  },
  {
   "cell_type": "markdown",
   "metadata": {},
   "source": [
    "<center><h1>Tuple</h1></center>\n",
    "<hr>"
   ]
  },
  {
   "cell_type": "markdown",
   "metadata": {},
   "source": [
    "__Halo, Learners!__ Di notebook ini kita akan membahas tentang tuple termasuk cara mengaksesnya dengan <i>indexing</i> maupun <i>slicing</i>, serta <i>sorting</i> elemen pada tuple."
   ]
  },
  {
   "cell_type": "markdown",
   "metadata": {},
   "source": [
    "<h2>Table of Contents</h2>\n",
    "<div class=\"alert alert-block alert-info\" style=\"margin-top: 25px\">\n",
    "    <ul>\n",
    "        <li>\n",
    "            Apa itu Tuple?\n",
    "            <ul>\n",
    "               <li>Contoh Tuple</li>\n",
    "            </ul>\n",
    "        </li>\n",
    "        <li>\n",
    "            Mengakses Tuple\n",
    "            <ul>\n",
    "               <li>Indexing</li>\n",
    "               <li>Slicing</li>\n",
    "            </ul>\n",
    "        </li>\n",
    "        <li>\n",
    "            Nested Tuple\n",
    "            <ul>\n",
    "               <li>Mengakses nested tuple</li>\n",
    "            </ul>\n",
    "        </li>\n",
    "        <li>\n",
    "            Operasi Tuple\n",
    "            <ul>\n",
    "               <li>Sorting tuple</li>\n",
    "               <li>Menghitung panjang tuple</li>\n",
    "               <li>Menggabungkan tuple</li>\n",
    "               <li>Mengubah tuple menjadi list</li>\n",
    "               <li>Mengecek tipe data tuple</li>\n",
    "            </ul>\n",
    "        </li>\n",
    "        <li>\n",
    "            Latihan: Tuple\n",
    "        </li>\n",
    "    </ul>\n",
    "</div>"
   ]
  },
  {
   "cell_type": "markdown",
   "metadata": {},
   "source": [
    "<hr>\n",
    "<div class=\"alert alert-success\" style=\"margin-top: 20px\">\n",
    "    <strong>Catatan:</strong> Untuk menjalankan kode program Python di Jupyter Notebook, klik pada <i>cell</i> yang ingin di-<i>run</i> lalu tekan <kbd>Shift</kbd> + <kbd>Enter</kbd>.\n",
    "</div>\n",
    "<hr>"
   ]
  },
  {
   "cell_type": "markdown",
   "metadata": {},
   "source": [
    "## Apa itu Tuple?"
   ]
  },
  {
   "cell_type": "markdown",
   "metadata": {},
   "source": [
    "Tuple merupakan salah satu tipe data di Python yang terdiri dari sekumpulan objek yang terurut. Objek-objek pada tuple bisa berupa berbagai tipe data seperti string, integer, float, ataupun tuple itu sendiri.\n",
    "\n",
    "Tuple hampir sama dengan list, hanya saja tuple bersifat <i>immutable</i> yang berarti tidak dapat diubah-ubah isinya. Jadi, kita tidak dapat menambahkan elemen baru pada tuple, maupun menghapus dan mengubah nilai-nilai dari setiap elemen di dalam tuple."
   ]
  },
  {
   "cell_type": "markdown",
   "metadata": {},
   "source": [
    "### Contoh tuple"
   ]
  },
  {
   "cell_type": "markdown",
   "metadata": {},
   "source": [
    "Tuple didefinisikan menggunakan tanda kurung <code>()</code>."
   ]
  },
  {
   "cell_type": "code",
   "execution_count": null,
   "metadata": {},
   "outputs": [],
   "source": [
    "# Contoh pendefinisian tuple\n",
    "\n",
    "hari = ('senin', 'selasa', 'rabu', 'kamis', 'jumat', 'sabtu', 'minggu')\n",
    "hari"
   ]
  },
  {
   "cell_type": "code",
   "execution_count": null,
   "metadata": {},
   "outputs": [],
   "source": [
    "# Contoh tuple yang berisi berbagai tipe data\n",
    "\n",
    "cth_tuple = ('Budi', 30, 6000, 3.77)\n",
    "cth_tuple"
   ]
  },
  {
   "cell_type": "markdown",
   "metadata": {},
   "source": [
    "<hr>"
   ]
  },
  {
   "cell_type": "markdown",
   "metadata": {},
   "source": [
    "## Mengakses tuple"
   ]
  },
  {
   "cell_type": "markdown",
   "metadata": {},
   "source": [
    "### Indexing"
   ]
  },
  {
   "cell_type": "markdown",
   "metadata": {},
   "source": [
    "Sama seperti list, tuple dapat diakses menggunakan indeks."
   ]
  },
  {
   "cell_type": "code",
   "execution_count": null,
   "metadata": {},
   "outputs": [],
   "source": [
    "# Mengakses elemen tuple pada indeks 0\n",
    "\n",
    "cth_tuple = ('Budi', 30, 6000, 3.77)\n",
    "\n",
    "cth_tuple[2]"
   ]
  },
  {
   "cell_type": "code",
   "execution_count": null,
   "metadata": {},
   "outputs": [],
   "source": [
    "# Mengakses elemen tuple \n",
    "\n",
    "print(cth_tuple[0])\n",
    "print(cth_tuple[1])\n",
    "print(cth_tuple[2])\n",
    "print(cth_tuple[3])"
   ]
  },
  {
   "cell_type": "markdown",
   "metadata": {},
   "source": [
    "Kita juga dapat menggunakan <i>negative indexing</i> dalam mengakses elemen tuple yang dimulai dari <code>-1</code> untuk elemen paling belakang."
   ]
  },
  {
   "cell_type": "code",
   "execution_count": null,
   "metadata": {},
   "outputs": [],
   "source": [
    "# Mengakses elemen tuple pada indeks -1\n",
    "\n",
    "cth_tuple[-1]"
   ]
  },
  {
   "cell_type": "code",
   "execution_count": null,
   "metadata": {},
   "outputs": [],
   "source": [
    "# Mengakses elemen tuple menggunakan negative indexing\n",
    "\n",
    "print(cth_tuple[-1])\n",
    "print(cth_tuple[-2])\n",
    "print(cth_tuple[-3])\n",
    "print(cth_tuple[-4])"
   ]
  },
  {
   "cell_type": "markdown",
   "metadata": {},
   "source": [
    "### Slicing"
   ]
  },
  {
   "cell_type": "markdown",
   "metadata": {},
   "source": [
    "Kita juga dapat memotong tuple untuk mendapatkan elemen dengann <i>range</i> indeks tertentu."
   ]
  },
  {
   "cell_type": "code",
   "execution_count": null,
   "metadata": {},
   "outputs": [],
   "source": [
    "# Slicing tuple dari indeks 0 sampai 2\n",
    "\n",
    "cth_tuple = ('Budi', 30, 6000, 3.77)\n",
    "\n",
    "cth_tuple[0:3]"
   ]
  },
  {
   "cell_type": "markdown",
   "metadata": {},
   "source": [
    "Jika ingin mengambil dua elemen terakhir pada tuple <code>cth_tuple</code>, gunakan kode berikut."
   ]
  },
  {
   "cell_type": "code",
   "execution_count": null,
   "metadata": {},
   "outputs": [],
   "source": [
    "# Mengambil dua elemen terakhir\n",
    "\n",
    "cth_tuple[2:4]"
   ]
  },
  {
   "cell_type": "markdown",
   "metadata": {},
   "source": [
    "atau kita juga bisa tidak memasukkan angka setelah tanda titik dua <code>:</code>."
   ]
  },
  {
   "cell_type": "code",
   "execution_count": null,
   "metadata": {},
   "outputs": [],
   "source": [
    "# Mengambil dua elemen terakhir\n",
    "\n",
    "cth_tuple[2:]"
   ]
  },
  {
   "cell_type": "markdown",
   "metadata": {},
   "source": [
    "Jika kita ingin mengakses elemen dari mulai indeks 0 sampai indeks tertentu, kita bisa tidak menuliskan angka pertama sebelum titik dua <code>:</code>."
   ]
  },
  {
   "cell_type": "code",
   "execution_count": null,
   "metadata": {},
   "outputs": [],
   "source": [
    "# Mengambil elemen pertama sampai elemen pada indeks 3\n",
    "\n",
    "cth_tuple[:3]"
   ]
  },
  {
   "cell_type": "markdown",
   "metadata": {},
   "source": [
    "<hr>"
   ]
  },
  {
   "cell_type": "markdown",
   "metadata": {},
   "source": [
    "## Nested Tuple"
   ]
  },
  {
   "cell_type": "markdown",
   "metadata": {},
   "source": [
    "Selain berisi objek dengan tipe data string, integer, atau float, tuple juga dapat berisi tuple lain. Ini dinamakan <i>nested tuple</i> atau tuple bersarang."
   ]
  },
  {
   "cell_type": "code",
   "execution_count": null,
   "metadata": {},
   "outputs": [],
   "source": [
    "# Contoh nested tuple\n",
    "\n",
    "nested_tuple = ('a', 'b', (1, 2, 3), ('c', (4, 'd')), 5)\n",
    "nested_tuple"
   ]
  },
  {
   "cell_type": "code",
   "execution_count": null,
   "metadata": {},
   "outputs": [],
   "source": [
    "# print elemen dari masing-masing indeks\n",
    "\n",
    "print('elemen 0: ', nested_tuple[0])\n",
    "print('elemen 1: ', nested_tuple[1])\n",
    "print('elemen 2: ', nested_tuple[2])\n",
    "print('elemen 3: ', nested_tuple[3])\n",
    "print('elemen 4: ', nested_tuple[4])"
   ]
  },
  {
   "cell_type": "markdown",
   "metadata": {},
   "source": [
    "### Mengakses nested tuple"
   ]
  },
  {
   "cell_type": "markdown",
   "metadata": {},
   "source": [
    "Untuk mengakses elemen yang berada di dalam <code>nested tuple</code>, perhatikan kode berikut."
   ]
  },
  {
   "cell_type": "code",
   "execution_count": null,
   "metadata": {},
   "outputs": [],
   "source": [
    "# Mengakses elemen pertama pada nested tuple (1, 2, 3)\n",
    "\n",
    "nested_tuple[2][0]"
   ]
  },
  {
   "cell_type": "code",
   "execution_count": null,
   "metadata": {},
   "outputs": [],
   "source": [
    "# Mengakses nested tuple\n",
    "\n",
    "print('elemen 2, 0 :', nested_tuple[2][0])\n",
    "print('elemen 2, 1 :', nested_tuple[2][1])\n",
    "print('elemen 2, 2 :', nested_tuple[2][2])\n",
    "print('elemen 3, 0 :', nested_tuple[3][0])\n",
    "print('elemen 3, 1 :', nested_tuple[3][1])"
   ]
  },
  {
   "cell_type": "code",
   "execution_count": null,
   "metadata": {},
   "outputs": [],
   "source": [
    "nested_tuple[3][1][0]"
   ]
  },
  {
   "cell_type": "code",
   "execution_count": null,
   "metadata": {},
   "outputs": [],
   "source": [
    "print('elemen 3, 1, 0 :', nested_tuple[3][1][0])\n",
    "print('elemen 3, 1, 1 :', nested_tuple[3][1][1])"
   ]
  },
  {
   "cell_type": "markdown",
   "metadata": {},
   "source": [
    "<hr>"
   ]
  },
  {
   "cell_type": "markdown",
   "metadata": {},
   "source": [
    "## Operasi tuple"
   ]
  },
  {
   "cell_type": "markdown",
   "metadata": {},
   "source": [
    "### Sorting tuple"
   ]
  },
  {
   "cell_type": "markdown",
   "metadata": {},
   "source": [
    "Kita dapat mengurutkan elemen di tuple menggunakan fungsi <code>sorted()</code>. Perhatikan contoh tuple berikut."
   ]
  },
  {
   "cell_type": "code",
   "execution_count": null,
   "metadata": {},
   "outputs": [],
   "source": [
    "# Misal kita memiliki tuple bil yang berupa integer dan akan di-sorting\n",
    "\n",
    "bil = (8, 3, 10, 2, 9, 1, 5, 2, 7, 4)"
   ]
  },
  {
   "cell_type": "markdown",
   "metadata": {},
   "source": [
    "Kita dapat menggunakan fungsi <code>sorted()</code> untuk mengurutkan lalu memasukkannya pada variabel baru."
   ]
  },
  {
   "cell_type": "code",
   "execution_count": null,
   "metadata": {},
   "outputs": [],
   "source": [
    "# Sorting integer\n",
    "\n",
    "bil_sorted = sorted(bil)\n",
    "bil_sorted"
   ]
  },
  {
   "cell_type": "markdown",
   "metadata": {},
   "source": [
    "Selain integer, kita juga dapat mengurutkan string secara <i>ascending</i>."
   ]
  },
  {
   "cell_type": "code",
   "execution_count": null,
   "metadata": {},
   "outputs": [],
   "source": [
    "# Sorting string\n",
    "\n",
    "buah = ('durian', 'anggur', 'delima', 'mangga', 'jambu')\n",
    "buah_sorted = sorted(buah)\n",
    "buah_sorted"
   ]
  },
  {
   "cell_type": "markdown",
   "metadata": {},
   "source": [
    "### Menghitung panjang tuple"
   ]
  },
  {
   "cell_type": "markdown",
   "metadata": {},
   "source": [
    "Untuk menghitung panjang tuple, kita dapat menggunakan fungsi <code>len()</code>. Fungsi ini akan menghasilkan sebuah bilangan integer yang merepresentasikan jumlah elemen pada tuple."
   ]
  },
  {
   "cell_type": "code",
   "execution_count": null,
   "metadata": {},
   "outputs": [],
   "source": [
    "# Contoh penggunaan len()\n",
    "\n",
    "bil = (8, 3, 10, 2, 9, 1, 5, 2, 7, 4)\n",
    "\n",
    "len(bil)"
   ]
  },
  {
   "cell_type": "code",
   "execution_count": null,
   "metadata": {},
   "outputs": [],
   "source": [
    "buah = ('durian', 'anggur', 'delima', 'mangga', 'jambu')\n",
    "\n",
    "len(buah)"
   ]
  },
  {
   "cell_type": "markdown",
   "metadata": {},
   "source": [
    "### Menggabungkan tuple"
   ]
  },
  {
   "cell_type": "markdown",
   "metadata": {},
   "source": [
    "Untuk menggabungkan tuple kita dapat menggunakan operator <code>+</code>."
   ]
  },
  {
   "cell_type": "code",
   "execution_count": null,
   "metadata": {},
   "outputs": [],
   "source": [
    "# Menggabungkan tuple\n",
    "\n",
    "bil2 = bil + (100, 200, 'halo')\n",
    "bil2"
   ]
  },
  {
   "cell_type": "code",
   "execution_count": null,
   "metadata": {},
   "outputs": [],
   "source": [
    "# Menggabungkan tuple bil dan buah\n",
    "\n",
    "new_tuple = bil + buah\n",
    "print(new_tuple)"
   ]
  },
  {
   "cell_type": "markdown",
   "metadata": {},
   "source": [
    "### Mengubah tuple menjadi list dan sebaliknya"
   ]
  },
  {
   "cell_type": "markdown",
   "metadata": {},
   "source": [
    "Seperti yang sudah disebutkan di atas, tuple bersifat <i>immutable</i> (tidak dapat diubah isinya), sehingga jika kita ingin mengubah isi tuple, kita harus mengubahnya dahulu menjadi list yang bersifat <i>mutable</i> (dapat diubah).\n",
    "\n",
    "Sebelum diubah menjadi list, mari kita coba mengubah elemen tuple tanpa konversi. Cara ini tentu saja akan menghasilkan <i>error</i>. Coba jalankan <i>cell</i> di bawah ini."
   ]
  },
  {
   "cell_type": "code",
   "execution_count": null,
   "metadata": {},
   "outputs": [],
   "source": [
    "buah = ('durian', 'anggur', 'delima', 'mangga', 'jambu')\n",
    "\n",
    "# Mengganti tuple buah untuk indeks 0\n",
    "buah[0] = 'jeruk'    \n",
    "buah"
   ]
  },
  {
   "cell_type": "markdown",
   "metadata": {},
   "source": [
    "Setelah di-<i>run</i>, Anda melihat pesan <i>error</i> bukan?! Nah, itu membuktikan bahwa tuple memang tidak dapat diubah.\n",
    "\n",
    "Sekarang mari kita ubah dahulu tuple <code>buah</code> tersebut menjadi list dengan kode di bawah ini."
   ]
  },
  {
   "cell_type": "code",
   "execution_count": null,
   "metadata": {},
   "outputs": [],
   "source": [
    "# Konversi tuple menjadi list dan memasukkannya ke dalam variabel list_buah\n",
    "\n",
    "list_buah = list(buah)\n",
    "list_buah"
   ]
  },
  {
   "cell_type": "markdown",
   "metadata": {},
   "source": [
    "Setelah menjadi sebuah list, sekarang Anda dapat mengubah, menambahkan, atau menghapus isinya."
   ]
  },
  {
   "cell_type": "code",
   "execution_count": null,
   "metadata": {},
   "outputs": [],
   "source": [
    "# Mengubah elemen\n",
    "\n",
    "list_buah[0] = 'jeruk'\n",
    "list_buah"
   ]
  },
  {
   "cell_type": "markdown",
   "metadata": {},
   "source": [
    "Sekarang kita akan mengubah kembali list tersebut menjadi tuple dengan kode di bawah ini."
   ]
  },
  {
   "cell_type": "code",
   "execution_count": null,
   "metadata": {},
   "outputs": [],
   "source": [
    "# Konversi list menjadi tuple dan memasukkannya ke dalam variabel buah\n",
    "\n",
    "buah = tuple(list_buah)\n",
    "buah"
   ]
  },
  {
   "cell_type": "markdown",
   "metadata": {},
   "source": [
    "### Mengecek tipe data tuple"
   ]
  },
  {
   "cell_type": "markdown",
   "metadata": {},
   "source": [
    "Untuk mengecek tipe data tuple, kita dapat menggunakan fungsi <code>type()</code>."
   ]
  },
  {
   "cell_type": "code",
   "execution_count": null,
   "metadata": {},
   "outputs": [],
   "source": [
    "# Mengecek tipe data tuple\n",
    "\n",
    "type(buah)"
   ]
  },
  {
   "cell_type": "markdown",
   "metadata": {},
   "source": [
    "Kita juga dapat mengecek tipe data dari elemen di dalam tuple."
   ]
  },
  {
   "cell_type": "code",
   "execution_count": null,
   "metadata": {},
   "outputs": [],
   "source": [
    "# Mengecek tipe data elemen di dalam tuple\n",
    "\n",
    "type(buah[0])"
   ]
  },
  {
   "cell_type": "code",
   "execution_count": null,
   "metadata": {},
   "outputs": [],
   "source": [
    "type(bil[4])"
   ]
  },
  {
   "cell_type": "code",
   "execution_count": null,
   "metadata": {},
   "outputs": [],
   "source": [
    "cth_tuple = ('Budi', 30, 6000, 3.77)\n",
    "\n",
    "print(type(cth_tuple[0]))\n",
    "print(type(cth_tuple[1]))\n",
    "print(type(cth_tuple[2]))\n",
    "print(type(cth_tuple[3]))"
   ]
  },
  {
   "cell_type": "markdown",
   "metadata": {},
   "source": [
    "<hr>"
   ]
  },
  {
   "cell_type": "markdown",
   "metadata": {},
   "source": [
    "## Latihan: Tuple"
   ]
  },
  {
   "cell_type": "markdown",
   "metadata": {},
   "source": [
    "Pada bagian ini, silahkan Anda menguji pemahaman Anda tentang tuple yang telah disampaikan di atas. Jika Anda masih bingung, Anda dapat melihat contoh jawaban yang telah disediakan di bawah <i>cell</i> dari masing-masing soal."
   ]
  },
  {
   "cell_type": "markdown",
   "metadata": {},
   "source": [
    "### No. 1\n",
    "\n",
    "Buatlah tuple <code>tuple1</code> yang berisi <code>python</code>, <code>3.7</code>, <code>5000</code> !"
   ]
  },
  {
   "cell_type": "code",
   "execution_count": null,
   "metadata": {},
   "outputs": [],
   "source": [
    "# Ketik kode Anda disini\n",
    "\n"
   ]
  },
  {
   "cell_type": "markdown",
   "metadata": {},
   "source": [
    "Klik dua kali __disini__ untuk melihat jawaban\n",
    "\n",
    "<!-- Jawaban:\n",
    "\n",
    "tuple1 = (\"python\", 3.7, 5000)\n",
    "tuple1\n",
    "\n",
    "-->"
   ]
  },
  {
   "cell_type": "markdown",
   "metadata": {},
   "source": [
    "### No. 2\n",
    "\n",
    "Ambil indeks 1 dari <code>tuple1</code> !"
   ]
  },
  {
   "cell_type": "code",
   "execution_count": null,
   "metadata": {},
   "outputs": [],
   "source": [
    "# Ketik kode Anda disini\n",
    "\n"
   ]
  },
  {
   "cell_type": "markdown",
   "metadata": {},
   "source": [
    "Klik dua kali __disini__ untuk melihat jawaban\n",
    "\n",
    "<!-- Jawaban:\n",
    "\n",
    "tuple1[1]\n",
    "\n",
    "-->"
   ]
  },
  {
   "cell_type": "markdown",
   "metadata": {},
   "source": [
    "### No. 3\n",
    "\n",
    "Urutkan tuple berikut <code>tuple2 = (20, 89, 11, 54, 43, 16)</code> dan simpan pada variabel <code>sorted_tuple2</code> !"
   ]
  },
  {
   "cell_type": "code",
   "execution_count": null,
   "metadata": {},
   "outputs": [],
   "source": [
    "# Ketik kode Anda disini\n",
    "\n"
   ]
  },
  {
   "cell_type": "markdown",
   "metadata": {},
   "source": [
    "Klik dua kali __disini__ untuk melihat jawaban\n",
    "\n",
    "<!-- Jawaban:\n",
    "\n",
    "tuple2 = (20, 89, 11, 54, 43, 16)\n",
    "sorted_tuple2 = sorted(tuple2)\n",
    "sorted_tuple2\n",
    "\n",
    "-->"
   ]
  },
  {
   "cell_type": "markdown",
   "metadata": {},
   "source": [
    "### No. 4\n",
    "\n",
    "Gabungkan <code>tuple1</code> dan <code>tuple2</code> dan simpan pada variabel <code>tuple3</code> !"
   ]
  },
  {
   "cell_type": "code",
   "execution_count": null,
   "metadata": {},
   "outputs": [],
   "source": [
    "# Ketik kode Anda disini\n",
    "\n"
   ]
  },
  {
   "cell_type": "markdown",
   "metadata": {},
   "source": [
    "Klik dua kali __disini__ untuk melihat jawaban\n",
    "\n",
    "<!-- Jawaban:\n",
    "\n",
    "tuple3 = tuple1 + tuple2\n",
    "tuple3\n",
    "\n",
    "-->"
   ]
  },
  {
   "cell_type": "markdown",
   "metadata": {},
   "source": [
    "### No. 5\n",
    "\n",
    "Ubah <code>tuple3</code> menjadi list!"
   ]
  },
  {
   "cell_type": "code",
   "execution_count": null,
   "metadata": {},
   "outputs": [],
   "source": [
    "# Ketik kode Anda disini\n",
    "\n"
   ]
  },
  {
   "cell_type": "markdown",
   "metadata": {},
   "source": [
    "Klik dua kali __disini__ untuk melihat jawaban\n",
    "\n",
    "<!-- Jawaban:\n",
    "\n",
    "tuple3 = list(tuple3)\n",
    "tuple3\n",
    "\n",
    "-->"
   ]
  },
  {
   "cell_type": "markdown",
   "metadata": {},
   "source": [
    "<hr>"
   ]
  },
  {
   "cell_type": "markdown",
   "metadata": {},
   "source": [
    "Copyright @ <a href=\"https://ilmudatapy.com/\">ilmudatapy.com</a>"
   ]
  }
 ],
 "metadata": {
  "kernelspec": {
   "display_name": "Python 3",
   "language": "python",
   "name": "python3"
  },
  "language_info": {
   "codemirror_mode": {
    "name": "ipython",
    "version": 3
   },
   "file_extension": ".py",
   "mimetype": "text/x-python",
   "name": "python",
   "nbconvert_exporter": "python",
   "pygments_lexer": "ipython3",
   "version": "3.7.3"
  }
 },
 "nbformat": 4,
 "nbformat_minor": 2
}
