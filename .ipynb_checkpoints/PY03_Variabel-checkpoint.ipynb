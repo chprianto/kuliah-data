{
 "cells": [
  {
   "cell_type": "markdown",
   "metadata": {},
   "source": [
    "<img src=\"../images/ilmudatapy-logo.png\" width=\"350\" align=\"center\">\n",
    "<br>"
   ]
  },
  {
   "cell_type": "markdown",
   "metadata": {},
   "source": [
    "<center><h1>Variabel</h1></center>\n",
    "<hr>"
   ]
  },
  {
   "cell_type": "markdown",
   "metadata": {},
   "source": [
    "__Halo Learners!__ Di notebook ini kita akan membahas tentang variabel, yang boleh dan tidak boleh dijadikan variabel.\n",
    "\n",
    "Variabel adalah <i>identifier</i> atau bisa juga dikatakan sebuah wadah untuk menampung data yang memiliki nilai yang dinamis atau dapat berubah-ubah.\n",
    "\n",
    "Di dalam Python, variabel tidak perlu dideklarasikan di awal seperti pada aturan beberapa bahasa pemrograman lain. Jadi kita bisa langsung menginisialisasi variabel yang akan dipakai."
   ]
  },
  {
   "cell_type": "markdown",
   "metadata": {},
   "source": [
    "<h2>Table of Contents</h2>\n",
    "<div class=\"alert alert-block alert-info\" style=\"margin-top: 25px\">\n",
    "    <ul>\n",
    "        <li>\n",
    "            Inisialisasi Variabel\n",
    "        </li>\n",
    "        <li>\n",
    "            Memberi nilai beberapa variabel dengan nilai yang sama\n",
    "        </li>\n",
    "        <li>\n",
    "            Aturan Penamaan variabel\n",
    "        </li>\n",
    "        <li>\n",
    "            Kata-kata yang tidak boleh digunakan sebagai nama variabel\n",
    "        </li>\n",
    "        <li>\n",
    "            Latihan: Variable\n",
    "        </li>\n",
    "    </ul>\n",
    "</div>"
   ]
  },
  {
   "cell_type": "markdown",
   "metadata": {},
   "source": [
    "<hr>\n",
    "<div class=\"alert alert-success\" style=\"margin-top: 20px\">\n",
    "    <strong>Catatan:</strong> Untuk menjalankan kode program Python di Jupyter Notebook, klik pada <i>cell</i> yang ingin di-<i>run</i> lalu tekan <kbd>Shift</kbd> + <kbd>Enter</kbd>.\n",
    "</div>\n",
    "<hr>"
   ]
  },
  {
   "cell_type": "markdown",
   "metadata": {},
   "source": [
    "## Inisialisasi Variabel"
   ]
  },
  {
   "cell_type": "markdown",
   "metadata": {},
   "source": [
    "Inisialisasi variabel sangat mudah yaitu hanya menggunakan tanda sama dengan (=). Inisialisasi variabel harus ditulis terlebih dahulu sebelum digunakan."
   ]
  },
  {
   "cell_type": "code",
   "execution_count": null,
   "metadata": {},
   "outputs": [],
   "source": [
    "# Inisialisasi variabel dengan nilai 10, lalu mencetaknya\n",
    "\n",
    "x = 10\n",
    "print(x)"
   ]
  },
  {
   "cell_type": "markdown",
   "metadata": {},
   "source": [
    "Seperti yang pernah dibahas di notebook sebelumnya, kita juga bisa mencetak nilai variabel tanpa menggunakan __print()__."
   ]
  },
  {
   "cell_type": "code",
   "execution_count": null,
   "metadata": {},
   "outputs": [],
   "source": [
    "x"
   ]
  },
  {
   "cell_type": "markdown",
   "metadata": {},
   "source": [
    "Nilai dalam variabel yang sudah digunakan juga bisa diganti. Misalnya kita akan mengganti nilai variabel <code>x</code> menjadi 2000."
   ]
  },
  {
   "cell_type": "code",
   "execution_count": null,
   "metadata": {},
   "outputs": [],
   "source": [
    "x = 2000\n",
    "x"
   ]
  },
  {
   "cell_type": "markdown",
   "metadata": {},
   "source": [
    "Sebelumnya kita telah memberi nilai <code>x</code> dengan bilangan integer 10, kemudian pada kode di atas kita memberikan nilai baru pada variabel <code>x</code> dengan bilangan integer 2000. Saat kita mencetak <code>x</code>, maka output yang akan keluar adalah 2000. Itu karena nilai <code>x</code> sekarang adalah 2000 dan nilai 10 yang sebelumnya telah terhapus.\n",
    "\n",
    "Nilai sebuah variabel juga bisa diganti dengan tipe data yang berbeda."
   ]
  },
  {
   "cell_type": "code",
   "execution_count": null,
   "metadata": {},
   "outputs": [],
   "source": [
    "var = 3.38\n",
    "print(var)"
   ]
  },
  {
   "cell_type": "code",
   "execution_count": null,
   "metadata": {},
   "outputs": [],
   "source": [
    "var = \"Ganti menjadi string\"\n",
    "print(var)"
   ]
  },
  {
   "cell_type": "markdown",
   "metadata": {},
   "source": [
    "Variabel <code>var</code> sebelumnya memiliki nilai 3.38 yang berarti tipe datanya adalah float, selanjutnya isi variabel <code>var</code> diganti menjadi sebuah string. Nilai variabel yang digunakan adalah nilai yang diinisialisasi paling terakhir, karena itu jika kita akan menggunakan kembali variabel dengan nilai sebelumnya, kita harus menginisialisasi kembali variabel tersebut dengan nilai yang dimaksud."
   ]
  },
  {
   "cell_type": "markdown",
   "metadata": {},
   "source": [
    "<hr>"
   ]
  },
  {
   "cell_type": "markdown",
   "metadata": {},
   "source": [
    "## Memberi nilai beberapa variabel dengan nilai yang sama"
   ]
  },
  {
   "cell_type": "markdown",
   "metadata": {},
   "source": [
    "Jika kita ingin membuat dua atau lebih variabel dengan nilai yang sama, kita tidak perlu menginisialisasi satu per satu variabelnya dengan nilai tertentu, melainkan bisa dengan hanya satu baris kode untuk inisialisasinya."
   ]
  },
  {
   "cell_type": "code",
   "execution_count": null,
   "metadata": {},
   "outputs": [],
   "source": [
    "a = b = c = 100"
   ]
  },
  {
   "cell_type": "markdown",
   "metadata": {},
   "source": [
    "Jika kita __print()__ ketiga variabel tersebut, ketiganya akan mengeluarkan output yang sama yaitu 100."
   ]
  },
  {
   "cell_type": "code",
   "execution_count": null,
   "metadata": {},
   "outputs": [],
   "source": [
    "print(a, b, c)"
   ]
  },
  {
   "cell_type": "markdown",
   "metadata": {},
   "source": [
    "Bisa kita lihat bahwa variabel <code>a</code>, <code>b</code>, dan <code>c</code> sama-sama memiliki nilai 100. Nah, misalnya kita ingin mengubah nilai dari salah satu variabel tersebut, katakanlah <code>b</code> yang akan kita ubah."
   ]
  },
  {
   "cell_type": "code",
   "execution_count": null,
   "metadata": {},
   "outputs": [],
   "source": [
    "b = 500"
   ]
  },
  {
   "cell_type": "markdown",
   "metadata": {},
   "source": [
    "Maka saat kita melakukan __print()__, nilai b sudah berubah menjadi 500."
   ]
  },
  {
   "cell_type": "code",
   "execution_count": null,
   "metadata": {},
   "outputs": [],
   "source": [
    "print(a, b, c)"
   ]
  },
  {
   "cell_type": "markdown",
   "metadata": {},
   "source": [
    "<hr>"
   ]
  },
  {
   "cell_type": "markdown",
   "metadata": {},
   "source": [
    "## Aturan Penamaan variabel"
   ]
  },
  {
   "cell_type": "markdown",
   "metadata": {},
   "source": [
    "Dari contoh-contoh yang telah dipelajari di atas, nama variabel yang digunakan adalah nama-nama yang pendek seperti <code>x</code>, <code>a</code>, <code>b</code>, dan lainnya. Namun, pada kenyataannya nama variabel dapat lebih panjang yang merujuk pada penggunaanya agar lebih mudah mengingat dan memahaminya. Misalnya jika ingin membuat variabel untuk menampung nilai mahasiswa, kita dapat menamai variabel dengan misalnya <code>nilaiMhs</code> atau <code>nilai_mhs</code>."
   ]
  },
  {
   "cell_type": "code",
   "execution_count": null,
   "metadata": {},
   "outputs": [],
   "source": [
    "# Nama variabel bisa panjang namun tanpa spasi\n",
    "\n",
    "nama_mhs = 'Lutfia'\n",
    "matkul_mhs = 'Algoritma'\n",
    "nilai_mhs = 80\n",
    "\n",
    "print(nama_mhs, matkul_mhs, nilai_mhs)"
   ]
  },
  {
   "cell_type": "markdown",
   "metadata": {},
   "source": [
    "Nama variabel tidak boleh diawali dengan angka seperti di bawah ini."
   ]
  },
  {
   "cell_type": "code",
   "execution_count": null,
   "metadata": {},
   "outputs": [],
   "source": [
    "# Contoh penamaan variabel yang diawali angka akan menghasilkan error\n",
    "\n",
    "288x = 100"
   ]
  },
  {
   "cell_type": "markdown",
   "metadata": {},
   "source": [
    "Perlu dicatat bahwa Python ini <i>case sensitive</i>, artinya bahwa huruf besar dan huruf kecil tidaklah sama. Perhatikan contoh berikut."
   ]
  },
  {
   "cell_type": "code",
   "execution_count": null,
   "metadata": {},
   "outputs": [],
   "source": [
    "# Python case sensitive\n",
    "\n",
    "nilai = 70\n",
    "Nilai = 80\n",
    "NILAI = 90\n",
    "\n",
    "print(nilai, Nilai, NILAI)"
   ]
  },
  {
   "cell_type": "markdown",
   "metadata": {},
   "source": [
    "Meskipun sama-sama dibaca \"nilai\", namun tiga variabel tersebut berbeda. <code>nilai</code> tidak sama dengan <code>NILAI</code> ataupun <code>Nilai</code>. Jadi, perhatikan baik-baik penamaan variabelnya."
   ]
  },
  {
   "cell_type": "markdown",
   "metadata": {},
   "source": [
    "## Kata-kata yang tidak boleh digunakan sebagai nama variabel"
   ]
  },
  {
   "cell_type": "markdown",
   "metadata": {},
   "source": [
    "Ada beberapa kata yang tidak boleh digunakan sebagai variabel karena kata-kata tersebut memiliki fungsi tersendiri di Python, misalnya True dan False yang merupakan keyword untuk tipe data boolean. Kita dapat mengeceknya dengan kode berikut."
   ]
  },
  {
   "cell_type": "code",
   "execution_count": null,
   "metadata": {},
   "outputs": [],
   "source": [
    "help(\"keywords\")"
   ]
  },
  {
   "cell_type": "markdown",
   "metadata": {},
   "source": [
    "Jadi, jika kita melakukan inisialisasi variabel menggunakan salah satu kata di atas, maka akan terjadi <i>error</i>. Coba jalankan kode berikut."
   ]
  },
  {
   "cell_type": "code",
   "execution_count": null,
   "metadata": {},
   "outputs": [],
   "source": [
    "if = 4"
   ]
  },
  {
   "cell_type": "markdown",
   "metadata": {},
   "source": [
    "<hr>"
   ]
  },
  {
   "cell_type": "markdown",
   "metadata": {},
   "source": [
    "## Latihan: Variable"
   ]
  },
  {
   "cell_type": "markdown",
   "metadata": {},
   "source": [
    "Pada bagian ini, silahkan Anda menguji pemahaman Anda tentang variable yang telah disampaikan di atas. Jika Anda masih bingung, Anda dapat melihat contoh jawaban yang telah disediakan di bawah <i>cell</i> dari masing-masing soal."
   ]
  },
  {
   "cell_type": "markdown",
   "metadata": {},
   "source": [
    "### No.1 \n",
    "\n",
    "Buatlah beberapa variabel untuk menampung data diri Anda, kemudian tampilkan outputnya!"
   ]
  },
  {
   "cell_type": "code",
   "execution_count": null,
   "metadata": {},
   "outputs": [],
   "source": [
    "# Ketik kode Anda disini\n",
    "\n"
   ]
  },
  {
   "cell_type": "markdown",
   "metadata": {},
   "source": [
    "Klik dua kali __disini__ untuk melihat jawaban\n",
    "\n",
    "<!-- Jawaban:\n",
    "\n",
    "name = \"John\"\n",
    "height = 180\n",
    "age = 20\n",
    "origin = \"California, United States\"\n",
    "final_grade = 81.6\n",
    "\n",
    "print('Name: ', name)\n",
    "print('Height: ', height)\n",
    "print('Age: ', age, ' years old')\n",
    "print('Origin: ', origin)\n",
    "print('Final Grade: ', final_grade)\n",
    "\n",
    "-->"
   ]
  },
  {
   "cell_type": "markdown",
   "metadata": {},
   "source": [
    "### No. 2\n",
    "\n",
    "Ganti salah satu nilai variabel tersebut, kemudian tampilkan outputnya!"
   ]
  },
  {
   "cell_type": "code",
   "execution_count": null,
   "metadata": {},
   "outputs": [],
   "source": [
    "# Ketik kode Anda disini\n",
    "\n"
   ]
  },
  {
   "cell_type": "markdown",
   "metadata": {},
   "source": [
    "Klik dua kali __disini__ untuk melihat jawaban\n",
    "\n",
    "<!-- Jawaban:\n",
    "\n",
    "name = \"John\"\n",
    "height = 180\n",
    "age = 25\n",
    "origin = \"Sydney, Australia\"\n",
    "final_grade = 81.6\n",
    "\n",
    "print('Name: ', name)\n",
    "print('Height: ', height)\n",
    "print('Age: ', age, ' years old')\n",
    "print('Origin: ', origin)\n",
    "print('Final Grade: ', final_grade)\n",
    "\n",
    "-->"
   ]
  },
  {
   "cell_type": "markdown",
   "metadata": {},
   "source": [
    "<hr>"
   ]
  },
  {
   "cell_type": "markdown",
   "metadata": {},
   "source": [
    "Copyright @ <a href=\"https://ilmudatapy.com/\">ilmudatapy.com</a>"
   ]
  }
 ],
 "metadata": {
  "kernelspec": {
   "display_name": "Python 3",
   "language": "python",
   "name": "python3"
  },
  "language_info": {
   "codemirror_mode": {
    "name": "ipython",
    "version": 3
   },
   "file_extension": ".py",
   "mimetype": "text/x-python",
   "name": "python",
   "nbconvert_exporter": "python",
   "pygments_lexer": "ipython3",
   "version": "3.7.3"
  }
 },
 "nbformat": 4,
 "nbformat_minor": 2
}
