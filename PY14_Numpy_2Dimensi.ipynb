{
 "cells": [
  {
   "cell_type": "markdown",
   "metadata": {},
   "source": [
    "<img src=\"../images/ilmudatapy-logo.png\" width=\"350\" align=\"center\">\n",
    "<br>"
   ]
  },
  {
   "cell_type": "markdown",
   "metadata": {},
   "source": [
    "<center><h1>Numpy (2 Dimensi)</h1></center>\n",
    "<hr>"
   ]
  },
  {
   "cell_type": "markdown",
   "metadata": {},
   "source": [
    "__Halo, Learners!__ Di notebook ini, kita akan belajar tentang __numpy__  2 Dimensi, termasuk cara mengakses numpy 2 dimensi, serta operasi apa saja yang dapat dilakukan."
   ]
  },
  {
   "cell_type": "markdown",
   "metadata": {},
   "source": [
    "<h2>Table of Contents</h2>\n",
    "<div class=\"alert alert-block alert-info\" style=\"margin-top: 25px\">\n",
    "    <ul>\n",
    "        <li>\n",
    "            Membuat array Numpy 2 dimensi\n",
    "        </li>\n",
    "        <li>\n",
    "            Mengakses elemen pada array\n",
    "            <ul>\n",
    "                <li>Slicing</li>\n",
    "            </ul>\n",
    "        </li>\n",
    "        <li>\n",
    "            Operasi pada array Numpy 2 dimensi\n",
    "            <ul>\n",
    "                <li>Penjumlahan array dengan konstanta</li>\n",
    "                <li>Penjumlahan 2 array</li>\n",
    "                <li>Perkalian array dengan konstanta</li>\n",
    "                <li>Perkalian 2 array</li>\n",
    "                <li>Dot product</li>\n",
    "            </ul>\n",
    "        </li>\n",
    "        <li>\n",
    "            Latihan: Numpy 2 Dimensi\n",
    "        </li>\n",
    "    </ul>\n",
    "</div>"
   ]
  },
  {
   "cell_type": "markdown",
   "metadata": {},
   "source": [
    "<hr>\n",
    "<div class=\"alert alert-success\" style=\"margin-top: 20px\">\n",
    "    <strong>Catatan:</strong> Untuk menjalankan kode program Python di Jupyter Notebook, klik pada <i>cell</i> yang ingin di-<i>run</i> lalu tekan <kbd>Shift</kbd> + <kbd>Enter</kbd>.\n",
    "</div>\n",
    "<hr>"
   ]
  },
  {
   "cell_type": "markdown",
   "metadata": {},
   "source": [
    "## Membuat array Numpy 2 dimensi"
   ]
  },
  {
   "cell_type": "markdown",
   "metadata": {},
   "source": [
    "Pada notebook sebelumnya telah dibahas mengenai Numpy 1 dimensi. Sekarang kita akan coba membuat array Numpy 2 dimensi. Anda pasti pernah belajar tentang matriks, nah disini kita akan coba membuat matriks menggunakan Numpy.\n",
    "\n",
    "Sebelum membuat array, jangan lupa kita impor Numpy terlebih dahulu."
   ]
  },
  {
   "cell_type": "code",
   "execution_count": null,
   "metadata": {},
   "outputs": [],
   "source": [
    "# import library numpy\n",
    "\n",
    "import numpy as np"
   ]
  },
  {
   "cell_type": "markdown",
   "metadata": {},
   "source": [
    "Array 2 dimensi dapat dibuat dari __nested list__ atau list yang berada di dalam list. Misalnya, kita memiliki list <code>list_x</code> seperti di bawah ini."
   ]
  },
  {
   "cell_type": "code",
   "execution_count": null,
   "metadata": {},
   "outputs": [],
   "source": [
    "# Membuat list_x\n",
    "\n",
    "list_x = [[10, 20, 30], [11, 21, 31], [12, 22, 32]]\n",
    "list_x"
   ]
  },
  {
   "cell_type": "markdown",
   "metadata": {},
   "source": [
    "Sekarang kita buat array numpy dari list tersebut."
   ]
  },
  {
   "cell_type": "code",
   "execution_count": null,
   "metadata": {},
   "outputs": [],
   "source": [
    "# Membuat array 2 dimensi\n",
    "\n",
    "X = np.array(list_x)\n",
    "X"
   ]
  },
  {
   "cell_type": "markdown",
   "metadata": {},
   "source": [
    "Kita dapat menggunakan atribut-atribut Numpy yang telah dibahas pada notebook sebelumnya, seperti <code>ndim</code>, <code>size</code>, <code>shape</code>, <code>dtype</code>, dan sebagainya."
   ]
  },
  {
   "cell_type": "markdown",
   "metadata": {},
   "source": [
    "Mengecek dimensi array dengan <code>ndim</code>."
   ]
  },
  {
   "cell_type": "code",
   "execution_count": null,
   "metadata": {},
   "outputs": [],
   "source": [
    "# Mengetahui dimensi array dari array X\n",
    "\n",
    "X.ndim"
   ]
  },
  {
   "cell_type": "markdown",
   "metadata": {},
   "source": [
    "Mendapatkan jumlah elemen dengan <code>size</code>."
   ]
  },
  {
   "cell_type": "code",
   "execution_count": null,
   "metadata": {},
   "outputs": [],
   "source": [
    "# Mengecek jumlah elemen\n",
    "\n",
    "X.size"
   ]
  },
  {
   "cell_type": "markdown",
   "metadata": {},
   "source": [
    "Mendapatkan ukuran array di tiap dimensi dengan <code>shape</code>."
   ]
  },
  {
   "cell_type": "code",
   "execution_count": null,
   "metadata": {},
   "outputs": [],
   "source": [
    "# Mengecek ukuran array di tiap dimensi\n",
    "\n",
    "X.shape"
   ]
  },
  {
   "cell_type": "markdown",
   "metadata": {},
   "source": [
    "Mengetahui tipa data di dalam array dengan <code>dtype</code>."
   ]
  },
  {
   "cell_type": "code",
   "execution_count": null,
   "metadata": {},
   "outputs": [],
   "source": [
    "# Mengecek tipe data array\n",
    "\n",
    "X.dtype"
   ]
  },
  {
   "cell_type": "markdown",
   "metadata": {},
   "source": [
    "<hr>"
   ]
  },
  {
   "cell_type": "markdown",
   "metadata": {},
   "source": [
    "## Mengakses elemen pada array"
   ]
  },
  {
   "cell_type": "markdown",
   "metadata": {},
   "source": [
    "Seperti list, kita dapat menggakses elemen pada array menggunakan indeksnya. Pada dasarnya di array 2 dimensi, kita dapat mengasumsikannya sebagai baris dan kolom."
   ]
  },
  {
   "cell_type": "markdown",
   "metadata": {},
   "source": [
    "<img src=\"../images/numpy2d-1.png\" width=\"800\" align=\"center\">"
   ]
  },
  {
   "cell_type": "markdown",
   "metadata": {},
   "source": [
    "Misalnya pada array <code>X</code>, kita ingin mengambil elemen yang berada pada baris ke tiga (indeks 2) dan kolom pertama (indeks 0), maka kita dapat menuliskan kodenya seperti di bawah ini."
   ]
  },
  {
   "cell_type": "code",
   "execution_count": null,
   "metadata": {},
   "outputs": [],
   "source": [
    "# Mengambil elemen pada baris 3 kolom 1\n",
    "\n",
    "X[2, 0]"
   ]
  },
  {
   "cell_type": "markdown",
   "metadata": {},
   "source": [
    "<img src=\"../images/numpy2d-2.png\" width=\"300\" align=\"center\">"
   ]
  },
  {
   "cell_type": "markdown",
   "metadata": {},
   "source": [
    "Kita juga dapat menggunakan cara lain untuk mengambil elemen pada array 2 dimensi, yaitu dengan memisahkan indeks baris dan kolom seperti di bawah ini."
   ]
  },
  {
   "cell_type": "code",
   "execution_count": null,
   "metadata": {},
   "outputs": [],
   "source": [
    "# Mengambil elemen pada baris 3 kolom 1\n",
    "\n",
    "X[2][0]"
   ]
  },
  {
   "cell_type": "markdown",
   "metadata": {},
   "source": [
    "Mari kita lihat contoh lainnya."
   ]
  },
  {
   "cell_type": "code",
   "execution_count": null,
   "metadata": {},
   "outputs": [],
   "source": [
    "# Mengambil elemen pada baris 1 kolom 1\n",
    "\n",
    "X[0][0]"
   ]
  },
  {
   "cell_type": "code",
   "execution_count": null,
   "metadata": {},
   "outputs": [],
   "source": [
    "# Mengambil elemen pada baris 3 kolom 3\n",
    "\n",
    "X[2][2]"
   ]
  },
  {
   "cell_type": "code",
   "execution_count": null,
   "metadata": {},
   "outputs": [],
   "source": [
    "# Mengambil elemen pada baris 2 kolom 1\n",
    "\n",
    "X[1][0]"
   ]
  },
  {
   "cell_type": "markdown",
   "metadata": {},
   "source": [
    "### Slicing"
   ]
  },
  {
   "cell_type": "markdown",
   "metadata": {},
   "source": [
    "Kita juga dapat melakukan <i>slicing</i> untuk mengambil elemen pada array Numpy 2 dimensi. Perhatikan contoh berikut.\n",
    "\n",
    "Misalnya kita ingin mengambil elemen __10__ dan __20__ pada array <code>X</code>, kita dapat menuliskan kodenya seperti di bawah ini."
   ]
  },
  {
   "cell_type": "code",
   "execution_count": null,
   "metadata": {},
   "outputs": [],
   "source": [
    "# Mengambil elemen pada baris 1 kolom 1&2\n",
    "\n",
    "X[0][0:2]"
   ]
  },
  {
   "cell_type": "markdown",
   "metadata": {},
   "source": [
    "<img src=\"../images/numpy2d-3.png\" width=\"300\" align=\"center\">"
   ]
  },
  {
   "cell_type": "markdown",
   "metadata": {},
   "source": [
    "Atau juga seperti ini,"
   ]
  },
  {
   "cell_type": "code",
   "execution_count": null,
   "metadata": {},
   "outputs": [],
   "source": [
    "# Mengambil elemen pada baris 1 kolom 1&2\n",
    "\n",
    "X[0][:2]"
   ]
  },
  {
   "cell_type": "markdown",
   "metadata": {},
   "source": [
    "Kita juga dapat menuliskannya seperti di bawah ini."
   ]
  },
  {
   "cell_type": "code",
   "execution_count": null,
   "metadata": {},
   "outputs": [],
   "source": [
    "# Mengambil elemen pada baris 1 kolom 1&2\n",
    "\n",
    "X[0, 0:2]"
   ]
  },
  {
   "cell_type": "markdown",
   "metadata": {},
   "source": [
    "Atau juga seperti ini,"
   ]
  },
  {
   "cell_type": "code",
   "execution_count": null,
   "metadata": {},
   "outputs": [],
   "source": [
    "# Mengambil elemen pada baris 1 kolom 1&2\n",
    "\n",
    "X[0, :2]"
   ]
  },
  {
   "cell_type": "markdown",
   "metadata": {},
   "source": [
    "Contoh lain, misalnya kita ingin mengambil dua elemen terakhir pada kolom 3, yaitu __31__ dan __32__, kita dapat menuliskan kodenya seperti ini."
   ]
  },
  {
   "cell_type": "code",
   "execution_count": null,
   "metadata": {},
   "outputs": [],
   "source": [
    "# Mengambil elemen pada baris 2&3 kolom 3\n",
    "\n",
    "X[1:, 2]"
   ]
  },
  {
   "cell_type": "markdown",
   "metadata": {},
   "source": [
    "<img src=\"../images/numpy2d-4.png\" width=\"300\" align=\"center\">"
   ]
  },
  {
   "cell_type": "markdown",
   "metadata": {},
   "source": [
    "<hr>"
   ]
  },
  {
   "cell_type": "markdown",
   "metadata": {},
   "source": [
    "## Operasi pada array Numpy 2 dimensi"
   ]
  },
  {
   "cell_type": "markdown",
   "metadata": {},
   "source": [
    "Sama seperti pada Numpy 1 dimensi yang telah dibahas pada notebook sebelumnya, kita juga dapat melakukan beberapa operasi pada array Numpy 2 dimensi."
   ]
  },
  {
   "cell_type": "markdown",
   "metadata": {},
   "source": [
    "### Penjumlahan array dengan konstanta"
   ]
  },
  {
   "cell_type": "markdown",
   "metadata": {},
   "source": [
    "Misalnya kita akan menjumlahkan array <code>X</code> dengan angka __10__."
   ]
  },
  {
   "cell_type": "code",
   "execution_count": null,
   "metadata": {},
   "outputs": [],
   "source": [
    "# Menampilkan array X\n",
    "\n",
    "X"
   ]
  },
  {
   "cell_type": "markdown",
   "metadata": {},
   "source": [
    "Lalu, jumlahkan dengan angka __10__."
   ]
  },
  {
   "cell_type": "code",
   "execution_count": null,
   "metadata": {},
   "outputs": [],
   "source": [
    "# Menjumlahkan array X dengan konstanta 10\n",
    "\n",
    "X + 10"
   ]
  },
  {
   "cell_type": "markdown",
   "metadata": {},
   "source": [
    "Seperti yang dapat kita lihat dari output yang dihasilkan, seluruh elemen pada array <code>X</code> dijumlahkan dengan angka 10."
   ]
  },
  {
   "cell_type": "markdown",
   "metadata": {},
   "source": [
    "### Penjumlahan 2 array"
   ]
  },
  {
   "cell_type": "markdown",
   "metadata": {},
   "source": [
    "Misalnya kita memiliki 2 array Numpy 2D, yaitu <code>A</code> dan <code>B</code> seperti di bawah ini."
   ]
  },
  {
   "cell_type": "code",
   "execution_count": null,
   "metadata": {},
   "outputs": [],
   "source": [
    "# Membuat array A\n",
    "\n",
    "A = np.array([[1, 2], [0, 1]])\n",
    "A"
   ]
  },
  {
   "cell_type": "code",
   "execution_count": null,
   "metadata": {},
   "outputs": [],
   "source": [
    "# Membuat array B\n",
    "\n",
    "B = np.array([[2, 3], [1, 1]])\n",
    "B"
   ]
  },
  {
   "cell_type": "markdown",
   "metadata": {},
   "source": [
    "Untuk menjumlahkan 2 array tersebut, kita dapat melakukannya seperti di bawah ini."
   ]
  },
  {
   "cell_type": "code",
   "execution_count": null,
   "metadata": {},
   "outputs": [],
   "source": [
    "# Menjumlahkan array A dan B\n",
    "\n",
    "A + B"
   ]
  },
  {
   "cell_type": "markdown",
   "metadata": {},
   "source": [
    "Hasil dari operasi di atas adalah penjumlahan dari elemen-elemen pada indeks yang sama di array A dan B."
   ]
  },
  {
   "cell_type": "markdown",
   "metadata": {},
   "source": [
    "### Perkalian array dengan konstanta"
   ]
  },
  {
   "cell_type": "markdown",
   "metadata": {},
   "source": [
    "Misalnya kita akan menggunakan array <code>X</code> dan akan mengalikannya dengan __2__."
   ]
  },
  {
   "cell_type": "code",
   "execution_count": null,
   "metadata": {},
   "outputs": [],
   "source": [
    "# Menampilkan array X\n",
    "\n",
    "X"
   ]
  },
  {
   "cell_type": "markdown",
   "metadata": {},
   "source": [
    "Lalu, kalikan dengan angka __2__."
   ]
  },
  {
   "cell_type": "code",
   "execution_count": null,
   "metadata": {},
   "outputs": [],
   "source": [
    "# Mengalikan array X dengan 2\n",
    "\n",
    "X * 2"
   ]
  },
  {
   "cell_type": "markdown",
   "metadata": {},
   "source": [
    "Seperti penjumlahan, operasi perkalian dengan konstanta juga akan menghasilkan output berupa array yang tiap elemennya telah dikalikan dengan konstanta tertentu, dalam hal ini yaitu 2."
   ]
  },
  {
   "cell_type": "markdown",
   "metadata": {},
   "source": [
    "### Perkalian 2 array"
   ]
  },
  {
   "cell_type": "markdown",
   "metadata": {},
   "source": [
    "Misalnya, kita akan menggunakan array <code>A</code> dan <code>B</code> yang telah dibuat di atas."
   ]
  },
  {
   "cell_type": "code",
   "execution_count": null,
   "metadata": {},
   "outputs": [],
   "source": [
    "# Menampilkan array A\n",
    "\n",
    "A"
   ]
  },
  {
   "cell_type": "code",
   "execution_count": null,
   "metadata": {},
   "outputs": [],
   "source": [
    "# Menampilkan array B\n",
    "\n",
    "B"
   ]
  },
  {
   "cell_type": "markdown",
   "metadata": {},
   "source": [
    "Untuk mengalikan array A dan B, kita dapat melakukannya seperti di bawah ini."
   ]
  },
  {
   "cell_type": "code",
   "execution_count": null,
   "metadata": {},
   "outputs": [],
   "source": [
    "# Mengalikan array A dan B\n",
    "\n",
    "A * B"
   ]
  },
  {
   "cell_type": "markdown",
   "metadata": {},
   "source": [
    "Hasil dari output di atas adalah sebuah array yang berisi hasil perkalian elemen pada array A dan B yang memiliki indeks yang sama. "
   ]
  },
  {
   "cell_type": "markdown",
   "metadata": {},
   "source": [
    "### Dot product"
   ]
  },
  {
   "cell_type": "markdown",
   "metadata": {},
   "source": [
    "<i>Dot product</i> atau perkalian titik pada array 2 dimensi ini dapat dikatakan seperti perkalian matriks. Kita masih akan menggunakan array <code>A</code> dan <code>B</code> untuk contoh <i>dot product</i>."
   ]
  },
  {
   "cell_type": "code",
   "execution_count": null,
   "metadata": {},
   "outputs": [],
   "source": [
    "# Menampilkan array A\n",
    "\n",
    "A"
   ]
  },
  {
   "cell_type": "code",
   "execution_count": null,
   "metadata": {},
   "outputs": [],
   "source": [
    "# Menampilkan array B\n",
    "\n",
    "B"
   ]
  },
  {
   "cell_type": "markdown",
   "metadata": {},
   "source": [
    "Untuk operasi <i>dot product</i> kita dapat melakukannya seperti di bawah ini."
   ]
  },
  {
   "cell_type": "code",
   "execution_count": null,
   "metadata": {},
   "outputs": [],
   "source": [
    "# Dot product dari array A dan B\n",
    "\n",
    "np.dot(A, B)"
   ]
  },
  {
   "cell_type": "markdown",
   "metadata": {},
   "source": [
    "Berikut ini merupakan contoh perhitungan <i>dot product</i>."
   ]
  },
  {
   "cell_type": "markdown",
   "metadata": {},
   "source": [
    "<img src=\"../images/numpy2d-5.png\" width=\"800\" align=\"center\">"
   ]
  },
  {
   "cell_type": "markdown",
   "metadata": {},
   "source": [
    "<hr>"
   ]
  },
  {
   "cell_type": "markdown",
   "metadata": {},
   "source": [
    "## Latihan: Numpy 2 Dimensi"
   ]
  },
  {
   "cell_type": "markdown",
   "metadata": {},
   "source": [
    "Pada bagian ini, silahkan Anda menguji pemahaman Anda tentang Numpy 2 Dimensi di Python yang telah disampaikan di atas. Jika Anda masih bingung, Anda dapat melihat contoh jawaban yang telah disediakan di bawah <i>cell</i> dari masing-masing soal."
   ]
  },
  {
   "cell_type": "markdown",
   "metadata": {},
   "source": [
    "### No. 1\n",
    "\n",
    "Buatlah array 2 dimensi <code>M</code> yang berisi nilai <code>[8, 3, 1], [2, 1, 1], [2, 6, 3]</code> !"
   ]
  },
  {
   "cell_type": "code",
   "execution_count": null,
   "metadata": {},
   "outputs": [],
   "source": [
    "# Ketik kode Anda disini\n",
    "\n"
   ]
  },
  {
   "cell_type": "markdown",
   "metadata": {},
   "source": [
    "Klik dua kali __disini__ untuk melihat jawaban.\n",
    "\n",
    "<!-- Jawaban:\n",
    "\n",
    "M = np.array([[8, 3, 1], [2, 1, 1], [2, 6, 3]])\n",
    "M\n",
    "\n",
    "-->"
   ]
  },
  {
   "cell_type": "markdown",
   "metadata": {},
   "source": [
    "### No. 2\n",
    "\n",
    "Periksa ukuran dimensi array <code>M</code> !"
   ]
  },
  {
   "cell_type": "code",
   "execution_count": null,
   "metadata": {},
   "outputs": [],
   "source": [
    "# Ketik kode Anda disini\n",
    "\n"
   ]
  },
  {
   "cell_type": "markdown",
   "metadata": {},
   "source": [
    "Klik dua kali __disini__ untuk melihat jawaban.\n",
    "\n",
    "<!-- Jawaban:\n",
    "\n",
    "M.shape\n",
    "\n",
    "-->"
   ]
  },
  {
   "cell_type": "markdown",
   "metadata": {},
   "source": [
    "### No. 3\n",
    "\n",
    "Tampilkan elemen array <code>M</code> baris 2 kolom 2 !"
   ]
  },
  {
   "cell_type": "code",
   "execution_count": null,
   "metadata": {},
   "outputs": [],
   "source": [
    "# Ketik kode Anda disini\n",
    "\n"
   ]
  },
  {
   "cell_type": "markdown",
   "metadata": {},
   "source": [
    "Klik dua kali __disini__ untuk melihat jawaban.\n",
    "\n",
    "<!-- Jawaban:\n",
    "\n",
    "M[1][1]\n",
    "\n",
    "-->"
   ]
  },
  {
   "cell_type": "markdown",
   "metadata": {},
   "source": [
    "### No. 4\n",
    "\n",
    "Tampilkan elemen array <code>M</code> baris 3 kolom 1&2 !"
   ]
  },
  {
   "cell_type": "code",
   "execution_count": null,
   "metadata": {},
   "outputs": [],
   "source": [
    "# Ketik kode Anda disini\n",
    "\n"
   ]
  },
  {
   "cell_type": "markdown",
   "metadata": {},
   "source": [
    "Klik dua kali __disini__ untuk melihat jawaban.\n",
    "\n",
    "<!-- Jawaban:\n",
    "\n",
    "M[2, 0:2]\n",
    "\n",
    "-->"
   ]
  },
  {
   "cell_type": "markdown",
   "metadata": {},
   "source": [
    "### No. 5\n",
    "\n",
    "Jumlahkan array <code>M</code> dengan __2__ !"
   ]
  },
  {
   "cell_type": "code",
   "execution_count": null,
   "metadata": {},
   "outputs": [],
   "source": [
    "# Ketik kode Anda disini\n",
    "\n"
   ]
  },
  {
   "cell_type": "markdown",
   "metadata": {},
   "source": [
    "Klik dua kali __disini__ untuk melihat jawaban.\n",
    "\n",
    "<!-- Jawaban:\n",
    "\n",
    "M + 2\n",
    "\n",
    "-->"
   ]
  },
  {
   "cell_type": "markdown",
   "metadata": {},
   "source": [
    "### No. 6\n",
    "\n",
    "Buatlah array baru yaitu <code>N</code> yang berisi nilai <code>[1, 3, 2], [0, 2, 1], [7, 0, 3]</code>. Kemudian, hitung <i>dot product</i> dari array <code>M</code> dan <code>N</code> !"
   ]
  },
  {
   "cell_type": "code",
   "execution_count": null,
   "metadata": {},
   "outputs": [],
   "source": [
    "# Ketik kode Anda disini\n",
    "\n"
   ]
  },
  {
   "cell_type": "markdown",
   "metadata": {},
   "source": [
    "Klik dua kali __disini__ untuk melihat jawaban.\n",
    "\n",
    "<!-- Jawaban:\n",
    "\n",
    "N = np.array([[1, 3, 2], [0, 2, 1], [7, 0, 3]])\n",
    "\n",
    "np.dot(M, N)\n",
    "\n",
    "-->"
   ]
  },
  {
   "cell_type": "markdown",
   "metadata": {},
   "source": [
    "<hr>"
   ]
  },
  {
   "cell_type": "markdown",
   "metadata": {},
   "source": [
    "Copyright @ <a href=\"https://ilmudatapy.com/\">ilmudatapy.com</a>"
   ]
  }
 ],
 "metadata": {
  "kernelspec": {
   "display_name": "Python 3",
   "language": "python",
   "name": "python3"
  },
  "language_info": {
   "codemirror_mode": {
    "name": "ipython",
    "version": 3
   },
   "file_extension": ".py",
   "mimetype": "text/x-python",
   "name": "python",
   "nbconvert_exporter": "python",
   "pygments_lexer": "ipython3",
   "version": "3.7.3"
  }
 },
 "nbformat": 4,
 "nbformat_minor": 2
}
