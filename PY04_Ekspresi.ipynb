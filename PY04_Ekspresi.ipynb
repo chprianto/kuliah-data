{
 "cells": [
  {
   "cell_type": "markdown",
   "metadata": {},
   "source": [
    "<img src=\"../images/ilmudatapy-logo.png\" width=\"350\" align=\"center\">\n",
    "<br>"
   ]
  },
  {
   "cell_type": "markdown",
   "metadata": {},
   "source": [
    "<center><h1>Ekspresi</h1></center>\n",
    "<hr>"
   ]
  },
  {
   "cell_type": "markdown",
   "metadata": {},
   "source": [
    "__Halo Learners!__ Di notebook ini kita akan membahas tentang ekspresi di Python termasuk di dalamnya akan dibahas operasi aritmatika di Python yang mencakup penjumlahan, pengurangan, perkalian, pembagian, modulo, dan lainnya.\n",
    "\n",
    "__Ekspresi__ adalah rangkaian <i>operand</i> dan operator seperti <code>a + b</code> atau <code>a + b – 4</code> atau <code>20 * 2</code>. Operator adalah simbol yang digunakan untuk operasi perhitungan, sedangkan <i>operand</i> adalah nilai yang dieksekusi oleh operator tersebut. Sebuah operand dapat berupa variabel yang berisikan objek maupun sebuah nilai langsung yang berupa angka."
   ]
  },
  {
   "cell_type": "markdown",
   "metadata": {},
   "source": [
    "<h2>Table of Contents</h2>\n",
    "<div class=\"alert alert-block alert-info\" style=\"margin-top: 25px\">\n",
    "    <ul>\n",
    "        <li>\n",
    "            Simple Expression\n",
    "            <ul><li>Operasi Penjumlahan</li></ul>\n",
    "            <ul><li>Operasi Pengurangan</li></ul>\n",
    "            <ul><li>Operasi Perkalian</li></ul>\n",
    "            <ul><li>Operasi Pembagian</li></ul>\n",
    "            <ul><li>Operasi Sisa Hasil Bagi (Modulo)</li></ul>\n",
    "            <ul><li>Operasi Pembagian dengan Pembulatan ke Bawah</li></ul>\n",
    "            <ul><li>Operasi Eksponensial</li></ul>\n",
    "        </li>\n",
    "        <li>\n",
    "            Complex Expression\n",
    "        </li>\n",
    "        <li>\n",
    "            Aturan Perhitungan di Python sama dengan Matematika biasa\n",
    "        </li>\n",
    "        <li>\n",
    "            Latihan: Expression\n",
    "        </li>\n",
    "    </ul>\n",
    "</div>"
   ]
  },
  {
   "cell_type": "markdown",
   "metadata": {},
   "source": [
    "<hr>\n",
    "<div class=\"alert alert-success\" style=\"margin-top: 20px\">\n",
    "    <strong>Catatan:</strong> Untuk menjalankan kode program Python di Jupyter Notebook, klik pada <i>cell</i> yang ingin di-<i>run</i> lalu tekan <kbd>Shift</kbd> + <kbd>Enter</kbd>.\n",
    "</div>\n",
    "<hr>"
   ]
  },
  {
   "cell_type": "markdown",
   "metadata": {},
   "source": [
    "## Simple Expression"
   ]
  },
  {
   "cell_type": "markdown",
   "metadata": {},
   "source": [
    "### Operasi Penjumlahan"
   ]
  },
  {
   "cell_type": "markdown",
   "metadata": {},
   "source": [
    "Operasi penjumlahan di Python dapat menggunakan operator <code>+</code>. Coba jalankan kode di bawah ini."
   ]
  },
  {
   "cell_type": "code",
   "execution_count": null,
   "metadata": {},
   "outputs": [],
   "source": [
    "# Contoh ekspresi penjumlahan\n",
    "\n",
    "10 + 65 "
   ]
  },
  {
   "cell_type": "code",
   "execution_count": null,
   "metadata": {},
   "outputs": [],
   "source": [
    "87 + 3 + 54 + 12"
   ]
  },
  {
   "cell_type": "code",
   "execution_count": null,
   "metadata": {},
   "outputs": [],
   "source": [
    "a = 15\n",
    "b = 30\n",
    "\n",
    "a + b     # Ekspresi penjumlahan dengan operand berupa variabel"
   ]
  },
  {
   "cell_type": "code",
   "execution_count": null,
   "metadata": {},
   "outputs": [],
   "source": [
    "# Ekspresi penjumlahan dengan operand berupa variabel dan angka\n",
    "\n",
    "a + b + 10 "
   ]
  },
  {
   "cell_type": "markdown",
   "metadata": {},
   "source": [
    "### Operasi Pengurangan"
   ]
  },
  {
   "cell_type": "markdown",
   "metadata": {},
   "source": [
    "Operasi pengurangan di Python dapat menggunakan operator <code>-</code>. Coba jalankan kode di bawah ini."
   ]
  },
  {
   "cell_type": "code",
   "execution_count": null,
   "metadata": {},
   "outputs": [],
   "source": [
    "# Contoh ekspresi pengurangan\n",
    "\n",
    "70 - 30"
   ]
  },
  {
   "cell_type": "code",
   "execution_count": null,
   "metadata": {},
   "outputs": [],
   "source": [
    "189 - 37 - 62"
   ]
  },
  {
   "cell_type": "code",
   "execution_count": null,
   "metadata": {},
   "outputs": [],
   "source": [
    "a = 15\n",
    "b = 30\n",
    "\n",
    "a - b       # Ekspresi pengurangan dengan operand berupa variabel"
   ]
  },
  {
   "cell_type": "code",
   "execution_count": null,
   "metadata": {},
   "outputs": [],
   "source": [
    "b - a - 4     # Ekspresi pengurangan dengan operand berupa variabel dan angka"
   ]
  },
  {
   "cell_type": "markdown",
   "metadata": {},
   "source": [
    "### Operasi Perkalian"
   ]
  },
  {
   "cell_type": "markdown",
   "metadata": {},
   "source": [
    "Operasi perkalian di Python dapat menggunakan operator <code>*</code>. Coba jalankan kode di bawah ini."
   ]
  },
  {
   "cell_type": "code",
   "execution_count": null,
   "metadata": {},
   "outputs": [],
   "source": [
    "# Contoh ekspresi perkalian\n",
    "\n",
    "8 * 8"
   ]
  },
  {
   "cell_type": "code",
   "execution_count": null,
   "metadata": {},
   "outputs": [],
   "source": [
    "2 * 5 * 3"
   ]
  },
  {
   "cell_type": "code",
   "execution_count": null,
   "metadata": {},
   "outputs": [],
   "source": [
    "a = 15\n",
    "b = 30\n",
    "\n",
    "a * b     # Ekspresi perkalian dengan operand berupa variabel"
   ]
  },
  {
   "cell_type": "code",
   "execution_count": null,
   "metadata": {},
   "outputs": [],
   "source": [
    "a * 5    # Ekspresi perkalian dengan operand berupa variabel dan angka"
   ]
  },
  {
   "cell_type": "markdown",
   "metadata": {},
   "source": [
    "### Operasi Pembagian"
   ]
  },
  {
   "cell_type": "markdown",
   "metadata": {},
   "source": [
    "Operasi pembagian di Python dapat menggunakan operator <code>/</code>. Coba jalankan kode di bawah ini."
   ]
  },
  {
   "cell_type": "code",
   "execution_count": null,
   "metadata": {},
   "outputs": [],
   "source": [
    "# Contoh ekspresi pembagian\n",
    "\n",
    "20 / 4"
   ]
  },
  {
   "cell_type": "code",
   "execution_count": null,
   "metadata": {},
   "outputs": [],
   "source": [
    "100 / 2 / 3"
   ]
  },
  {
   "cell_type": "code",
   "execution_count": null,
   "metadata": {},
   "outputs": [],
   "source": [
    "a = 15\n",
    "b = 30\n",
    "\n",
    "b / a     # Ekspresi pembagian dengan operand berupa variabel"
   ]
  },
  {
   "cell_type": "code",
   "execution_count": null,
   "metadata": {},
   "outputs": [],
   "source": [
    "b / 4     # Ekspresi pembagian dengan operand berupa variabel dan angka"
   ]
  },
  {
   "cell_type": "markdown",
   "metadata": {},
   "source": [
    "Hasil dari operasi pembagian menggunakan <code>/</code> selalu dalam bentuk bilangan float, meskipun tidak ada sisa bagi."
   ]
  },
  {
   "cell_type": "markdown",
   "metadata": {},
   "source": [
    "### Operasi Sisa Hasil Bagi (Modulo)"
   ]
  },
  {
   "cell_type": "markdown",
   "metadata": {},
   "source": [
    "Operasi sisa hasil pembagian atau <i>modulo</i> di Python dapat menggunakan operator <code>%</code>. Coba jalankan kode di bawah ini."
   ]
  },
  {
   "cell_type": "code",
   "execution_count": null,
   "metadata": {},
   "outputs": [],
   "source": [
    "# Contoh ekspresi modulo\n",
    "\n",
    "20 % 4"
   ]
  },
  {
   "cell_type": "code",
   "execution_count": null,
   "metadata": {},
   "outputs": [],
   "source": [
    "20 % 3"
   ]
  },
  {
   "cell_type": "code",
   "execution_count": null,
   "metadata": {},
   "outputs": [],
   "source": [
    "a = 15\n",
    "b = 30\n",
    "\n",
    "b % a     # Ekspresi modulo dengan operand berupa variabel "
   ]
  },
  {
   "cell_type": "code",
   "execution_count": null,
   "metadata": {},
   "outputs": [],
   "source": [
    "b % 9     # Ekspresi modulo dengan operand berupa variabel dan angka"
   ]
  },
  {
   "cell_type": "markdown",
   "metadata": {},
   "source": [
    "### Operasi Pembagian dengan Pembulatan ke Bawah"
   ]
  },
  {
   "cell_type": "markdown",
   "metadata": {},
   "source": [
    "Operasi pembagian dengan pembulatan ke bawah di Python dapat menggunakan operator <code>//</code>. Coba jalankan kode di bawah ini."
   ]
  },
  {
   "cell_type": "code",
   "execution_count": null,
   "metadata": {},
   "outputs": [],
   "source": [
    "# Contoh ekspresi pembagian dengan pembulatan ke bawah\n",
    "\n",
    "10 // 3"
   ]
  },
  {
   "cell_type": "code",
   "execution_count": null,
   "metadata": {},
   "outputs": [],
   "source": [
    "78 // 5"
   ]
  },
  {
   "cell_type": "code",
   "execution_count": null,
   "metadata": {},
   "outputs": [],
   "source": [
    "a = 15 \n",
    "b = 30\n",
    "\n",
    "a // b  "
   ]
  },
  {
   "cell_type": "markdown",
   "metadata": {},
   "source": [
    "Jika hasil pembulatan pembagian adalah negatif maka angkanya dibulatkan ke atas, karena dalam bilangan negatif semakin besar angkanya maka semakin kecil. Jadi pada dasarnya operator <code>//</code> tetap membulatkan hasil bagi ke bilangan integer yang lebih kecil (pembulatan ke bawah). Coba jalankan <i>cell</i> di bawah ini."
   ]
  },
  {
   "cell_type": "code",
   "execution_count": null,
   "metadata": {},
   "outputs": [],
   "source": [
    "8 // 3"
   ]
  },
  {
   "cell_type": "code",
   "execution_count": null,
   "metadata": {},
   "outputs": [],
   "source": [
    "8 // -3"
   ]
  },
  {
   "cell_type": "code",
   "execution_count": null,
   "metadata": {},
   "outputs": [],
   "source": [
    "-8 // 3"
   ]
  },
  {
   "cell_type": "code",
   "execution_count": null,
   "metadata": {},
   "outputs": [],
   "source": [
    "-8 // -3"
   ]
  },
  {
   "cell_type": "markdown",
   "metadata": {},
   "source": [
    "### Operasi Eksponensial"
   ]
  },
  {
   "cell_type": "markdown",
   "metadata": {},
   "source": [
    "Operasi eksponensial atau pangkat di Python dapat menggunakan operator <code>**</code>. Coba jalankan kode di bawah ini."
   ]
  },
  {
   "cell_type": "code",
   "execution_count": null,
   "metadata": {},
   "outputs": [],
   "source": [
    "3 ** 2     # Tiga pangkat dua"
   ]
  },
  {
   "cell_type": "code",
   "execution_count": null,
   "metadata": {},
   "outputs": [],
   "source": [
    "a = 15\n",
    "b = 4\n",
    "\n",
    "a ** b    # a pangkat b"
   ]
  },
  {
   "cell_type": "code",
   "execution_count": null,
   "metadata": {},
   "outputs": [],
   "source": [
    "a ** 2"
   ]
  },
  {
   "cell_type": "code",
   "execution_count": null,
   "metadata": {},
   "outputs": [],
   "source": [
    "8 ** b"
   ]
  },
  {
   "cell_type": "markdown",
   "metadata": {},
   "source": [
    "<hr>"
   ]
  },
  {
   "cell_type": "markdown",
   "metadata": {},
   "source": [
    "## Complex Expression"
   ]
  },
  {
   "cell_type": "markdown",
   "metadata": {},
   "source": [
    "Kita juga dapat membuat ekspresi yang kompleks, misalnya perhitungan nilai rata-rata atau perhitungan gabungan berbagai operator lainnya. Coba jalankan <i>cell</i> di bawah ini."
   ]
  },
  {
   "cell_type": "code",
   "execution_count": null,
   "metadata": {},
   "outputs": [],
   "source": [
    "(69 + 20) * 6 / 2"
   ]
  },
  {
   "cell_type": "code",
   "execution_count": null,
   "metadata": {},
   "outputs": [],
   "source": [
    "x = 10\n",
    "\n",
    "(x - 15) * (8 / x)"
   ]
  },
  {
   "cell_type": "code",
   "execution_count": null,
   "metadata": {},
   "outputs": [],
   "source": [
    "nilai_akhir = (80 + 75 + 92 + 68) / 4\n",
    "nilai_akhir"
   ]
  },
  {
   "cell_type": "code",
   "execution_count": null,
   "metadata": {},
   "outputs": [],
   "source": [
    "(30 ** 2) / 17 + 100"
   ]
  },
  {
   "cell_type": "markdown",
   "metadata": {},
   "source": [
    "<hr>"
   ]
  },
  {
   "cell_type": "markdown",
   "metadata": {},
   "source": [
    "## Aturan perhitungan di Python sama dengan matematika biasa"
   ]
  },
  {
   "cell_type": "markdown",
   "metadata": {},
   "source": [
    "Tidak berbeda dengan perhitungan matematika biasa, perhitungan di Python juga mengikuti aturan yang sama. Misalnya mendahulukan memproses yang ada di dalam tanda kurung <code>()</code> dan mendahulukan proses perkalian dan pembagian dibandingkan penjumlahan dan pengurangan. "
   ]
  },
  {
   "cell_type": "code",
   "execution_count": null,
   "metadata": {},
   "outputs": [],
   "source": [
    "30 / (8 - 2)"
   ]
  },
  {
   "cell_type": "code",
   "execution_count": null,
   "metadata": {},
   "outputs": [],
   "source": [
    "30 / 8 - 2"
   ]
  },
  {
   "cell_type": "code",
   "execution_count": null,
   "metadata": {},
   "outputs": [],
   "source": [
    "x = 100\n",
    "y = 20\n",
    "z = 5\n",
    "\n",
    "(x + y) * z"
   ]
  },
  {
   "cell_type": "code",
   "execution_count": null,
   "metadata": {},
   "outputs": [],
   "source": [
    "x + y * z"
   ]
  },
  {
   "cell_type": "markdown",
   "metadata": {},
   "source": [
    "Dapat dilihat dari output yang dihasilkan dari beberapa <i>cell</i> di atas, hasil dari __30 / (8 - 2)__ yang mengeluarkan output yang berbeda dengan __30 / 8 - 2__.\n",
    "\n",
    "Sementara itu pada contoh berikutnya, output dari __(x + y) * z__ juga memiliki nilai yang berbeda dengan __x + y * z__."
   ]
  },
  {
   "cell_type": "markdown",
   "metadata": {},
   "source": [
    "<hr>"
   ]
  },
  {
   "cell_type": "markdown",
   "metadata": {},
   "source": [
    "## Latihan: Expression"
   ]
  },
  {
   "cell_type": "markdown",
   "metadata": {},
   "source": [
    "Pada bagian ini, silahkan Anda menguji pemahaman Anda tentang ekspresi dan operasi aritmatika yang telah disampaikan di atas. Jika Anda masih bingung, Anda dapat melihat contoh jawaban yang telah disediakan di bawah <i>cell</i> dari masing-masing soal."
   ]
  },
  {
   "cell_type": "markdown",
   "metadata": {},
   "source": [
    "### No. 1 \n",
    "\n",
    "Berapa nilai <code>x</code> dimana <code>x = 8 - 4 * 6</code>?"
   ]
  },
  {
   "cell_type": "code",
   "execution_count": null,
   "metadata": {},
   "outputs": [],
   "source": [
    "# Ketik kode Anda disini\n",
    "\n"
   ]
  },
  {
   "cell_type": "markdown",
   "metadata": {},
   "source": [
    "Klik dua kali __disini__ untuk melihat jawaban\n",
    "\n",
    "<!-- Jawaban:\n",
    "\n",
    "-16\n",
    "\n",
    "-->"
   ]
  },
  {
   "cell_type": "markdown",
   "metadata": {},
   "source": [
    "### No. 2\n",
    "\n",
    "Hitunglah rata-rata dari bilangan-bilangan berikut: <code>20, 45, 13, 50, 33</code>!"
   ]
  },
  {
   "cell_type": "code",
   "execution_count": null,
   "metadata": {},
   "outputs": [],
   "source": [
    "# Ketik kode Anda disini\n",
    "\n"
   ]
  },
  {
   "cell_type": "markdown",
   "metadata": {},
   "source": [
    "Klik dua kali __disini__ untuk melihat jawaban\n",
    "\n",
    "<!-- Jawaban:\n",
    "\n",
    "rata2 = (20 + 45 + 13 + 50 + 33) / 5\n",
    "rata2\n",
    "\n",
    "-->"
   ]
  },
  {
   "cell_type": "markdown",
   "metadata": {},
   "source": [
    "### No. 3\n",
    "\n",
    "Hitunglah total harga dari 2 buah pulpen seharga <code>3500</code>, 5 buah buku seharga <code>7800</code>!"
   ]
  },
  {
   "cell_type": "code",
   "execution_count": null,
   "metadata": {},
   "outputs": [],
   "source": [
    "# Ketik kode Anda disini\n",
    "\n"
   ]
  },
  {
   "cell_type": "markdown",
   "metadata": {},
   "source": [
    "Klik dua kali __disini__ untuk melihat jawaban\n",
    "\n",
    "<!-- Jawaban:\n",
    "\n",
    "total_harga = (2 * 3500) + (5 * 7800)\n",
    "total_harga\n",
    "\n",
    "-->"
   ]
  },
  {
   "cell_type": "markdown",
   "metadata": {},
   "source": [
    "### No. 4\n",
    "\n",
    "Harga sebuah barang adalah <code>650000</code>, hitunglah harga barang setelah mendapat potongan harga 35%! "
   ]
  },
  {
   "cell_type": "code",
   "execution_count": null,
   "metadata": {},
   "outputs": [],
   "source": [
    "# Ketik kode Anda disini\n",
    "\n"
   ]
  },
  {
   "cell_type": "markdown",
   "metadata": {},
   "source": [
    "Klik dua kali __disini__ untuk melihat jawaban\n",
    "\n",
    "<!-- Jawaban:\n",
    "\n",
    "harga = 650000\n",
    "diskon = 35 / 100\n",
    "\n",
    "harga_setelah_diskon = harga - (harga * diskon)\n",
    "harga_setelah_diskon\n",
    "\n",
    "-->"
   ]
  },
  {
   "cell_type": "markdown",
   "metadata": {},
   "source": [
    "<hr>"
   ]
  },
  {
   "cell_type": "markdown",
   "metadata": {},
   "source": [
    "Copyright @ <a href=\"https://ilmudatapy.com/\">ilmudatapy.com</a>"
   ]
  }
 ],
 "metadata": {
  "kernelspec": {
   "display_name": "Python 3",
   "language": "python",
   "name": "python3"
  },
  "language_info": {
   "codemirror_mode": {
    "name": "ipython",
    "version": 3
   },
   "file_extension": ".py",
   "mimetype": "text/x-python",
   "name": "python",
   "nbconvert_exporter": "python",
   "pygments_lexer": "ipython3",
   "version": "3.7.3"
  }
 },
 "nbformat": 4,
 "nbformat_minor": 2
}
