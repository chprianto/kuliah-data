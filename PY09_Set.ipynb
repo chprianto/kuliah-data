{
 "cells": [
  {
   "cell_type": "markdown",
   "metadata": {},
   "source": [
    "<img src=\"../images/ilmudatapy-logo.png\" width=\"350\" align=\"center\">\n",
    "<br>"
   ]
  },
  {
   "cell_type": "markdown",
   "metadata": {},
   "source": [
    "<center><h1>Set</h1></center>\n",
    "<hr>"
   ]
  },
  {
   "cell_type": "markdown",
   "metadata": {},
   "source": [
    "__Halo, Learners!__ Di notebook ini kita akan belajar tentang set pada bahasa pemrograman Python termasuk apa itu set, operasi dasar pada set, serta operasi logika pada set."
   ]
  },
  {
   "cell_type": "markdown",
   "metadata": {},
   "source": [
    "<h2>Table of Contents</h2>\n",
    "<div class=\"alert alert-block alert-info\" style=\"margin-top: 25px\">\n",
    "    <ul>\n",
    "        <li>\n",
    "            Apa itu Set?\n",
    "            <ul>\n",
    "               <li>Contoh Set</li>\n",
    "               <li>Konversi list menjadi set</li>\n",
    "            </ul>\n",
    "        </li>\n",
    "        <li>\n",
    "            Operasi pada Set\n",
    "            <ul>\n",
    "               <li>Menambah elemen baru pada set</li>\n",
    "               <li>Menghapus elemen pada set</li>\n",
    "               <li>Duplikasi set</li>\n",
    "               <li>Menjumlahkan seluruh elemen pada set</li>\n",
    "               <li>Mengambil nilai maksimum dan minimum pada set</li>\n",
    "               <li>Menghitung panjang set (jumlah elemen)</li>\n",
    "            </ul>\n",
    "        </li>\n",
    "        <li>\n",
    "            Operasi himpunan pada Set\n",
    "            <ul>\n",
    "               <li>Union</li>\n",
    "               <li>Intersection</li>\n",
    "               <li>Difference</li>\n",
    "               <li>Symmetric Difference</li>\n",
    "            </ul>\n",
    "        </li>\n",
    "        <li>\n",
    "            Operasi cek keanggotaan pada Set\n",
    "            <ul>\n",
    "               <li>Apakah ada elemen tertentu pada set?</li>\n",
    "               <li>Apakah dua set disjoint?</li>\n",
    "               <li>Apakah sebuah set merupakan subset dari set lain?</li>\n",
    "               <li>Apakah sebuah set mengandung set lain?</li>\n",
    "            </ul>\n",
    "        </li>\n",
    "        <li>\n",
    "            Frozenset\n",
    "        </li>\n",
    "        <li>\n",
    "            Latihan: Set\n",
    "        </li>\n",
    "    </ul>\n",
    "</div>"
   ]
  },
  {
   "cell_type": "markdown",
   "metadata": {},
   "source": [
    "<hr>\n",
    "<div class=\"alert alert-success\" style=\"margin-top: 20px\">\n",
    "    <strong>Catatan:</strong> Untuk menjalankan kode program Python di Jupyter Notebook, klik pada <i>cell</i> yang ingin di-<i>run</i> lalu tekan <kbd>Shift</kbd> + <kbd>Enter</kbd>.\n",
    "</div>\n",
    "<hr>"
   ]
  },
  {
   "cell_type": "markdown",
   "metadata": {},
   "source": [
    "## Apa itu Set?"
   ]
  },
  {
   "cell_type": "markdown",
   "metadata": {},
   "source": [
    "Set adalah sebuah tipe data untuk menampung sekumpulan objek unik di Python yang didefinisikan dengan tanda kurung kurawal <code>{}</code>. Jika ada elemen yang sama, maka Python akan otomatis menghapusnya. "
   ]
  },
  {
   "cell_type": "markdown",
   "metadata": {},
   "source": [
    "### Contoh Set"
   ]
  },
  {
   "cell_type": "code",
   "execution_count": null,
   "metadata": {},
   "outputs": [],
   "source": [
    "# Contoh set\n",
    "\n",
    "setA = {1, 2, 3, 3, 3, 4, 5, 5}\n",
    "setA"
   ]
  },
  {
   "cell_type": "markdown",
   "metadata": {},
   "source": [
    "Dari output di atas, terlihat bahwa Python menghapus duplikasi angka 3 dan 5, sehingga output yang dikeluarkan berupa nilai unik <code>1, 2, 3, 4, 5</code>.\n",
    "\n",
    "Set bisa berisi elemen dengan berbagai tipe data, namun hanya tipe data yang bersifat <i>immutable</i> atau tidak dapat diubah. Jadi, list yang bersifat <i>mutable</i> tidak dapat menjadi elemen pada set.\n",
    "\n",
    "Set juga bersifat tidak terurut, maksudnya adalah output yang ditampilkan mungkin tidak akan sama urutannya dengan yang didefinisikan."
   ]
  },
  {
   "cell_type": "code",
   "execution_count": null,
   "metadata": {},
   "outputs": [],
   "source": [
    "# Contoh set dengan berbagai tipe data\n",
    "\n",
    "setB = {'halo', 100, (1, 2), True, 9.5}\n",
    "setB"
   ]
  },
  {
   "cell_type": "markdown",
   "metadata": {},
   "source": [
    "Sekarang kita coba memasukkan list ke dalam set. Ini akan menyebabkan <i>error</i>."
   ]
  },
  {
   "cell_type": "code",
   "execution_count": null,
   "metadata": {},
   "outputs": [],
   "source": [
    "# Contoh set yang mengandung list\n",
    "\n",
    "setC = {'halo', 100, [1, 2]}\n",
    "setC"
   ]
  },
  {
   "cell_type": "markdown",
   "metadata": {},
   "source": [
    "Kita juga tidak dapat melakukan <i>indexing</i> pada set. Jika itu dilakukan, maka akan muncul pesan <i>error</i>."
   ]
  },
  {
   "cell_type": "code",
   "execution_count": null,
   "metadata": {},
   "outputs": [],
   "source": [
    "# Set tidak mendukung indexing\n",
    "\n",
    "setB[0]"
   ]
  },
  {
   "cell_type": "markdown",
   "metadata": {},
   "source": [
    "### Konversi list menjadi set"
   ]
  },
  {
   "cell_type": "markdown",
   "metadata": {},
   "source": [
    "Kita dapat mengubah list menjadi set menggunakan <code>set()</code>. Ini akan otomatis membuat duplikat elemen pada list terhapus."
   ]
  },
  {
   "cell_type": "code",
   "execution_count": null,
   "metadata": {},
   "outputs": [],
   "source": [
    "# Konversi list ke set\n",
    "\n",
    "movie_list = ['Titanic', '2012', 'Home Alone', 'Avatar', 'Titanic', 'Jurassic Park', \\\n",
    "              'The Terminator', 'Avatar', 'Men in Black']\n",
    "movie_set = set(movie_list)\n",
    "movie_set"
   ]
  },
  {
   "cell_type": "markdown",
   "metadata": {},
   "source": [
    "<hr>"
   ]
  },
  {
   "cell_type": "markdown",
   "metadata": {},
   "source": [
    "## Operasi pada Set"
   ]
  },
  {
   "cell_type": "markdown",
   "metadata": {},
   "source": [
    "### Menambah elemen baru pada set"
   ]
  },
  {
   "cell_type": "markdown",
   "metadata": {},
   "source": [
    "Untuk menambah elemen baru pada set, kita dapat menggunakan <i>method</i> <code>add()</code>."
   ]
  },
  {
   "cell_type": "code",
   "execution_count": null,
   "metadata": {},
   "outputs": [],
   "source": [
    "# Contoh penggunaan add()\n",
    "\n",
    "setA = {1, 2, 3, 4, 5}\n",
    "setA.add(10)\n",
    "print(setA)"
   ]
  },
  {
   "cell_type": "markdown",
   "metadata": {},
   "source": [
    "Kita juga dapat menambah beberapa elemen baru sekaligus pada set dengan menggunakan <i>method</i> <code>update()</code>."
   ]
  },
  {
   "cell_type": "code",
   "execution_count": null,
   "metadata": {},
   "outputs": [],
   "source": [
    "# Contoh penggunaan update()\n",
    "\n",
    "setA = {1, 2, 3, 4, 5}\n",
    "setA.update(['jeruk', 'apel', 'melon'])\n",
    "print(setA)"
   ]
  },
  {
   "cell_type": "markdown",
   "metadata": {},
   "source": [
    "### Menghapus elemen pada set"
   ]
  },
  {
   "cell_type": "markdown",
   "metadata": {},
   "source": [
    "Untuk menghapus elemen tertentu pada set, kita dapat menggunakan <i>method</i> <code>remove()</code> atau <code>discard()</code>."
   ]
  },
  {
   "cell_type": "code",
   "execution_count": null,
   "metadata": {},
   "outputs": [],
   "source": [
    "# Contoh penggunaan remove()\n",
    "\n",
    "setBuah = {'jeruk', 'apel', 'melon', 'nanas', 'semangka', 'jambu'}\n",
    "print('Sebelum menghapus nanas:', setBuah)\n",
    "setBuah.remove('nanas')\n",
    "print('Setelah menghapus nanas:', setBuah)"
   ]
  },
  {
   "cell_type": "code",
   "execution_count": null,
   "metadata": {},
   "outputs": [],
   "source": [
    "# Contoh penggunaan discard()\n",
    "\n",
    "setBuah = {'jeruk', 'apel', 'melon', 'nanas', 'semangka', 'jambu'}\n",
    "print('Sebelum menghapus jeruk:', setBuah)\n",
    "setBuah.discard('jeruk')\n",
    "print('Setelah menghapus jeruk:', setBuah)"
   ]
  },
  {
   "cell_type": "markdown",
   "metadata": {},
   "source": [
    "Jika elemen yang dimaksud tidak ada di dalam set, <code>remove()</code> akan menghasilkan <i>error</i>, sedangkan <code>discard()</code> __tidak__ menghasilkan <i>error</i>."
   ]
  },
  {
   "cell_type": "code",
   "execution_count": null,
   "metadata": {},
   "outputs": [],
   "source": [
    "# Contoh penggunaan remove() jika elemen yang ingin dihapus tidak ada di dalam set\n",
    "\n",
    "setBuah = {'jeruk', 'apel', 'melon', 'nanas', 'semangka', 'jambu'}\n",
    "setBuah.remove('durian')\n",
    "print(setBuah)"
   ]
  },
  {
   "cell_type": "code",
   "execution_count": null,
   "metadata": {},
   "outputs": [],
   "source": [
    "# Contoh penggunaan discard() jika elemen yang ingin dihapus tidak ada di dalam set\n",
    "\n",
    "setBuah = {'jeruk', 'apel', 'melon', 'nanas', 'semangka', 'jambu'}\n",
    "setBuah.discard('durian')\n",
    "print(setBuah)"
   ]
  },
  {
   "cell_type": "markdown",
   "metadata": {},
   "source": [
    "Kita juga dapat menggunakan <i>method</i> <code>pop()</code> untuk menghapus elemen terakhir pada set. Namun, perlu diingat bahwa set bersifat __tidak terurut__ sehingga kita tidak tahu pasti elemen apa yang akan terhapus. "
   ]
  },
  {
   "cell_type": "code",
   "execution_count": null,
   "metadata": {},
   "outputs": [],
   "source": [
    "# Contoh penggunaan pop()\n",
    "\n",
    "setBuah = {'jeruk', 'apel', 'melon', 'nanas', 'semangka', 'jambu'}\n",
    "print('Sebelum menghapus elemen terakhir:', setBuah)\n",
    "setBuah.pop()\n",
    "print('Setelah menghapus elemen terakhir:', setBuah)"
   ]
  },
  {
   "cell_type": "markdown",
   "metadata": {},
   "source": [
    "Jika kita __print__ <code>setBuah.pop()</code>, maka akan menampilkan elemen yang terhapus."
   ]
  },
  {
   "cell_type": "code",
   "execution_count": null,
   "metadata": {},
   "outputs": [],
   "source": [
    "# print setBuah.pop()\n",
    "\n",
    "setBuah = {'jeruk', 'apel', 'melon', 'nanas', 'semangka', 'jambu'}\n",
    "print('Sebelum menghapus elemen terakhir:', setBuah)\n",
    "print('Elemen yang terhapus: ', setBuah.pop())"
   ]
  },
  {
   "cell_type": "markdown",
   "metadata": {},
   "source": [
    "Jika kita ingin menghapus set secara keseluruhan, kita dapat menggunakan <code>del</code>."
   ]
  },
  {
   "cell_type": "code",
   "execution_count": null,
   "metadata": {},
   "outputs": [],
   "source": [
    "# Menggunakan del untuk menghapus set keseluruhan\n",
    "\n",
    "setBuah = {'jeruk', 'apel', 'melon', 'nanas', 'semangka', 'jambu'}\n",
    "del setBuah\n",
    "print(setBuah)"
   ]
  },
  {
   "cell_type": "markdown",
   "metadata": {},
   "source": [
    "Output di atas menghasilkan <i>error</i> karena <code>setBuah</code> sudah dihapus sebelum fungsi <code>print()</code> dieksekusi.\n",
    "\n",
    "Jika kita hanya ingin mengosongkan set, maka kita dapat menggunakan <i>method</i> <code>clear()</code>."
   ]
  },
  {
   "cell_type": "code",
   "execution_count": null,
   "metadata": {},
   "outputs": [],
   "source": [
    "# Mengosongkan set dengan clear()\n",
    "\n",
    "setBuah = {'jeruk', 'apel', 'melon', 'nanas', 'semangka', 'jambu'}\n",
    "setBuah.clear()\n",
    "print(setBuah)"
   ]
  },
  {
   "cell_type": "markdown",
   "metadata": {},
   "source": [
    "### Duplikasi set"
   ]
  },
  {
   "cell_type": "markdown",
   "metadata": {},
   "source": [
    "Untuk menduplikasi set, kita dapat menggunakan <i>method</i> <code>copy()</code>."
   ]
  },
  {
   "cell_type": "code",
   "execution_count": null,
   "metadata": {},
   "outputs": [],
   "source": [
    "# Contoh penggunaan copy()\n",
    "\n",
    "setBuah = {'jeruk', 'apel', 'melon', 'nanas', 'semangka', 'jambu'}\n",
    "copyBuah = setBuah.copy()\n",
    "print('Ini adalah setBuah: ', setBuah)\n",
    "print('Ini adalah copyBuah: ', copyBuah)"
   ]
  },
  {
   "cell_type": "markdown",
   "metadata": {},
   "source": [
    "### Menjumlahkan seluruh elemen pada set"
   ]
  },
  {
   "cell_type": "markdown",
   "metadata": {},
   "source": [
    "Untuk menjumlahkan seluruh elemen pada set, kita dapat menggunakan <i>function</i> <code>sum()</code>."
   ]
  },
  {
   "cell_type": "code",
   "execution_count": null,
   "metadata": {},
   "outputs": [],
   "source": [
    "# Contoh penggunaan sum()\n",
    "\n",
    "setBil ={100, 67, 89, 50, 23, 40}\n",
    "print('Jumlah bilangan di dalam set = ', sum(setBil))"
   ]
  },
  {
   "cell_type": "markdown",
   "metadata": {},
   "source": [
    "### Mengambil nilai maksimum dan minimum pada set"
   ]
  },
  {
   "cell_type": "markdown",
   "metadata": {},
   "source": [
    "Kita juga dapat mengambil nilai maksimum dan minimum dari suatu set. Nilai maksimum dapat diambil menggunakan fungsi <code>max()</code>, sedangkan nilai minimum menggunakan fungsi <code>min()</code>."
   ]
  },
  {
   "cell_type": "code",
   "execution_count": null,
   "metadata": {},
   "outputs": [],
   "source": [
    "# Contoh penggunaan max() dan min()\n",
    "\n",
    "setBil ={100, 67, 89, 50, 23, 40}\n",
    "print('Nilai maksimum: ', max(setBil))\n",
    "print('Nilai minimum: ', min(setBil))"
   ]
  },
  {
   "cell_type": "markdown",
   "metadata": {},
   "source": [
    "### Menghitung panjang set (jumlah elemen)"
   ]
  },
  {
   "cell_type": "markdown",
   "metadata": {},
   "source": [
    "Menghitung panjang set atau jumlah elemen pada set dapat menggunakan fungsi <code>len()</code>."
   ]
  },
  {
   "cell_type": "code",
   "execution_count": null,
   "metadata": {},
   "outputs": [],
   "source": [
    "# Contoh penggunaan len()\n",
    "\n",
    "setBil ={100, 67, 89, 50, 23, 40}\n",
    "print(len(setBil))"
   ]
  },
  {
   "cell_type": "markdown",
   "metadata": {},
   "source": [
    "<hr>"
   ]
  },
  {
   "cell_type": "markdown",
   "metadata": {},
   "source": [
    "## Operasi himpunan pada Set"
   ]
  },
  {
   "cell_type": "markdown",
   "metadata": {},
   "source": [
    "### Union"
   ]
  },
  {
   "cell_type": "markdown",
   "metadata": {},
   "source": [
    "<i>Union</i> atau operasi gabungan adalah menggabungkan semua nilai dari set <code>A</code> dan set <code>B</code> dengan mengeliminasi nilai yang sama. Di Python, kita dapat menggunakan <i>method</i> <code>union()</code> atau operator <code>|</code>."
   ]
  },
  {
   "cell_type": "code",
   "execution_count": null,
   "metadata": {},
   "outputs": [],
   "source": [
    "# Contoh penggunaan union()\n",
    "\n",
    "A = {1, 2, 3, 4, 5, 6}\n",
    "B = {5, 6, 7, 8, 9}\n",
    "\n",
    "A.union(B)"
   ]
  },
  {
   "cell_type": "code",
   "execution_count": null,
   "metadata": {},
   "outputs": [],
   "source": [
    "# Contoh penggunaan | untuk menggabungkan set\n",
    "\n",
    "A = {1, 2, 3, 4, 5, 6}\n",
    "B = {5, 6, 7, 8, 9}\n",
    "\n",
    "print(A | B)"
   ]
  },
  {
   "cell_type": "markdown",
   "metadata": {},
   "source": [
    "<i>Method</i> <code>update()</code> juga dapat digunakan untuk operasi ini."
   ]
  },
  {
   "cell_type": "code",
   "execution_count": null,
   "metadata": {},
   "outputs": [],
   "source": [
    "# Menggunakan update() untuk menggabungkan set B ke A\n",
    "\n",
    "A = {1, 2, 3, 4, 5, 6}\n",
    "B = {5, 6, 7, 8, 9}\n",
    "\n",
    "A.update(B)\n",
    "print(A)"
   ]
  },
  {
   "cell_type": "markdown",
   "metadata": {},
   "source": [
    "### Intersection"
   ]
  },
  {
   "cell_type": "markdown",
   "metadata": {},
   "source": [
    "<i>Intersection</i> atau irisan adalah mengambil nilai yang sama dari kedua set. Di Python, kita dapat menggunakan <i>method</i> <code>intersection()</code> atau operator <code>&</code>."
   ]
  },
  {
   "cell_type": "code",
   "execution_count": null,
   "metadata": {},
   "outputs": [],
   "source": [
    "# Contoh penggunaan intersection()\n",
    "\n",
    "A = {1, 2, 3, 4, 5, 6}\n",
    "B = {5, 6, 7, 8, 9}\n",
    "\n",
    "print(A.intersection(B))"
   ]
  },
  {
   "cell_type": "code",
   "execution_count": null,
   "metadata": {},
   "outputs": [],
   "source": [
    "# Mengambil nilai yang sama dari dua set menggunakan &\n",
    "\n",
    "A = {1, 2, 3, 4, 5, 6}\n",
    "B = {5, 6, 7, 8, 9}\n",
    "\n",
    "A & B"
   ]
  },
  {
   "cell_type": "markdown",
   "metadata": {},
   "source": [
    "### Difference"
   ]
  },
  {
   "cell_type": "markdown",
   "metadata": {},
   "source": [
    "<i>Difference</i> atau selisih <code>A</code> dari <code>B</code> (<code>A - B</code>) adalah kumpulan elemen yang ada di <code>A</code> tapi tidak ada di <code>B</code>. Begitu pun sebaliknya, <code>B - A</code> adalah kumpulan elemen yang ada di <code>B</code> tapi tidak ada di <code>A</code>. Di Python, <i>difference</i> dapat diperoleh dengan menggunakan <i>method</i> <code>difference()</code> ataupun dengan operator <code>-</code>."
   ]
  },
  {
   "cell_type": "code",
   "execution_count": null,
   "metadata": {},
   "outputs": [],
   "source": [
    "# Contoh penggunaan difference()\n",
    "\n",
    "A = {1, 2, 3, 4, 5, 6}\n",
    "B = {5, 6, 7, 8, 9}\n",
    "\n",
    "A.difference(B)"
   ]
  },
  {
   "cell_type": "code",
   "execution_count": null,
   "metadata": {},
   "outputs": [],
   "source": [
    "# Menggunakan operator -\n",
    "\n",
    "A = {1, 2, 3, 4, 5, 6}\n",
    "B = {5, 6, 7, 8, 9}\n",
    "\n",
    "A - B"
   ]
  },
  {
   "cell_type": "code",
   "execution_count": null,
   "metadata": {},
   "outputs": [],
   "source": [
    "# Contoh penggunaan difference()\n",
    "\n",
    "A = {1, 2, 3, 4, 5, 6}\n",
    "B = {5, 6, 7, 8, 9}\n",
    "\n",
    "B.difference(A)"
   ]
  },
  {
   "cell_type": "code",
   "execution_count": null,
   "metadata": {},
   "outputs": [],
   "source": [
    "# Menggunakan operator -\n",
    "\n",
    "A = {1, 2, 3, 4, 5, 6}\n",
    "B = {5, 6, 7, 8, 9}\n",
    "\n",
    "B - A"
   ]
  },
  {
   "cell_type": "markdown",
   "metadata": {},
   "source": [
    "### Symmetric Difference"
   ]
  },
  {
   "cell_type": "markdown",
   "metadata": {},
   "source": [
    "<i>Symmetric difference</i> adalah kumpulan elemen yang ada di <code>A</code> dan <code>B</code> namun tidak mengikutsertakan elemen yang ada pada keduanya alias mengeliminasi <i>intersection</i>. <i>Symmetric difference</i> dapat diperoleh dengan menggunakan <i>method</i> <code>symmetric_difference()</code> atau dengan operator <code>^</code>."
   ]
  },
  {
   "cell_type": "code",
   "execution_count": null,
   "metadata": {},
   "outputs": [],
   "source": [
    "# Contoh penggunaan symmetric_difference()\n",
    "\n",
    "A = {1, 2, 3, 4, 5, 6}\n",
    "B = {5, 6, 7, 8, 9}\n",
    "\n",
    "A.symmetric_difference(B)"
   ]
  },
  {
   "cell_type": "code",
   "execution_count": null,
   "metadata": {},
   "outputs": [],
   "source": [
    "# Menggunakan operator ^\n",
    "\n",
    "A = {1, 2, 3, 4, 5, 6}\n",
    "B = {5, 6, 7, 8, 9}\n",
    "\n",
    "A ^ B"
   ]
  },
  {
   "cell_type": "markdown",
   "metadata": {},
   "source": [
    "<hr>"
   ]
  },
  {
   "cell_type": "markdown",
   "metadata": {},
   "source": [
    "## Operasi cek keanggotaan pada Set"
   ]
  },
  {
   "cell_type": "markdown",
   "metadata": {},
   "source": [
    "Kita juga dapat mengecek keanggotaan pada set. Operasi ini akan menghasilkan nilai boolean __True__ dan __False__."
   ]
  },
  {
   "cell_type": "markdown",
   "metadata": {},
   "source": [
    "### Apakah ada elemen tertentu pada set?"
   ]
  },
  {
   "cell_type": "markdown",
   "metadata": {},
   "source": [
    "Untuk mengecek keberadaan elemen tertentu pada set, kita dapat menggunakan operator <code>in</code> atau <code>not in</code>. Operator <code>in</code> digunakan untuk mengecek apakah suatu elemen ada di dalam set, sedangkan <code>not in</code> digunakan untuk mengecek apakah suatu elemen tidak ada di dalam set."
   ]
  },
  {
   "cell_type": "code",
   "execution_count": null,
   "metadata": {},
   "outputs": [],
   "source": [
    "# Contoh penggunaan in\n",
    "\n",
    "setBuah = {'jeruk', 'apel', 'melon', 'nanas', 'semangka', 'jambu'}\n",
    "\n",
    "'melon' in setBuah"
   ]
  },
  {
   "cell_type": "code",
   "execution_count": null,
   "metadata": {},
   "outputs": [],
   "source": [
    "# Contoh penggunaan not in\n",
    "\n",
    "setBuah = {'jeruk', 'apel', 'melon', 'nanas', 'semangka', 'jambu'}\n",
    "\n",
    "'melon' not in setBuah"
   ]
  },
  {
   "cell_type": "markdown",
   "metadata": {},
   "source": [
    "### Apakah dua set disjoint?"
   ]
  },
  {
   "cell_type": "markdown",
   "metadata": {},
   "source": [
    "Untuk mengetahui apakah dua set <i>disjoint</i> atau tidak memiliki irisan, kita dapat menggunakan <i>method</i> <code>isdisjoint()</code>."
   ]
  },
  {
   "cell_type": "code",
   "execution_count": null,
   "metadata": {},
   "outputs": [],
   "source": [
    "# Contoh penggunaan isdisjoint()\n",
    "\n",
    "A = {1, 2, 3, 4, 5, 6}\n",
    "B = {5, 6, 7, 8, 9}\n",
    "\n",
    "A.isdisjoint(B)"
   ]
  },
  {
   "cell_type": "code",
   "execution_count": null,
   "metadata": {},
   "outputs": [],
   "source": [
    "# Contoh penggunaan isdisjoint()\n",
    "\n",
    "C = {'a', 'b', 'c'}\n",
    "D = {'d', 'e', 'f'}\n",
    "\n",
    "C.isdisjoint(D)"
   ]
  },
  {
   "cell_type": "markdown",
   "metadata": {},
   "source": [
    "### Apakah sebuah set merupakan subset dari set lain?"
   ]
  },
  {
   "cell_type": "markdown",
   "metadata": {},
   "source": [
    "Kita juga dapat mencari tahu apakah sebuah set merupakan subset dari set lain dengan menggunakan <i>method</i> <code>issubset()</code> atau operator <code><=</code>."
   ]
  },
  {
   "cell_type": "code",
   "execution_count": null,
   "metadata": {},
   "outputs": [],
   "source": [
    "# Contoh penggunaan issubset()\n",
    "\n",
    "A = {1, 2, 3, 4, 5, 6}\n",
    "B = {5, 6, 7, 8, 9}\n",
    "\n",
    "A.issubset(B)"
   ]
  },
  {
   "cell_type": "code",
   "execution_count": null,
   "metadata": {},
   "outputs": [],
   "source": [
    "C = {1, 2, 3}\n",
    "D = {1, 2, 3, 4, 5}\n",
    "\n",
    "C.issubset(D)"
   ]
  },
  {
   "cell_type": "code",
   "execution_count": null,
   "metadata": {},
   "outputs": [],
   "source": [
    "# Contoh penggunaan operator <=\n",
    "\n",
    "C = {1, 2, 3}\n",
    "D = {1, 2, 3, 4, 5}\n",
    "\n",
    "C <= D"
   ]
  },
  {
   "cell_type": "markdown",
   "metadata": {},
   "source": [
    "### Apakah sebuah set mengandung set lain?"
   ]
  },
  {
   "cell_type": "markdown",
   "metadata": {},
   "source": [
    "Untuk mengecek apakah sebuah set mengandung set lain, kita dapat menggunakan <i>method</i> <code>issuperset()</code> atau operator <code>>=</code>. Ini merupakan kebalikan dari operasi <code>issubset()</code>."
   ]
  },
  {
   "cell_type": "code",
   "execution_count": null,
   "metadata": {},
   "outputs": [],
   "source": [
    "# Contoh penggunaan issuperset()\n",
    "\n",
    "A = {1, 2, 3, 4, 5, 6}\n",
    "B = {5, 6, 7, 8, 9}\n",
    "\n",
    "A.issuperset(B)"
   ]
  },
  {
   "cell_type": "code",
   "execution_count": null,
   "metadata": {},
   "outputs": [],
   "source": [
    "C = {1, 2, 3}\n",
    "D = {1, 2, 3, 4, 5}\n",
    "\n",
    "D.issuperset(C)"
   ]
  },
  {
   "cell_type": "code",
   "execution_count": null,
   "metadata": {},
   "outputs": [],
   "source": [
    "# Contoh penggunaan operator >=\n",
    "\n",
    "C = {1, 2, 3}\n",
    "D = {1, 2, 3, 4, 5}\n",
    "\n",
    "D >= C"
   ]
  },
  {
   "cell_type": "markdown",
   "metadata": {},
   "source": [
    "<hr>"
   ]
  },
  {
   "cell_type": "markdown",
   "metadata": {},
   "source": [
    "## Frozenset"
   ]
  },
  {
   "cell_type": "markdown",
   "metadata": {},
   "source": [
    "Seperti yang kita tahu bahwa set bersifat <i>mutable</i> atau dapat dimodifikasi. Untuk membuat set yang bersifat <i>immutable</i>, kita dapat menggunakan frozenset. Kita dapat membuat frozenset dengan menggunakan <i>function</i> <code>frozenset()</code>.\n",
    "\n",
    "Misalnya kita akan coba membuat frozenset seperti di bawah ini."
   ]
  },
  {
   "cell_type": "code",
   "execution_count": null,
   "metadata": {},
   "outputs": [],
   "source": [
    "# Mendefinisikan frozenset\n",
    "\n",
    "A = frozenset([1, 2, 3, 4, 5, 6])\n",
    "B = frozenset([5, 6, 7, 8, 9])\n",
    "\n",
    "print(A)\n",
    "print(B)"
   ]
  },
  {
   "cell_type": "markdown",
   "metadata": {},
   "source": [
    "Sekarang kita coba melakukan beberapa operasi himpunan."
   ]
  },
  {
   "cell_type": "code",
   "execution_count": null,
   "metadata": {},
   "outputs": [],
   "source": [
    "# Melakukan operasi union()\n",
    "\n",
    "A = frozenset([1, 2, 3, 4, 5, 6])\n",
    "B = frozenset([5, 6, 7, 8, 9])\n",
    "\n",
    "A.union(B)"
   ]
  },
  {
   "cell_type": "code",
   "execution_count": null,
   "metadata": {},
   "outputs": [],
   "source": [
    "# Melakukan operasi issuperset()\n",
    "\n",
    "A.issuperset(B)"
   ]
  },
  {
   "cell_type": "code",
   "execution_count": null,
   "metadata": {},
   "outputs": [],
   "source": [
    "# Mengecek keberadaan elemen 6\n",
    "\n",
    "6 in A & B"
   ]
  },
  {
   "cell_type": "markdown",
   "metadata": {},
   "source": [
    "Seperti yang dapat kita lihat dari output di atas, kita masih dapat melakukan operasi himpunan selayaknya yang dapat dilakukan set biasa selain memodifikasi isi frozenset tersebut. \n",
    "\n",
    "Sekarang kita akan coba melakukan modifikasi pada frozenset. Ini akan menghasilkan pesan <i>error</i>. Coba jalankan <i>cell</i> di bawah ini."
   ]
  },
  {
   "cell_type": "code",
   "execution_count": null,
   "metadata": {},
   "outputs": [],
   "source": [
    "# Menambahkan elemen baru pada frozenset\n",
    "\n",
    "A = frozenset([1, 2, 3, 4, 5, 6])\n",
    "\n",
    "A.add(100)"
   ]
  },
  {
   "cell_type": "code",
   "execution_count": null,
   "metadata": {},
   "outputs": [],
   "source": [
    "# Menghapus elemen pada frozenset\n",
    "\n",
    "A = frozenset([1, 2, 3, 4, 5, 6])\n",
    "\n",
    "A.remove(1)"
   ]
  },
  {
   "cell_type": "markdown",
   "metadata": {},
   "source": [
    "Setelah menjalankan <i>cell</i> di atas, kita dapat melihat bahwa frozenset tidak dapat diubah isinya."
   ]
  },
  {
   "cell_type": "markdown",
   "metadata": {},
   "source": [
    "<hr>"
   ]
  },
  {
   "cell_type": "markdown",
   "metadata": {},
   "source": [
    "## Latihan: Set"
   ]
  },
  {
   "cell_type": "markdown",
   "metadata": {},
   "source": [
    "Pada bagian ini, silahkan Anda menguji pemahaman Anda tentang set yang telah disampaikan di atas. Jika Anda masih bingung, Anda dapat melihat contoh jawaban yang telah disediakan di bawah <i>cell</i> dari masing-masing soal."
   ]
  },
  {
   "cell_type": "markdown",
   "metadata": {},
   "source": [
    "### No. 1\n",
    "\n",
    "Buatlah sebuah set <code>set1</code> yang berisi <code>satu</code>, <code>2</code>, <code>None</code>, <code>10:00</code> !"
   ]
  },
  {
   "cell_type": "code",
   "execution_count": null,
   "metadata": {},
   "outputs": [],
   "source": [
    "# Ketik kode Anda disini\n",
    "\n"
   ]
  },
  {
   "cell_type": "markdown",
   "metadata": {},
   "source": [
    "Klik dua kali __disini__ untuk melihat jawaban\n",
    "\n",
    "<!-- Jawaban:\n",
    "\n",
    "set1 = {'satu', 2, None, '10:00'}\n",
    "print(set1)\n",
    "\n",
    "-->"
   ]
  },
  {
   "cell_type": "markdown",
   "metadata": {},
   "source": [
    "### No. 2\n",
    "\n",
    "Konversi list <code>kota = ['Bandung', 'Bogor', 'Jakarta', 'Medan', 'Surabaya', 'Yogyakarta']</code> menjadi sebuah set !"
   ]
  },
  {
   "cell_type": "code",
   "execution_count": null,
   "metadata": {},
   "outputs": [],
   "source": [
    "# Ketik kode Anda disini\n",
    "\n"
   ]
  },
  {
   "cell_type": "markdown",
   "metadata": {},
   "source": [
    "Klik dua kali __disini__ untuk melihat jawaban\n",
    "\n",
    "<!-- Jawaban:\n",
    "\n",
    "kota = ['Bandung', 'Bogor', 'Jakarta', 'Medan', 'Surabaya', 'Yogyakarta']\n",
    "kota = set(kota)\n",
    "print(kota)\n",
    "\n",
    "-->"
   ]
  },
  {
   "cell_type": "markdown",
   "metadata": {},
   "source": [
    "### No. 3\n",
    "\n",
    "Hapus <code>Bogor</code> dari set <code>kota</code> !"
   ]
  },
  {
   "cell_type": "code",
   "execution_count": null,
   "metadata": {},
   "outputs": [],
   "source": [
    "# Ketik kode Anda disini\n",
    "\n"
   ]
  },
  {
   "cell_type": "markdown",
   "metadata": {},
   "source": [
    "Klik dua kali __disini__ untuk melihat jawaban\n",
    "\n",
    "<!-- Jawaban:\n",
    "\n",
    "kota.remove('Bogor')\n",
    "print(kota)\n",
    "\n",
    "-->"
   ]
  },
  {
   "cell_type": "markdown",
   "metadata": {},
   "source": [
    "### No. 4\n",
    "\n",
    "Ambil irisan dari <code>kota1</code> yang terdiri dari <code>Bandung</code>, <code>Bogor</code>, <code>Jakarta</code> dan <code>kota2</code> yang terdiri dari <code>Surabaya</code>, <code>Bandung</code>, <code>Medan</code>, <code>Yogyakarta</code> !"
   ]
  },
  {
   "cell_type": "code",
   "execution_count": null,
   "metadata": {},
   "outputs": [],
   "source": [
    "# Ketik kode Anda disini\n",
    "\n"
   ]
  },
  {
   "cell_type": "markdown",
   "metadata": {},
   "source": [
    "Klik dua kali __disini__ untuk melihat jawaban\n",
    "\n",
    "<!-- Jawaban:\n",
    "\n",
    "kota1 = {'Bandung', 'Bogor', 'Jakarata'}\n",
    "kota2 = {'Surabaya', 'Bandung', 'Medan', 'Yogyakarta'}\n",
    "\n",
    "print(kota1.intersection(kota2))\n",
    "\n",
    "-->"
   ]
  },
  {
   "cell_type": "markdown",
   "metadata": {},
   "source": [
    "### No. 5\n",
    "\n",
    "Buatlah sebuah frozenset <code>music_genres</code> yang berisi <code>Rock</code>, <code>Pop</code>, <code>RnB</code>, <code>Jazz</code>, <code>Hip hop</code> !"
   ]
  },
  {
   "cell_type": "code",
   "execution_count": null,
   "metadata": {},
   "outputs": [],
   "source": [
    "# Ketik kode Anda disini\n",
    "\n"
   ]
  },
  {
   "cell_type": "markdown",
   "metadata": {},
   "source": [
    "Klik dua kali __disini__ untuk melihat jawaban\n",
    "\n",
    "<!-- Jawaban\n",
    "\n",
    "music_genres = frozenset(['Rock', 'Pop', 'RnB', 'Jazz', 'Hip hop'])\n",
    "print(music_genres)\n",
    "\n",
    "-->"
   ]
  },
  {
   "cell_type": "markdown",
   "metadata": {},
   "source": [
    "<hr>"
   ]
  },
  {
   "cell_type": "markdown",
   "metadata": {},
   "source": [
    "Copyright @ <a href=\"https://ilmudatapy.com/\">ilmudatapy.com</a>"
   ]
  }
 ],
 "metadata": {
  "kernelspec": {
   "display_name": "Python 3",
   "language": "python",
   "name": "python3"
  },
  "language_info": {
   "codemirror_mode": {
    "name": "ipython",
    "version": 3
   },
   "file_extension": ".py",
   "mimetype": "text/x-python",
   "name": "python",
   "nbconvert_exporter": "python",
   "pygments_lexer": "ipython3",
   "version": "3.7.3"
  }
 },
 "nbformat": 4,
 "nbformat_minor": 2
}
