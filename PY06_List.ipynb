{
 "cells": [
  {
   "cell_type": "markdown",
   "metadata": {},
   "source": [
    "<img src=\"../images/ilmudatapy-logo.png\" width=\"350\" align=\"center\">\n",
    "<br>"
   ]
  },
  {
   "cell_type": "markdown",
   "metadata": {},
   "source": [
    "<center><h1>List</h1></center>\n",
    "<hr>"
   ]
  },
  {
   "cell_type": "markdown",
   "metadata": {},
   "source": [
    "__Halo, Learners!__ Di notebook ini kita akan belajar tentang list, termasuk manipulasi list seperti menambah, menghapus, dan mengubah elemen list, serta <i>indexing</i>, <i>slicing</i>, <i>stride</i> pada list."
   ]
  },
  {
   "cell_type": "markdown",
   "metadata": {},
   "source": [
    "<h2>Table of Contents</h2>\n",
    "<div class=\"alert alert-block alert-info\" style=\"margin-top: 25px\">\n",
    "    <ul>\n",
    "        <li>\n",
    "            Apa itu List?\n",
    "            <ul>\n",
    "               <li>Contoh List</li>\n",
    "            </ul>\n",
    "        </li>\n",
    "        <li>\n",
    "            Mengakses List\n",
    "            <ul>\n",
    "               <li>Indexing</li>\n",
    "               <li>Slicing</li>\n",
    "               <li>Stride</li>\n",
    "            </ul>\n",
    "        </li>\n",
    "        <li>\n",
    "            Nested List\n",
    "            <ul>\n",
    "               <li>Mengakses nested list</li>\n",
    "            </ul>\n",
    "        </li>\n",
    "        <li>\n",
    "            Manipulasi List\n",
    "            <ul>\n",
    "               <li>Mengubah elemen list</li>\n",
    "               <li>Menambah/menggabungkan list</li>\n",
    "                   <ul>\n",
    "                       <li>Menggunakan operator (+)</li>\n",
    "                       <li>Menggunakan method</li>\n",
    "                   </ul>\n",
    "               <li>Menghapus elemen list</li>\n",
    "                   <ul>\n",
    "                       <li>Menggunakan perintah (del)</li>\n",
    "                       <li>Menggunakan method</li>\n",
    "                   </ul>\n",
    "            </ul>\n",
    "        </li>\n",
    "        <li>\n",
    "            Latihan: List\n",
    "        </li>\n",
    "    </ul>\n",
    "</div>"
   ]
  },
  {
   "cell_type": "markdown",
   "metadata": {},
   "source": [
    "<hr>\n",
    "<div class=\"alert alert-success\" style=\"margin-top: 20px\">\n",
    "    <strong>Catatan:</strong> Untuk menjalankan kode program Python di Jupyter Notebook, klik pada <i>cell</i> yang ingin di-<i>run</i> lalu tekan <kbd>Shift</kbd> + <kbd>Enter</kbd>.\n",
    "</div>\n",
    "<hr>"
   ]
  },
  {
   "cell_type": "markdown",
   "metadata": {},
   "source": [
    "## Apa itu List?"
   ]
  },
  {
   "cell_type": "markdown",
   "metadata": {},
   "source": [
    "List adalah salah satu tipe data yang ada di Python selain tipe data dasar seperti string, integer, float, dan boolean. List mirip dengan array di bahasa pemrograman lain namun lebih fleksibel. List digunakan untuk menyimpan koleksi data dalam berbagai tipe data seperti string, integer, float, dan sebagainya. Kita juga dapat menyimpan data berupa list di dalam sebuah list.\n",
    "\n",
    "Di Python, List didefinisikan dengan menggunakan kurung siku <code>[]</code> dan setiap elemen di dalam list dipisahkan oleh koma."
   ]
  },
  {
   "cell_type": "markdown",
   "metadata": {},
   "source": [
    "### Contoh List"
   ]
  },
  {
   "cell_type": "markdown",
   "metadata": {},
   "source": [
    "List dapat berisi objek dengan satu jenis tipe data. "
   ]
  },
  {
   "cell_type": "code",
   "execution_count": null,
   "metadata": {},
   "outputs": [],
   "source": [
    "# Contoh list\n",
    "\n",
    "a = [1, 2, 3, 4, 5]\n",
    "print(a)"
   ]
  },
  {
   "cell_type": "code",
   "execution_count": null,
   "metadata": {},
   "outputs": [],
   "source": [
    "# Contoh list\n",
    "\n",
    "fruits = ['apple', 'orange', 'mango', 'guava', 'melon', 'durian']\n",
    "print(fruits)"
   ]
  },
  {
   "cell_type": "markdown",
   "metadata": {},
   "source": [
    "List juga dapat berisi objek dengan berbagai tipe data. "
   ]
  },
  {
   "cell_type": "code",
   "execution_count": null,
   "metadata": {},
   "outputs": [],
   "source": [
    "# Contoh list\n",
    "\n",
    "b = ['John', 23, True, 3.87]\n",
    "print(b)"
   ]
  },
  {
   "cell_type": "markdown",
   "metadata": {},
   "source": [
    "<hr>"
   ]
  },
  {
   "cell_type": "markdown",
   "metadata": {},
   "source": [
    "## Mengakses List"
   ]
  },
  {
   "cell_type": "markdown",
   "metadata": {},
   "source": [
    "### Indexing"
   ]
  },
  {
   "cell_type": "markdown",
   "metadata": {},
   "source": [
    "Pada dasarnya, <i>indexing</i> pada list sama dengan <i>indexing</i> pada string yang sudah didiskusikan pada materi sebelumnya. <i>Indexing</i> dimulai dari angka 0 dan seterusnya, atau bisa juga menggunakan <i>negative indexing</i> seperti pada gambar di bawah ini."
   ]
  },
  {
   "cell_type": "markdown",
   "metadata": {},
   "source": [
    "<img src=\"../images/list-3.png\" align=\"center\">"
   ]
  },
  {
   "cell_type": "markdown",
   "metadata": {},
   "source": [
    "Untuk mengakses isi list pada indeks tertentu, Anda dapat menuliskan nama list disertai dengan kurung siku yang berisi nomor indeks yang dimaksud. "
   ]
  },
  {
   "cell_type": "code",
   "execution_count": null,
   "metadata": {},
   "outputs": [],
   "source": [
    "# Mengakses indeks 1\n",
    "\n",
    "fruits = ['apple', 'orange', 'mango', 'guava', 'melon', 'durian']\n",
    "fruits[1]"
   ]
  },
  {
   "cell_type": "code",
   "execution_count": null,
   "metadata": {},
   "outputs": [],
   "source": [
    "# Mengakses indeks -3\n",
    "\n",
    "fruits[-3]"
   ]
  },
  {
   "cell_type": "code",
   "execution_count": null,
   "metadata": {},
   "outputs": [],
   "source": [
    "# Menampilkan elemen list menggunakan print\n",
    "\n",
    "print(fruits[4])"
   ]
  },
  {
   "cell_type": "markdown",
   "metadata": {},
   "source": [
    "### Slicing"
   ]
  },
  {
   "cell_type": "markdown",
   "metadata": {},
   "source": [
    "Seperti string, kita juga dapat melakukan <i>slicing</i> atau memotong list untuk mengambil bagian tertentu. Misalnya kita ingin mengambil elemen list <code>apple</code>, <code>orange</code>, dan <code>mango</code>."
   ]
  },
  {
   "cell_type": "code",
   "execution_count": null,
   "metadata": {},
   "outputs": [],
   "source": [
    "# Mengambil elemen list yang ada pada indeks 0, 1, dan 2\n",
    "\n",
    "fruits = ['apple', 'orange', 'mango', 'guava', 'melon', 'durian']\n",
    "fruits[0:3]"
   ]
  },
  {
   "cell_type": "markdown",
   "metadata": {},
   "source": [
    "Jika kita menggunakan <code>fruits[0:2]</code>, maka <code>mango</code> tidak akan terbawa."
   ]
  },
  {
   "cell_type": "code",
   "execution_count": null,
   "metadata": {},
   "outputs": [],
   "source": [
    "# Kode ini hanya akan mengambil isi indeks 0 dan 1\n",
    "\n",
    "fruits[0:2]"
   ]
  },
  {
   "cell_type": "code",
   "execution_count": null,
   "metadata": {},
   "outputs": [],
   "source": [
    "# Mengambil isi list pada indeks 2, 3, dan 4\n",
    "\n",
    "print(fruits[2:5])"
   ]
  },
  {
   "cell_type": "markdown",
   "metadata": {},
   "source": [
    "### Stride"
   ]
  },
  {
   "cell_type": "code",
   "execution_count": null,
   "metadata": {},
   "outputs": [],
   "source": [
    "# Mengakses elemen list dengan diloncat dua langkah\n",
    "\n",
    "fruits = ['apple', 'orange', 'mango', 'guava', 'melon', 'durian']\n",
    "fruits[::2]"
   ]
  },
  {
   "cell_type": "code",
   "execution_count": null,
   "metadata": {},
   "outputs": [],
   "source": [
    "# Mengakses elemen list dengan diloncat dua langkah dan dimulai dari indeks 1\n",
    "\n",
    "fruits[1::2]"
   ]
  },
  {
   "cell_type": "code",
   "execution_count": null,
   "metadata": {},
   "outputs": [],
   "source": [
    "# Mengakses elemen list dengan diloncat dua langkah dan dimulai dari indeks 1 sampai 4\n",
    "\n",
    "fruits[1:5:2]"
   ]
  },
  {
   "cell_type": "markdown",
   "metadata": {},
   "source": [
    "<hr>"
   ]
  },
  {
   "cell_type": "markdown",
   "metadata": {},
   "source": [
    "## Nested List"
   ]
  },
  {
   "cell_type": "markdown",
   "metadata": {},
   "source": [
    "Selain berisi string, integer, float, dan boolean, list juga dapat berisi list lain. Ini dinamakan <i>nested list</i> atau list bersarang. "
   ]
  },
  {
   "cell_type": "code",
   "execution_count": null,
   "metadata": {},
   "outputs": [],
   "source": [
    "m = [[1, 2, 3], [4, 5, 6], [7, 8, 9]]\n",
    "m"
   ]
  },
  {
   "cell_type": "markdown",
   "metadata": {},
   "source": [
    "Pada contoh di atas, list <code>m</code> mengandung tiga sub-list. Lihat ilustrasinya di bawah ini."
   ]
  },
  {
   "cell_type": "markdown",
   "metadata": {},
   "source": [
    "<img src=\"../images/list-1.png\" align=\"center\">"
   ]
  },
  {
   "cell_type": "markdown",
   "metadata": {},
   "source": [
    "List yang berisi list juga dapat digabung dengan tipe data lain."
   ]
  },
  {
   "cell_type": "code",
   "execution_count": null,
   "metadata": {},
   "outputs": [],
   "source": [
    "# Contoh list n yang berisi list lain\n",
    "\n",
    "n = [2, 'apple', ['a', 'b'], 80.6, [100, 300]]\n",
    "print(n)"
   ]
  },
  {
   "cell_type": "markdown",
   "metadata": {},
   "source": [
    "### Mengakses nested list"
   ]
  },
  {
   "cell_type": "markdown",
   "metadata": {},
   "source": [
    "Untuk mengambil elemen list yang berada di dalam list, kita membutuhkan dua indeks. Pertama adalah indeks dari list di dalam list <code>n</code>, kedua adalah indeks elemen yang ada di dalam list. Misalnya kita akan mengambil <code>a</code>."
   ]
  },
  {
   "cell_type": "markdown",
   "metadata": {},
   "source": [
    "<img src=\"../images/list-4.png\" align=\"center\">"
   ]
  },
  {
   "cell_type": "code",
   "execution_count": null,
   "metadata": {},
   "outputs": [],
   "source": [
    "# Mengakses 'a' \n",
    "\n",
    "n = [2, 'apple', ['a', 'b'], 80.6, [100, 300]]\n",
    "n[2][0]"
   ]
  },
  {
   "cell_type": "code",
   "execution_count": null,
   "metadata": {},
   "outputs": [],
   "source": [
    "# Mengakses 'b'\n",
    "\n",
    "n[2][1]"
   ]
  },
  {
   "cell_type": "code",
   "execution_count": null,
   "metadata": {},
   "outputs": [],
   "source": [
    "# Mengakses 100\n",
    "\n",
    "n[4][0]"
   ]
  },
  {
   "cell_type": "code",
   "execution_count": null,
   "metadata": {},
   "outputs": [],
   "source": [
    "# Mengakses 300\n",
    "\n",
    "n[4][1]"
   ]
  },
  {
   "cell_type": "markdown",
   "metadata": {},
   "source": [
    "<hr>"
   ]
  },
  {
   "cell_type": "markdown",
   "metadata": {},
   "source": [
    "## Manipulasi List"
   ]
  },
  {
   "cell_type": "markdown",
   "metadata": {},
   "source": [
    "List dapat dimanipulasi seperti mengubah elemen list pada indeks tertentu, menambah elemen list, dan menghapus elemen list."
   ]
  },
  {
   "cell_type": "markdown",
   "metadata": {},
   "source": [
    "### Mengubah elemen list"
   ]
  },
  {
   "cell_type": "markdown",
   "metadata": {},
   "source": [
    "Misalnya dari list <code>fruits</code> kita akan mengubah <code>melon</code> menjadi <code>watermelon</code>."
   ]
  },
  {
   "cell_type": "code",
   "execution_count": null,
   "metadata": {},
   "outputs": [],
   "source": [
    "# List fruits\n",
    "\n",
    "fruits = ['apple', 'orange', 'mango', 'guava', 'melon', 'durian']\n",
    "fruits"
   ]
  },
  {
   "cell_type": "code",
   "execution_count": null,
   "metadata": {},
   "outputs": [],
   "source": [
    "# Mengubah isi indeks 4 menjadi 'watermelon'\n",
    "\n",
    "fruits[4] = 'watermelon'\n",
    "fruits"
   ]
  },
  {
   "cell_type": "markdown",
   "metadata": {},
   "source": [
    "Misalnya kita juga akan mengubah <code>apple</code> menjadi <code>pineapple</code>."
   ]
  },
  {
   "cell_type": "code",
   "execution_count": null,
   "metadata": {},
   "outputs": [],
   "source": [
    "# Mengubah isi indeks 0 menjadi 'pineapple'\n",
    "\n",
    "fruits[0] = 'pineapple'\n",
    "fruits"
   ]
  },
  {
   "cell_type": "markdown",
   "metadata": {},
   "source": [
    "Sekarang list <code>fruits</code> sudah berubah isinya."
   ]
  },
  {
   "cell_type": "markdown",
   "metadata": {},
   "source": [
    "### Menambah/menggabungkan list"
   ]
  },
  {
   "cell_type": "markdown",
   "metadata": {},
   "source": [
    "Menambah elemen baru pada list dapat menggunakan operator <code>+</code> ataupun <i>method</i> yang tersedia di Python."
   ]
  },
  {
   "cell_type": "markdown",
   "metadata": {},
   "source": [
    "#### Menggunakan operator +"
   ]
  },
  {
   "cell_type": "markdown",
   "metadata": {},
   "source": [
    "Operator <code>+</code> bisa digunakan untuk menambahkan elemen baru di awal maupun akhir list."
   ]
  },
  {
   "cell_type": "code",
   "execution_count": null,
   "metadata": {},
   "outputs": [],
   "source": [
    "# Menambahkan 10 dan 20 pada akhir list fruits\n",
    "\n",
    "fruits = ['pineapple', 'orange', 'mango', 'guava', 'watermelon', 'durian']\n",
    "fruits = fruits + [10, 20]\n",
    "fruits"
   ]
  },
  {
   "cell_type": "code",
   "execution_count": null,
   "metadata": {},
   "outputs": [],
   "source": [
    "# Menambahkan 'apple' pada awal list fruits\n",
    "\n",
    "fruits = ['apple'] + fruits\n",
    "print(fruits)"
   ]
  },
  {
   "cell_type": "markdown",
   "metadata": {},
   "source": [
    "#### Menggunakan method"
   ]
  },
  {
   "cell_type": "markdown",
   "metadata": {},
   "source": [
    "Ada 3 <i>method</i> yang dapat digunakan untuk menambahkan item baru pada list, yaitu <code>append()</code>, <code>extend()</code>, <code>insert()</code>."
   ]
  },
  {
   "cell_type": "markdown",
   "metadata": {},
   "source": [
    "#### append()"
   ]
  },
  {
   "cell_type": "markdown",
   "metadata": {},
   "source": [
    "<code>append()</code> adalah salah satu <i>method</i> yang dapat digunakan untuk manipulasi list yaitu untuk menambahkan elemen baru di akhir list."
   ]
  },
  {
   "cell_type": "code",
   "execution_count": null,
   "metadata": {},
   "outputs": [],
   "source": [
    "# Contoh penggunaan append()\n",
    "\n",
    "fruits = ['pineapple', 'orange', 'mango', 'guava', 'watermelon', 'durian']\n",
    "fruits.append('apple')\n",
    "fruits"
   ]
  },
  {
   "cell_type": "markdown",
   "metadata": {},
   "source": [
    "Harap dicatat bahwa <i>method</i> list, termasuk salah satunya adalah <code>append()</code>, hanya melakukan modifikasi list di list itu sendiri dan tidak bisa menghasilkan list baru. Perhatikan dan jalankan kode berikut."
   ]
  },
  {
   "cell_type": "code",
   "execution_count": null,
   "metadata": {},
   "outputs": [],
   "source": [
    "# Contoh penggunaan method list yang tidak dapat dimasukkan ke dalam variabel\n",
    "\n",
    "fruits = ['pineapple', 'orange', 'mango', 'guava', 'watermelon', 'durian']\n",
    "x = fruits.append('apple')\n",
    "x"
   ]
  },
  {
   "cell_type": "markdown",
   "metadata": {},
   "source": [
    "Pada contoh di atas, kita menggunakan contoh sebelumnya, namun <code>fruits.append('apple')</code> dimasukkan ke dalam list baru yaitu <code>x</code>. Alhasil, saat kita mencoba menampilkan isi dari list <code>x</code>, tidak keluar hasil apapun alias kosong."
   ]
  },
  {
   "cell_type": "markdown",
   "metadata": {},
   "source": [
    "#### extend(< iterable >)"
   ]
  },
  {
   "cell_type": "markdown",
   "metadata": {},
   "source": [
    "<i>Method</i> <code>extend()</code> berfungsi sama seperti <code>append()</code> yakni untuk menambahkan elemen baru pada list namun elemen tersebut ditambahkan secara individual. Masih belum paham? Jadi gini, nantinya elemen yang kita letakkan di dalam tanda kurung akan dipisahkan per karakter.\n",
    "\n",
    "Perhatikan dan jalankan kode berikut."
   ]
  },
  {
   "cell_type": "code",
   "execution_count": null,
   "metadata": {},
   "outputs": [],
   "source": [
    "# Contoh penggunaan extend()\n",
    "\n",
    "fruits = ['pineapple', 'orange', 'mango', 'guava', 'watermelon', 'durian']\n",
    "fruits.extend('apple')\n",
    "print(fruits)"
   ]
  },
  {
   "cell_type": "markdown",
   "metadata": {},
   "source": [
    "Lalu bagaimana jika ingin menggunakan <i>method</i> <code>extend()</code> namun mengharapkan output yang tidak terpisah seperti itu? Caranya adalah dengan membatasi string tersebut dengan tanda kurung siku <code>[]</code>."
   ]
  },
  {
   "cell_type": "code",
   "execution_count": null,
   "metadata": {},
   "outputs": [],
   "source": [
    "# Contoh penggunaan extend() dengan kurung siku\n",
    "\n",
    "fruits = ['pineapple', 'orange', 'mango', 'guava', 'watermelon', 'durian']\n",
    "fruits.extend(['apple'])\n",
    "print(fruits)"
   ]
  },
  {
   "cell_type": "markdown",
   "metadata": {},
   "source": [
    "#### insert(< index >, < object >)"
   ]
  },
  {
   "cell_type": "markdown",
   "metadata": {},
   "source": [
    "<i>Method</i> <code>insert()</code> digunakan apabila kita ingin menyisipkan elemen baru di list pada indeks tertentu. Misalnya kita ingin menambahkan <code>apple</code> pada indeks ke 2."
   ]
  },
  {
   "cell_type": "code",
   "execution_count": null,
   "metadata": {},
   "outputs": [],
   "source": [
    "# Contoh penggunaan insert()\n",
    "\n",
    "fruits = ['pineapple', 'orange', 'mango', 'guava', 'watermelon', 'durian']\n",
    "fruits.insert(2, 'apple')\n",
    "print(fruits)"
   ]
  },
  {
   "cell_type": "markdown",
   "metadata": {},
   "source": [
    "### Menghapus elemen list"
   ]
  },
  {
   "cell_type": "markdown",
   "metadata": {},
   "source": [
    "Menghapus elemen atau item di list bisa menggunakan <i>command</i> <code>del</code> atau menggunakan <i>method</i> yang disediakan Python."
   ]
  },
  {
   "cell_type": "markdown",
   "metadata": {},
   "source": [
    "#### Menggunakan perintah (del)"
   ]
  },
  {
   "cell_type": "markdown",
   "metadata": {},
   "source": [
    "Perintah <code>del</code> merupakan salah satu cara menghapus list berdasarkan indeks . Misalnya kita akan menghapus item pada indeks ke 3 yaitu <code>guava</code> dari list fruits."
   ]
  },
  {
   "cell_type": "code",
   "execution_count": null,
   "metadata": {},
   "outputs": [],
   "source": [
    "# Contoh penggunaan del\n",
    "\n",
    "fruits = ['pineapple', 'orange', 'mango', 'guava', 'watermelon', 'durian']\n",
    "del fruits[3]\n",
    "fruits"
   ]
  },
  {
   "cell_type": "markdown",
   "metadata": {},
   "source": [
    "#### Menggunakan method"
   ]
  },
  {
   "cell_type": "markdown",
   "metadata": {},
   "source": [
    "Ada 2 <i>method</i> yang dapat digunakan untuk menghapus elemen list, yaitu <code>remove()</code> dan <code>pop()</code>."
   ]
  },
  {
   "cell_type": "markdown",
   "metadata": {},
   "source": [
    "#### remove(< object >)"
   ]
  },
  {
   "cell_type": "markdown",
   "metadata": {},
   "source": [
    "<i>Method</i> <code>remove()</code> akan menghapus item di dalam sebuah list berdasarkan nama item atau elemen tersebut. Misalnya kita akan menghapus <code>mango</code> dari list fruits."
   ]
  },
  {
   "cell_type": "code",
   "execution_count": null,
   "metadata": {},
   "outputs": [],
   "source": [
    "# Contoh penggunaan remove()\n",
    "\n",
    "fruits = ['pineapple', 'orange', 'mango', 'guava', 'watermelon', 'durian']\n",
    "fruits.remove('mango')\n",
    "fruits"
   ]
  },
  {
   "cell_type": "markdown",
   "metadata": {},
   "source": [
    "#### pop(< index >)"
   ]
  },
  {
   "cell_type": "markdown",
   "metadata": {},
   "source": [
    "Jika kita ingin menghapus elemen list berdasarkan indeks, kita bisa menggunakan <i>method</i> <code>pop()</code>."
   ]
  },
  {
   "cell_type": "code",
   "execution_count": null,
   "metadata": {},
   "outputs": [],
   "source": [
    "# Contoh penggunaan pop(<index>)\n",
    "\n",
    "fruits = ['pineapple', 'orange', 'mango', 'guava', 'watermelon', 'durian']\n",
    "fruits.pop(1)\n",
    "fruits"
   ]
  },
  {
   "cell_type": "markdown",
   "metadata": {},
   "source": [
    "#### pop()"
   ]
  },
  {
   "cell_type": "markdown",
   "metadata": {},
   "source": [
    "Jika tidak memasukkan nomor indeks ketika menggunakan <code>pop()</code>, maka yang akan terhapus adalah objek atau elemen paling akhir yang ada di dalam list."
   ]
  },
  {
   "cell_type": "code",
   "execution_count": null,
   "metadata": {},
   "outputs": [],
   "source": [
    "# Contoh penggunaan pop()\n",
    "\n",
    "fruits = ['pineapple', 'orange', 'mango', 'guava', 'watermelon', 'durian']\n",
    "fruits.pop()\n",
    "fruits"
   ]
  },
  {
   "cell_type": "markdown",
   "metadata": {},
   "source": [
    "<hr>"
   ]
  },
  {
   "cell_type": "markdown",
   "metadata": {},
   "source": [
    "## Latihan: List"
   ]
  },
  {
   "cell_type": "markdown",
   "metadata": {},
   "source": [
    "Pada bagian ini, silahkan Anda menguji pemahaman Anda tentang list yang telah disampaikan di atas. Jika Anda masih bingung, Anda dapat melihat contoh jawaban yang telah disediakan di bawah <i>cell</i> dari masing-masing soal."
   ]
  },
  {
   "cell_type": "markdown",
   "metadata": {},
   "source": [
    "### No. 1\n",
    "\n",
    "Buatlah sebuah list <code>new_list</code> yang berisi <code>python</code>, <code>True</code>, <code>100</code>, <code>[1, 2, 3]</code>, <code>9.5</code> !"
   ]
  },
  {
   "cell_type": "code",
   "execution_count": null,
   "metadata": {},
   "outputs": [],
   "source": [
    "# Ketik kode Anda disini\n",
    "\n"
   ]
  },
  {
   "cell_type": "markdown",
   "metadata": {},
   "source": [
    "Klik dua kali __disini__ untuk melihat jawaban\n",
    "\n",
    "<!-- Jawaban:\n",
    "\n",
    "new_list = [\"python\", True, 100, [1, 2, 3], 9.5]\n",
    "new_list\n",
    "\n",
    "-->"
   ]
  },
  {
   "cell_type": "markdown",
   "metadata": {},
   "source": [
    "### No. 2\n",
    "\n",
    "Ambil elemen list pada indeks 2 dari list <code>new_list</code> !"
   ]
  },
  {
   "cell_type": "code",
   "execution_count": null,
   "metadata": {},
   "outputs": [],
   "source": [
    "# Ketik kode Anda disini\n",
    "\n"
   ]
  },
  {
   "cell_type": "markdown",
   "metadata": {},
   "source": [
    "Klik dua kali __disini__ untuk melihat jawaban\n",
    "\n",
    "<!-- Jawaban:\n",
    "\n",
    "new_list[2]\n",
    "\n",
    "-->"
   ]
  },
  {
   "cell_type": "markdown",
   "metadata": {},
   "source": [
    "### No. 3\n",
    "\n",
    "Ambil elemen list pada indeks 1, 2, 3 dari list <code>new_list</code> !"
   ]
  },
  {
   "cell_type": "code",
   "execution_count": null,
   "metadata": {},
   "outputs": [],
   "source": [
    "# Ketik kode Anda disini\n",
    "\n"
   ]
  },
  {
   "cell_type": "markdown",
   "metadata": {},
   "source": [
    "Klik dua kali __disini__ untuk melihat jawaban\n",
    "\n",
    "<!-- Jawaban:\n",
    "\n",
    "new_list[1:4]\n",
    "\n",
    "-->"
   ]
  },
  {
   "cell_type": "markdown",
   "metadata": {},
   "source": [
    "### No. 4\n",
    "\n",
    "Gabungkan list <code>a = [1, 2, 'hai']</code> dengan list <code>b = ['hello', 200]</code> !"
   ]
  },
  {
   "cell_type": "code",
   "execution_count": null,
   "metadata": {},
   "outputs": [],
   "source": [
    "# Ketik kode Anda disini\n",
    "\n"
   ]
  },
  {
   "cell_type": "markdown",
   "metadata": {},
   "source": [
    "Klik dua kali __disini__ untuk melihat jawaban\n",
    "\n",
    "<!-- Jawaban:\n",
    "\n",
    "a = [1, 2, 'hai']\n",
    "b = ['hello', 200]\n",
    "a + b\n",
    "\n",
    "-->"
   ]
  },
  {
   "cell_type": "markdown",
   "metadata": {},
   "source": [
    "### No. 5\n",
    "\n",
    "Hapus <code>9.5</code> pada list <code>new_list</code> !"
   ]
  },
  {
   "cell_type": "code",
   "execution_count": null,
   "metadata": {},
   "outputs": [],
   "source": [
    "# Ketik kode Anda disini\n",
    "\n"
   ]
  },
  {
   "cell_type": "markdown",
   "metadata": {},
   "source": [
    "Klik dua kali __disini__ untuk melihat jawaban\n",
    "\n",
    "<!-- Jawaban:\n",
    "\n",
    "new_list.remove(9.5)\n",
    "new_list\n",
    "\n",
    "-->"
   ]
  },
  {
   "cell_type": "markdown",
   "metadata": {},
   "source": [
    "<hr>"
   ]
  },
  {
   "cell_type": "markdown",
   "metadata": {},
   "source": [
    "Copyright @ <a href=\"https://ilmudatapy.com/\">ilmudatapy.com</a>"
   ]
  }
 ],
 "metadata": {
  "kernelspec": {
   "display_name": "Python 3",
   "language": "python",
   "name": "python3"
  },
  "language_info": {
   "codemirror_mode": {
    "name": "ipython",
    "version": 3
   },
   "file_extension": ".py",
   "mimetype": "text/x-python",
   "name": "python",
   "nbconvert_exporter": "python",
   "pygments_lexer": "ipython3",
   "version": "3.7.3"
  }
 },
 "nbformat": 4,
 "nbformat_minor": 2
}
