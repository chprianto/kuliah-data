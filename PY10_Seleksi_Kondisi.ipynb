{
 "cells": [
  {
   "cell_type": "markdown",
   "metadata": {},
   "source": [
    "<img src=\"../images/ilmudatapy-logo.png\" width=\"350\" align=\"center\">\n",
    "<br>"
   ]
  },
  {
   "cell_type": "markdown",
   "metadata": {},
   "source": [
    "<center><h1>Seleksi Kondisi</h1></center>\n",
    "<hr>"
   ]
  },
  {
   "cell_type": "markdown",
   "metadata": {},
   "source": [
    "__Halo, Learners!__ Di notebook ini, kita akan belajar tentang seleksi kondisi __if__, termasuk juga operator perbandingan dan operator logika, serta <i>branching</i> di Python."
   ]
  },
  {
   "cell_type": "markdown",
   "metadata": {},
   "source": [
    "<h2>Table of Contents</h2>\n",
    "<div class=\"alert alert-block alert-info\" style=\"margin-top: 25px\">\n",
    "    <ul>\n",
    "        <li>\n",
    "            Operator Perbandingan\n",
    "        </li>\n",
    "        <li>\n",
    "            Pernyataan Kondisi\n",
    "        </li>\n",
    "        <li>\n",
    "            Conditional Branching\n",
    "            <ul>\n",
    "               <li>if</li>\n",
    "               <li>if...else</li>\n",
    "               <li>if...elif</li>\n",
    "            </ul>\n",
    "        </li>\n",
    "        <li>\n",
    "            Operator Logika\n",
    "            <ul>\n",
    "               <li>and</li>\n",
    "               <li>or</li>\n",
    "               <li>not</li>\n",
    "            </ul>\n",
    "        </li>\n",
    "        <li>\n",
    "            Latihan: Seleksi Kondisi\n",
    "        </li>\n",
    "    </ul>\n",
    "</div>"
   ]
  },
  {
   "cell_type": "markdown",
   "metadata": {},
   "source": [
    "<hr>\n",
    "<div class=\"alert alert-success\" style=\"margin-top: 20px\">\n",
    "    <strong>Catatan:</strong> Untuk menjalankan kode program Python di Jupyter Notebook, klik pada <i>cell</i> yang ingin di-<i>run</i> lalu tekan <kbd>Shift</kbd> + <kbd>Enter</kbd>.\n",
    "</div>\n",
    "<hr>"
   ]
  },
  {
   "cell_type": "markdown",
   "metadata": {},
   "source": [
    "## Operator Perbandingan"
   ]
  },
  {
   "cell_type": "markdown",
   "metadata": {},
   "source": [
    "Operator perbandingan digunakan dalam seleksi kondisi untuk membandingan dua nilai atau operand. Output yang dihasilkan dari operasi perbandingan yaitu berupa __Boolean__. Ada enam operator perbandingan yang dapat digunakan, diantaranya:\n",
    "\n",
    "* sama dengan: <code>==</code>\n",
    "* tidak sama dengan: <code>!=</code>\n",
    "* lebih besar dari: <code>></code>\n",
    "* lebih kecil dari: <code><</code>\n",
    "* lebih besar sama dengan: <code>>=</code>\n",
    "* lebih kecil sama dengan: <code><=</code>\n",
    "\n",
    "Operator-operator tersebut dapat digunakan untuk membandingan nilai secara langsung maupun yang berada dalam variabel. Coba jalankan <i>cell</i> berikut.\n",
    "\n",
    "Misalnya kita memiliki variabel <code>x</code> yang berisi nilai <code>3</code>. Kemudian kita bandingan nilai <code>x</code> tersebut dengan <code>8</code>."
   ]
  },
  {
   "cell_type": "code",
   "execution_count": null,
   "metadata": {},
   "outputs": [],
   "source": [
    "# Menggunakan operator ==\n",
    "\n",
    "x = 3      \n",
    "x == 8"
   ]
  },
  {
   "cell_type": "markdown",
   "metadata": {},
   "source": [
    "Hasil dari <code>x == 8</code> adalah __False__ karena memang 3 tidak sama dengan 8.\n",
    "\n",
    "Untuk angka yang sama, sekarang kita coba menggunakan operator tidak sama dengan."
   ]
  },
  {
   "cell_type": "code",
   "execution_count": null,
   "metadata": {},
   "outputs": [],
   "source": [
    "# Menggunakan operator !=\n",
    "\n",
    "x = 3\n",
    "x != 8"
   ]
  },
  {
   "cell_type": "markdown",
   "metadata": {},
   "source": [
    "Dapat dilihat bahwa outputnya adalah __True__.\n",
    "\n",
    "Masih menggunakan angka yang sama, sekarang kita coba menggunakan operator <code>></code> dan <code><</code>."
   ]
  },
  {
   "cell_type": "code",
   "execution_count": null,
   "metadata": {},
   "outputs": [],
   "source": [
    "# Menggunakan operator >\n",
    "\n",
    "x = 3\n",
    "x > 8"
   ]
  },
  {
   "cell_type": "markdown",
   "metadata": {},
   "source": [
    "<code>3</code> lebih besar dari <code>8</code> adalah __False__."
   ]
  },
  {
   "cell_type": "code",
   "execution_count": null,
   "metadata": {},
   "outputs": [],
   "source": [
    "# Menggunakan operator <\n",
    "\n",
    "x = 3\n",
    "x < 8"
   ]
  },
  {
   "cell_type": "markdown",
   "metadata": {},
   "source": [
    "<code>3</code> lebih kecil dari <code>8</code> adalah __True__."
   ]
  },
  {
   "cell_type": "markdown",
   "metadata": {},
   "source": [
    "Penempatan angka pada penggunaan operator <code>></code> dan <code><</code> sangat berpengaruh.\n",
    "\n",
    "Misalnya kita coba tukar posisi operand-nya seperti di bawah ini."
   ]
  },
  {
   "cell_type": "code",
   "execution_count": null,
   "metadata": {},
   "outputs": [],
   "source": [
    "# Menggunakan operator >\n",
    "\n",
    "x = 3\n",
    "8 > x"
   ]
  },
  {
   "cell_type": "code",
   "execution_count": null,
   "metadata": {},
   "outputs": [],
   "source": [
    "# Menggunakan operator <\n",
    "\n",
    "x = 3\n",
    "8 < x"
   ]
  },
  {
   "cell_type": "markdown",
   "metadata": {},
   "source": [
    "Dalam contoh di atas, <code>8 > x</code> berarti menyatakan bahwa <code>8</code> lebih besar dari <code>x</code> atau <code>3</code>, maka output yang dihasilkan adalah __True__. Sementara itu <code>8 < x</code> menghasilkan __False__."
   ]
  },
  {
   "cell_type": "markdown",
   "metadata": {},
   "source": [
    "Sekarang kita coba gunakan operator <code>>=</code> dan <code><=</code>."
   ]
  },
  {
   "cell_type": "code",
   "execution_count": null,
   "metadata": {},
   "outputs": [],
   "source": [
    "# Menggunakan operator >=\n",
    "\n",
    "y = 5\n",
    "y >= 4"
   ]
  },
  {
   "cell_type": "code",
   "execution_count": null,
   "metadata": {},
   "outputs": [],
   "source": [
    "# Menggunakan operator <= \n",
    "\n",
    "y = 5\n",
    "y <= 4"
   ]
  },
  {
   "cell_type": "markdown",
   "metadata": {},
   "source": [
    "Kita juga dapat menggunakan operator perbandingan untuk membandingkan string. Coba jalankan <i>cell</i> di bawah ini."
   ]
  },
  {
   "cell_type": "code",
   "execution_count": null,
   "metadata": {},
   "outputs": [],
   "source": [
    "# Operator perbandingan untuk membandingkan string\n",
    "\n",
    "'ABCD' == 'Halo'"
   ]
  },
  {
   "cell_type": "markdown",
   "metadata": {},
   "source": [
    "Pada contoh di atas, sudah jelas terlihat bahwa string <code>'ABCD'</code> berbeda dengan <code>'Halo'</code>, maka menghasilkan output __False__. \n",
    "\n",
    "Kita juga dapat menggunakan operator tidak sama dengan <code>!=</code> pada string."
   ]
  },
  {
   "cell_type": "code",
   "execution_count": null,
   "metadata": {},
   "outputs": [],
   "source": [
    "# Operator perbandingan untuk membandingkan string\n",
    "\n",
    "'ABCD' != 'Halo'"
   ]
  },
  {
   "cell_type": "markdown",
   "metadata": {},
   "source": [
    "Jika menggunakan operator <code>!=</code> seperti contoh di atas, maka menghasilkan output __True__.\n",
    "\n",
    "Operator perbandingan juga dapat digunakan untuk membandingkan huruf/simbol berdasarkan kode ASCII-nya. Misalnya seperti yang kita tahu kode ASCII <b>A</b> adalah 65 dan <b>B</b> adalah 66, jika kita bandingkan <b>A</b> dan <b>B</b> maka otomatis <b>B</b> lebih besar dari <b>A</b>."
   ]
  },
  {
   "cell_type": "code",
   "execution_count": null,
   "metadata": {},
   "outputs": [],
   "source": [
    "# Membandingkan karakter\n",
    "\n",
    "'A' > 'B'"
   ]
  },
  {
   "cell_type": "code",
   "execution_count": null,
   "metadata": {},
   "outputs": [],
   "source": [
    "'B' > 'A'"
   ]
  },
  {
   "cell_type": "markdown",
   "metadata": {},
   "source": [
    "Seperti yang kita lihat dari output di atas, <code>'B' > 'A'</code> menghasilkan output __True__ karena memang kode ASCII <b>B</b> lebih besar dari <b>A</b>."
   ]
  },
  {
   "cell_type": "markdown",
   "metadata": {},
   "source": [
    "Untuk melihat cara mendapatkan kode ASCII di Python, Anda dapat merujuk pada bahasan sebelumnya tentang String."
   ]
  },
  {
   "cell_type": "markdown",
   "metadata": {},
   "source": [
    "<hr>"
   ]
  },
  {
   "cell_type": "markdown",
   "metadata": {},
   "source": [
    "## Pernyataan Kondisi"
   ]
  },
  {
   "cell_type": "markdown",
   "metadata": {},
   "source": [
    "Secara sederhana, sebuah kondisi dalam bahasa pemrograman dinyatakan dengan __if__ yang diikuti dengan sebuah perintah yang akan dijalankan jika kondisi tersebut terpenuhi. Perhatikan contoh berikut."
   ]
  },
  {
   "cell_type": "code",
   "execution_count": null,
   "metadata": {},
   "outputs": [],
   "source": [
    "# Contoh kondisi\n",
    "\n",
    "tiket = 'Yes'\n",
    "\n",
    "# Penyataan kondisi\n",
    "if tiket == 'Yes':\n",
    "    \n",
    "    # Perintah di dalam indentasi (ditulis menjorok ke dalam) yang dieksekusi jika kondisi terpenuhi\n",
    "    print('Anda boleh masuk')"
   ]
  },
  {
   "cell_type": "markdown",
   "metadata": {},
   "source": [
    "Pada contoh di atas, kita menyatakan kondisi bahwa jika memiliki tiket, maka <i>print</i> <code>Anda boleh masuk</code>. Sebelumnya kita telah mendefinisikan <code>tiket='Yes'</code> yang berarti bahwa kondisi tersebut terpenuhi, maka Python akan menjalankan kode yang ada di dalam __if__, yakni mencetak <code>Anda boleh masuk</code>. "
   ]
  },
  {
   "cell_type": "markdown",
   "metadata": {},
   "source": [
    "<div class=\"alert alert-success\" style=\"margin-top: 20px\">\n",
    "    <strong>Catatan:</strong> Di akhir bagian penyataan <b>if</b> harus diberi tanda titik dua (<b>:</b>) serta penulisan kode yang akan dieksekusi saat kondisi terpenuhi harus ditulis menjorok ke dalam (indentasi).\n",
    "</div>"
   ]
  },
  {
   "cell_type": "markdown",
   "metadata": {},
   "source": [
    "Namun, bagaimana jika kondisinya tidak terpenuhi?"
   ]
  },
  {
   "cell_type": "code",
   "execution_count": null,
   "metadata": {},
   "outputs": [],
   "source": [
    "# Contoh kondisi\n",
    "\n",
    "tiket = 'No'\n",
    "\n",
    "# Penyataan kondisi\n",
    "if tiket == 'Yes':\n",
    "    \n",
    "    # Perintah yang dieksekusi jika kondisi terpenuhi\n",
    "    print('Anda boleh masuk')"
   ]
  },
  {
   "cell_type": "markdown",
   "metadata": {},
   "source": [
    "Jika kita menjalankan kode program di atas, maka tidak akan ada output yang muncul karena kondisi tidak terpenuhi sehingga perintah di dalam __if__ tidak dieksekusi.\n",
    "\n",
    "Lalu bagaimana jika kita ingin membuat opsi lain jika kondisi tidak terpenuhi? Perhatikan bahasan selanjutnya berikut ini."
   ]
  },
  {
   "cell_type": "markdown",
   "metadata": {},
   "source": [
    "<hr>"
   ]
  },
  {
   "cell_type": "markdown",
   "metadata": {},
   "source": [
    "## Conditional Branching "
   ]
  },
  {
   "cell_type": "markdown",
   "metadata": {},
   "source": [
    "<i>Branching</i> atau percabangan adalah suatu kondisi dimana ada dua atau lebih perintah atau pernyataan untuk input yang berbeda. <i>Conditional branching</i> memungkinkan program melompat ke instruksi selanjutnya tergantung pada nilai input yang diberikan. Jadi, setiap instruksi tidak semuanya dieksekusi, melainkan hanya menjalankan instruksi yang sesuai dengan data atau input yang diberikan."
   ]
  },
  {
   "cell_type": "markdown",
   "metadata": {},
   "source": [
    "### if"
   ]
  },
  {
   "cell_type": "code",
   "execution_count": null,
   "metadata": {},
   "outputs": [],
   "source": [
    "# Contoh kondisi\n",
    "\n",
    "tiket = 'No'\n",
    "\n",
    "# Penyataan kondisi\n",
    "if tiket == 'Yes':\n",
    "    \n",
    "    # Perintah yang dieksekusi jika kondisi terpenuhi\n",
    "    print('Anda boleh masuk')\n",
    "\n",
    "# Perintah yang dieksekusi baik saat kondisi terpenuhi maupun tidak\n",
    "print('Selamat datang!')"
   ]
  },
  {
   "cell_type": "markdown",
   "metadata": {},
   "source": [
    "Pada contoh di atas, kondisi __if__ tidak terpenuhi sehingga perintah di dalam __if__ tidak dieksekusi. Namun, kode <i>cell</i> di atas tetap menghasilkan output <code>Selamat datang!</code> karena perintah tersebut ditulis sejajar dengan penyataan __if__, bukan di dalam __if__.\n",
    "\n",
    "Jika kondisi terpenuhi, maka kedua perintah tersebut dieksekusi. Coba jalankan _cell_ dibawah ini."
   ]
  },
  {
   "cell_type": "code",
   "execution_count": null,
   "metadata": {},
   "outputs": [],
   "source": [
    "# Contoh kondisi\n",
    "\n",
    "tiket = 'Yes'\n",
    "\n",
    "# Penyataan kondisi\n",
    "if tiket == 'Yes':\n",
    "    \n",
    "    # Perintah yang dieksekusi jika kondisi terpenuhi\n",
    "    print('Anda boleh masuk')\n",
    "\n",
    "# Perintah yang dieksekusi baik saat kondisi terpenuhi maupun tidak\n",
    "print('Selamat datang!')"
   ]
  },
  {
   "cell_type": "markdown",
   "metadata": {},
   "source": [
    "### if...else"
   ]
  },
  {
   "cell_type": "markdown",
   "metadata": {},
   "source": [
    "Kita juga dapat memberikan opsi lain jika kondisi tidak terpenuhi menggunakan __if...else__. Namun jika kondisi terpenuhi, maka opsi tersebut tidak dijalankan. Perhatikan dua contoh berikut."
   ]
  },
  {
   "cell_type": "markdown",
   "metadata": {},
   "source": [
    "<img src=\"../images/condition-if..else.png\" width=\"400\" align=\"center\">"
   ]
  },
  {
   "cell_type": "code",
   "execution_count": null,
   "metadata": {},
   "outputs": [],
   "source": [
    "# Contoh if...else\n",
    "\n",
    "tiket = 'Yes'\n",
    "\n",
    "# Penyataan kondisi\n",
    "if tiket == 'Yes':\n",
    "    \n",
    "    # Perintah yang dieksekusi jika kondisi terpenuhi\n",
    "    print('Anda boleh masuk')\n",
    "    \n",
    "else:\n",
    "    \n",
    "    # perintah yang dieksekusi jika kondisi tidak terpenuhi\n",
    "    print('Anda harus membeli tiket')\n",
    "    \n",
    "print('Jagalah kebersihan!')"
   ]
  },
  {
   "cell_type": "code",
   "execution_count": null,
   "metadata": {},
   "outputs": [],
   "source": [
    "# Contoh if...else\n",
    "\n",
    "tiket = 'No'\n",
    "\n",
    "# Penyataan kondisi\n",
    "if tiket == 'Yes':\n",
    "    \n",
    "    # Perintah yang dieksekusi jika kondisi terpenuhi\n",
    "    print('Anda boleh masuk')\n",
    "    \n",
    "else:\n",
    "    \n",
    "    # perintah yang dieksekusi jika kondisi tidak terpenuhi\n",
    "    print('Anda harus membeli tiket')\n",
    "    \n",
    "print('Jagalah kebersihan!')"
   ]
  },
  {
   "cell_type": "markdown",
   "metadata": {},
   "source": [
    "Mari kita lihat contoh lainnya."
   ]
  },
  {
   "cell_type": "code",
   "execution_count": null,
   "metadata": {},
   "outputs": [],
   "source": [
    "# Contoh penggunaan if...else\n",
    "\n",
    "a = 20\n",
    "\n",
    "if (a % 2 == 1):\n",
    "    print(a, 'adalah bilangan ganjil')\n",
    "else:\n",
    "    print(a, 'adalah bilangan genap')"
   ]
  },
  {
   "cell_type": "markdown",
   "metadata": {},
   "source": [
    "### if...elif"
   ]
  },
  {
   "cell_type": "markdown",
   "metadata": {},
   "source": [
    "Jika ada dua atau lebih kondisi, kita dapat menggunakan __if...elif__."
   ]
  },
  {
   "cell_type": "markdown",
   "metadata": {},
   "source": [
    "<img src=\"../images/condition-if..elif.png\" width=\"650\" align=\"center\">"
   ]
  },
  {
   "cell_type": "code",
   "execution_count": null,
   "metadata": {},
   "outputs": [],
   "source": [
    "# Contoh penggunaan if...elif\n",
    "\n",
    "usia = 20\n",
    "\n",
    "if (usia > 20):\n",
    "    print('Silahkan masuk ke ruang A')\n",
    "elif (usia == 20):\n",
    "    print('Silahkan masuk ke ruang B')\n",
    "else:\n",
    "    print('Anda tidak boleh masuk')"
   ]
  },
  {
   "cell_type": "markdown",
   "metadata": {},
   "source": [
    "Pertama, sistem akan mengecek apakah kondisi pada __if__ terpenuhi yakni <code>usia > 20</code> (usianya harus lebih dari 20 tahun). Pada contoh di atas, karena usianya genap 20 tahun, maka jelas kondisi pertama tidak terpenuhi sehingga sistem mengecek lagi ke kondisi berikutnya yakni <code>usia == 20</code> (apakah usianya 20 tahun). Kondisi ini ternyata terpenuhi, maka perintah yang akan dieksekusi adalah <code>Silahkan masuk ke ruang B</code>."
   ]
  },
  {
   "cell_type": "markdown",
   "metadata": {},
   "source": [
    "Mari kita lihat contoh lainnya."
   ]
  },
  {
   "cell_type": "code",
   "execution_count": null,
   "metadata": {},
   "outputs": [],
   "source": [
    "# Contoh if...else untuk operasi numerik\n",
    "\n",
    "harga = 35000\n",
    "\n",
    "if (harga > 20000):\n",
    "    \n",
    "    harga = harga - (harga * 0.1)\n",
    "    print('Anda mendapat diskon 10%')\n",
    "    \n",
    "elif(harga == 20000):\n",
    "    \n",
    "    harga = harga - (harga * 0.05)\n",
    "    print('Anda mendapat diskon 5%')\n",
    "    \n",
    "else:\n",
    "    \n",
    "    harga = harga\n",
    "    \n",
    "print('Total yang harus dibayar adalah Rp. {:.0f}'.format(harga))\n",
    "print('\\nTerima kasih telah berbelanja!')"
   ]
  },
  {
   "cell_type": "markdown",
   "metadata": {},
   "source": [
    "Pada contoh di atas, harga belanjaan sebesar __35000__ sehingga sudah jelas memenuhi kondisi pertama yakni <code>harga > 20000</code> sehingga dilakukan eksekusi terhadap kode perintah yang ada di dalam indentasi kondisi pertama. "
   ]
  },
  {
   "cell_type": "markdown",
   "metadata": {},
   "source": [
    "<hr>"
   ]
  },
  {
   "cell_type": "markdown",
   "metadata": {},
   "source": [
    "## Operator Logika"
   ]
  },
  {
   "cell_type": "markdown",
   "metadata": {},
   "source": [
    "Adakalanya kita ingin mengecek kondisi dari dua penyataan. Untuk kasus seperti, kita dapat menggunakan operator logika. Operator logika adalah simbol atau kata yang digunakan untuk menghubungkan dua atau lebih ekspresi untuk membuat kesimpulan yang logis, __True__ atau __False__.\n",
    "\n",
    "Ada tiga operator logika yang dapat digunakan, diantaranya:\n",
    "* <code>and</code>\n",
    "* <code>or</code>\n",
    "* <code>not</code>\n"
   ]
  },
  {
   "cell_type": "markdown",
   "metadata": {},
   "source": [
    "### and"
   ]
  },
  {
   "cell_type": "markdown",
   "metadata": {},
   "source": [
    "<code>and</code> bernilai __True__ hanya jika semua pernyataan bernilai __True__. Jika salah satu atau semuanya bernilai __False__."
   ]
  },
  {
   "cell_type": "markdown",
   "metadata": {},
   "source": [
    "<img src=\"../images/logic-and.png\" width=\"350\" align=\"center\">"
   ]
  },
  {
   "cell_type": "code",
   "execution_count": null,
   "metadata": {},
   "outputs": [],
   "source": [
    "# Contoh penggunaan operator logika 'and'\n",
    "\n",
    "nilai = 75\n",
    "\n",
    "if (nilai >= 80):\n",
    "    hm = 'A'\n",
    "elif (nilai >= 70 and nilai < 80):\n",
    "    hm = 'B'\n",
    "elif (nilai >= 60 and nilai < 70):\n",
    "    hm = 'C'\n",
    "elif (nilai >= 50 and nilai < 60):\n",
    "    hm = 'D'\n",
    "elif (nilai < 50):\n",
    "    hm = 'E'\n",
    "    \n",
    "print('Nilai akhir Anda adalah ', hm)    "
   ]
  },
  {
   "cell_type": "markdown",
   "metadata": {},
   "source": [
    "### or"
   ]
  },
  {
   "cell_type": "markdown",
   "metadata": {},
   "source": [
    "<code>or</code> bernilai __True__ jika semuanya atau salah satu pernyataan bernilai __True__, sementara itu akan bernilai __False__ jika semuanya bernilai __False__."
   ]
  },
  {
   "cell_type": "markdown",
   "metadata": {},
   "source": [
    "<img src=\"../images/logic-or.png\" width=\"350\" align=\"center\">"
   ]
  },
  {
   "cell_type": "code",
   "execution_count": null,
   "metadata": {},
   "outputs": [],
   "source": [
    "# Contoh penggunaan operator logika 'or'\n",
    "\n",
    "hm = 'D'\n",
    "\n",
    "if (hm == 'A' or hm == 'B' or hm == 'C'):\n",
    "    print('Anda Lulus!')\n",
    "else:\n",
    "    print('Anda Tidak Lulus')"
   ]
  },
  {
   "cell_type": "markdown",
   "metadata": {},
   "source": [
    "### not"
   ]
  },
  {
   "cell_type": "markdown",
   "metadata": {},
   "source": [
    "<code>not</code> memeriksa apakah pernyataannya salah atau __False__."
   ]
  },
  {
   "cell_type": "markdown",
   "metadata": {},
   "source": [
    "<img src=\"../images/logic-not.png\" width=\"250\" align=\"center\">"
   ]
  },
  {
   "cell_type": "code",
   "execution_count": null,
   "metadata": {},
   "outputs": [],
   "source": [
    "# Contoh penggunaan operator logika 'not'\n",
    "\n",
    "nilai = 90\n",
    "\n",
    "if not nilai == 100:\n",
    "    print('Tidak Lulus!')\n",
    "else:\n",
    "    print('Lulus!')"
   ]
  },
  {
   "cell_type": "markdown",
   "metadata": {},
   "source": [
    "<hr>"
   ]
  },
  {
   "cell_type": "markdown",
   "metadata": {},
   "source": [
    "## Latihan: Seleksi Kondisi"
   ]
  },
  {
   "cell_type": "markdown",
   "metadata": {},
   "source": [
    "Pada bagian ini, silahkan Anda menguji pemahaman Anda tentang seleksi kondisi yang telah disampaikan di atas. Jika Anda masih bingung, Anda dapat melihat contoh jawaban yang telah disediakan di bawah <i>cell</i> dari masing-masing soal."
   ]
  },
  {
   "cell_type": "markdown",
   "metadata": {},
   "source": [
    "### No. 1\n",
    "\n",
    "Buatlah sebuah kondisi if untuk menentukan apakah sebuah baju yang dijual memiliki rating lebih dari atau sama dengan 4. Uji kondisi tersebut dengan rating bernilai 4.5 dan cetak output \"Baju ini bagus\" jika kondisi bernilai true."
   ]
  },
  {
   "cell_type": "code",
   "execution_count": null,
   "metadata": {},
   "outputs": [],
   "source": [
    "# Ketik kode Anda disini\n",
    "\n"
   ]
  },
  {
   "cell_type": "markdown",
   "metadata": {},
   "source": [
    "Klik dua kali __disini__ untuk melihat jawaban.\n",
    "\n",
    "<!-- Jawaban:\n",
    "\n",
    "rating = 4.5\n",
    "\n",
    "if (rating >= 4):\n",
    "    print('Baju ini bagus')\n",
    "    \n",
    "-->"
   ]
  },
  {
   "cell_type": "markdown",
   "metadata": {},
   "source": [
    "### No. 2\n",
    "\n",
    "Buatlah sebuah kondisi if untuk menentukan apakah seseorang akan pergi ke supermarket atau tidak. Jika tidak hujan, dia akan pergi ke supermarket, namun jika hujan, dia akan tidur siang. Uji kondisi tersebut dengan <code>hujan = 'ya'</code>."
   ]
  },
  {
   "cell_type": "code",
   "execution_count": null,
   "metadata": {},
   "outputs": [],
   "source": [
    "# Ketik kode Anda disini\n",
    "\n"
   ]
  },
  {
   "cell_type": "markdown",
   "metadata": {},
   "source": [
    "Klik dua kali __disini__ untuk melihat jawaban.\n",
    "\n",
    "<!-- Jawaban\n",
    "\n",
    "hujan = 'ya'\n",
    "\n",
    "if (hujan == 'tidak'):\n",
    "    print('Pergi ke supermarket')\n",
    "else:\n",
    "    print('Tidur siang')\n",
    "    \n",
    "-->"
   ]
  },
  {
   "cell_type": "markdown",
   "metadata": {},
   "source": [
    "### No. 3\n",
    "\n",
    "Buatlah sebuah kondisi if untuk menentukan warna balon yang akan diberikan pada anak-anak. Jika anak tersebut berusia kurang dari 2 tahun, beri balon merah. Jika berusia antara 2 tahun sampai 5 tahun, beri balon kuning. Jika berusia lebih dari 5 tahun, beri balon hijau. Uji kondisi tersebut dengan usia 3 tahun."
   ]
  },
  {
   "cell_type": "code",
   "execution_count": null,
   "metadata": {},
   "outputs": [],
   "source": [
    "# Ketik kode Anda disini\n",
    "\n"
   ]
  },
  {
   "cell_type": "markdown",
   "metadata": {},
   "source": [
    "Klik dua kali __disini__ untuk melihat jawaban.\n",
    "\n",
    "<!-- Jawaban\n",
    "\n",
    "usia = 3\n",
    "\n",
    "if (usia < 2):\n",
    "    print('Balon merah')\n",
    "elif (usia >= 2 and usia <= 5):\n",
    "    print('Balon kuning')\n",
    "elif (usia > 5):\n",
    "    print('Balon hijau')\n",
    "    \n",
    "-->"
   ]
  },
  {
   "cell_type": "markdown",
   "metadata": {},
   "source": [
    "<hr>"
   ]
  },
  {
   "cell_type": "markdown",
   "metadata": {},
   "source": [
    "Copyright @ <a href=\"https://ilmudatapy.com/\">ilmudatapy.com</a>"
   ]
  }
 ],
 "metadata": {
  "kernelspec": {
   "display_name": "Python 3",
   "language": "python",
   "name": "python3"
  },
  "language_info": {
   "codemirror_mode": {
    "name": "ipython",
    "version": 3
   },
   "file_extension": ".py",
   "mimetype": "text/x-python",
   "name": "python",
   "nbconvert_exporter": "python",
   "pygments_lexer": "ipython3",
   "version": "3.7.3"
  }
 },
 "nbformat": 4,
 "nbformat_minor": 2
}
